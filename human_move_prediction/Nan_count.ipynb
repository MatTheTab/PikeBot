{
 "cells": [
  {
   "cell_type": "markdown",
   "metadata": {},
   "source": [
    "# Extra: Checking for Nans"
   ]
  },
  {
   "cell_type": "code",
   "execution_count": 1,
   "metadata": {
    "execution": {
     "iopub.execute_input": "2024-10-05T14:42:29.381226Z",
     "iopub.status.busy": "2024-10-05T14:42:29.380977Z",
     "iopub.status.idle": "2024-10-05T14:42:34.249559Z",
     "shell.execute_reply": "2024-10-05T14:42:34.249185Z"
    }
   },
   "outputs": [
    {
     "name": "stderr",
     "output_type": "stream",
     "text": [
      "2024-10-05 16:42:30.992894: I tensorflow/core/platform/cpu_feature_guard.cc:182] This TensorFlow binary is optimized to use available CPU instructions in performance-critical operations.\n",
      "To enable the following instructions: SSE4.1 SSE4.2 AVX AVX2 FMA, in other operations, rebuild TensorFlow with the appropriate compiler flags.\n"
     ]
    },
    {
     "data": {
      "text/plain": [
       "1041253"
      ]
     },
     "execution_count": 1,
     "metadata": {},
     "output_type": "execute_result"
    }
   ],
   "source": [
    "from utils.model_utils import *\n",
    "\n",
    "\n",
    "TRAIN_GENERATOR_PATH = \"./Generators/train_generator.pkl\"\n",
    "VAL_GENERATOR_PATH = \"./Generators/val_generator.pkl\"\n",
    "TEST_GENERATOR_PATH = \"./Generators/test_generator.pkl\"\n",
    "\n",
    "\n",
    "train_generator = efficent_load_object(TRAIN_GENERATOR_PATH)\n",
    "train_generator.__len__()"
   ]
  },
  {
   "cell_type": "code",
   "execution_count": 2,
   "metadata": {
    "execution": {
     "iopub.execute_input": "2024-10-05T14:42:34.251205Z",
     "iopub.status.busy": "2024-10-05T14:42:34.250976Z",
     "iopub.status.idle": "2024-10-05T14:42:36.380301Z",
     "shell.execute_reply": "2024-10-05T14:42:36.379941Z"
    }
   },
   "outputs": [
    {
     "data": {
      "text/plain": [
       "105374"
      ]
     },
     "execution_count": 2,
     "metadata": {},
     "output_type": "execute_result"
    }
   ],
   "source": [
    "val_generator = efficent_load_object(VAL_GENERATOR_PATH)\n",
    "val_generator.__len__()"
   ]
  },
  {
   "cell_type": "code",
   "execution_count": 3,
   "metadata": {
    "execution": {
     "iopub.execute_input": "2024-10-05T14:42:36.382113Z",
     "iopub.status.busy": "2024-10-05T14:42:36.381944Z",
     "iopub.status.idle": "2024-10-05T14:42:38.442877Z",
     "shell.execute_reply": "2024-10-05T14:42:38.442513Z"
    }
   },
   "outputs": [
    {
     "data": {
      "text/plain": [
       "104725"
      ]
     },
     "execution_count": 3,
     "metadata": {},
     "output_type": "execute_result"
    }
   ],
   "source": [
    "test_generator = efficent_load_object(TEST_GENERATOR_PATH)\n",
    "test_generator.__len__()"
   ]
  },
  {
   "cell_type": "code",
   "execution_count": 4,
   "metadata": {
    "execution": {
     "iopub.execute_input": "2024-10-05T14:42:38.444606Z",
     "iopub.status.busy": "2024-10-05T14:42:38.444410Z",
     "iopub.status.idle": "2024-10-05T14:42:38.447269Z",
     "shell.execute_reply": "2024-10-05T14:42:38.446924Z"
    }
   },
   "outputs": [],
   "source": [
    "def count_nans(loader):\n",
    "    total_examples = 0\n",
    "    total_nums = 0\n",
    "    for X_train, y_train in loader:\n",
    "        if X_train is None and y_train is None:\n",
    "            break\n",
    "        total_examples += len(y_train)\n",
    "        hanging_vals, bitboards = separate_hanging_and_bitboards(X_train)\n",
    "        hanging_vals = hanging_vals.astype(np.float32)\n",
    "        nan_count = np.isnan(hanging_vals).sum()\n",
    "        total_nums += nan_count\n",
    "    return total_nums, total_examples"
   ]
  },
  {
   "cell_type": "code",
   "execution_count": 5,
   "metadata": {
    "execution": {
     "iopub.execute_input": "2024-10-05T14:42:38.448810Z",
     "iopub.status.busy": "2024-10-05T14:42:38.448650Z",
     "iopub.status.idle": "2024-10-05T16:04:03.688611Z",
     "shell.execute_reply": "2024-10-05T16:04:03.688183Z"
    }
   },
   "outputs": [
    {
     "name": "stdout",
     "output_type": "stream",
     "text": [
      "Total number Examples: 66640192\n",
      "Total Number of NaNs: 46177\n",
      "Relative: 0.0007\n"
     ]
    }
   ],
   "source": [
    "total_nums, total_examples = count_nans(train_generator)\n",
    "print(f\"Total number Examples: {total_examples}\")\n",
    "print(f\"Total Number of NaNs: {total_nums}\")\n",
    "print(f\"Relative: {round(total_nums/total_examples, 4)}\")"
   ]
  },
  {
   "cell_type": "code",
   "execution_count": 6,
   "metadata": {
    "execution": {
     "iopub.execute_input": "2024-10-05T16:04:03.690357Z",
     "iopub.status.busy": "2024-10-05T16:04:03.690185Z",
     "iopub.status.idle": "2024-10-05T16:12:11.626478Z",
     "shell.execute_reply": "2024-10-05T16:12:11.626074Z"
    }
   },
   "outputs": [
    {
     "name": "stdout",
     "output_type": "stream",
     "text": [
      "Total number Examples: 6743936\n",
      "Total Number of NaNs: 4851\n",
      "Relative: 0.0007\n"
     ]
    }
   ],
   "source": [
    "total_nums, total_examples = count_nans(val_generator)\n",
    "print(f\"Total number Examples: {total_examples}\")\n",
    "print(f\"Total Number of NaNs: {total_nums}\")\n",
    "print(f\"Relative: {round(total_nums/total_examples, 4)}\")"
   ]
  },
  {
   "cell_type": "code",
   "execution_count": 7,
   "metadata": {
    "execution": {
     "iopub.execute_input": "2024-10-05T16:12:11.628195Z",
     "iopub.status.busy": "2024-10-05T16:12:11.628037Z",
     "iopub.status.idle": "2024-10-05T16:20:16.069339Z",
     "shell.execute_reply": "2024-10-05T16:20:16.068966Z"
    }
   },
   "outputs": [
    {
     "name": "stdout",
     "output_type": "stream",
     "text": [
      "Total number Examples: 6702400\n",
      "Total Number of NaNs: 5319\n",
      "Relative: 0.0008\n"
     ]
    }
   ],
   "source": [
    "total_nums, total_examples = count_nans(test_generator)\n",
    "print(f\"Total number Examples: {total_examples}\")\n",
    "print(f\"Total Number of NaNs: {total_nums}\")\n",
    "print(f\"Relative: {round(total_nums/total_examples, 4)}\")"
   ]
  }
 ],
 "metadata": {
  "kernelspec": {
   "display_name": "Pike_Env",
   "language": "python",
   "name": "python3"
  },
  "language_info": {
   "codemirror_mode": {
    "name": "ipython",
    "version": 3
   },
   "file_extension": ".py",
   "mimetype": "text/x-python",
   "name": "python",
   "nbconvert_exporter": "python",
   "pygments_lexer": "ipython3",
   "version": "3.10.13"
  }
 },
 "nbformat": 4,
 "nbformat_minor": 2
}
