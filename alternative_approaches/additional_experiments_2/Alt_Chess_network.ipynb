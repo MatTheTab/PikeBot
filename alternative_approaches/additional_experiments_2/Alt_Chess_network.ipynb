{
 "cells": [
  {
   "cell_type": "markdown",
   "metadata": {},
   "source": [
    "# Alternative Neural Network Design"
   ]
  },
  {
   "cell_type": "markdown",
   "metadata": {},
   "source": [
    "## Imports"
   ]
  },
  {
   "cell_type": "code",
   "execution_count": 1,
   "metadata": {},
   "outputs": [
    {
     "name": "stderr",
     "output_type": "stream",
     "text": [
      "2024-12-23 12:22:12.904647: I tensorflow/core/platform/cpu_feature_guard.cc:182] This TensorFlow binary is optimized to use available CPU instructions in performance-critical operations.\n",
      "To enable the following instructions: SSE4.1 SSE4.2 AVX AVX2 AVX512F AVX512_VNNI AVX512_BF16 FMA, in other operations, rebuild TensorFlow with the appropriate compiler flags.\n"
     ]
    }
   ],
   "source": [
    "from utils.AltExperiment_utils import *"
   ]
  },
  {
   "cell_type": "markdown",
   "metadata": {},
   "source": [
    "## Variable Declarations"
   ]
  },
  {
   "cell_type": "code",
   "execution_count": 2,
   "metadata": {},
   "outputs": [],
   "source": [
    "acceptable_moves_ranges = [5, 15, 30, np.inf]\n",
    "\n",
    "train_data_file_path = \"Data/Train/lichess_db_standard_rated_2024-01.pgn.zst\"\n",
    "val_data_file_path = \"Data/Val/lichess_db_standard_rated_2024-02.pgn.zst\"\n",
    "test_data_file_path = \"Data/Test/lichess_db_standard_rated_2024-03.pgn.zst\"\n",
    "\n",
    "total_number_games = 500000\n",
    "txt_file_dir = \"Columns/\"\n",
    "games_in_batch = 10000\n",
    "moves_batch = 4096*2\n",
    "\n",
    "train_results_dir = \"Train/\"\n",
    "val_results_dir = \"Val/\"\n",
    "test_results_dir = \"Test/\"\n",
    "\n",
    "only_classical = 1\n",
    "verbose = True\n",
    "model_dir = \"Model/\"\n",
    "model_lr = 2e-5\n",
    "\n",
    "train_dir = train_results_dir\n",
    "val_dir = val_results_dir\n",
    "test_dir = test_results_dir\n",
    "\n",
    "model_class = AltChessModel\n",
    "train_log_dir = \"Logs/\"\n",
    "num_epochs = 30\n",
    "column_file_location = \"./Columns/column_names.txt\""
   ]
  },
  {
   "cell_type": "markdown",
   "metadata": {},
   "source": [
    "## Model"
   ]
  },
  {
   "cell_type": "code",
   "execution_count": 3,
   "metadata": {},
   "outputs": [
    {
     "name": "stdout",
     "output_type": "stream",
     "text": [
      "Output1: torch.Size([64, 1])\n",
      "Output2: torch.Size([64, 1])\n"
     ]
    }
   ],
   "source": [
    "model = AltChessModel()\n",
    "input_tensor = torch.randn(64, 79, 8, 8)\n",
    "output1, output2 = model(input_tensor)\n",
    "print(\"Output1:\", output1.shape)\n",
    "print(\"Output2:\", output2.shape)"
   ]
  },
  {
   "cell_type": "code",
   "execution_count": 4,
   "metadata": {},
   "outputs": [
    {
     "name": "stdout",
     "output_type": "stream",
     "text": [
      "Number of parameters in milions: 3.58\n"
     ]
    }
   ],
   "source": [
    "num_params = count_parameters(model)\n",
    "del model\n",
    "print(f\"Number of parameters in milions: {num_params/1e6 :.2f}\")"
   ]
  },
  {
   "cell_type": "markdown",
   "metadata": {},
   "source": [
    "## Experiment"
   ]
  },
  {
   "cell_type": "code",
   "execution_count": null,
   "metadata": {},
   "outputs": [],
   "source": [
    "process_all_move_ranges(acceptable_moves_ranges, train_data_file_path, total_number_games, txt_file_dir, games_in_batch, moves_batch, train_results_dir, only_classical, verbose)\n",
    "process_all_move_ranges(acceptable_moves_ranges, val_data_file_path, total_number_games, txt_file_dir, games_in_batch, moves_batch, val_results_dir, only_classical, verbose)\n",
    "process_all_move_ranges(acceptable_moves_ranges, test_data_file_path, total_number_games, txt_file_dir, games_in_batch, moves_batch, test_results_dir, only_classical, verbose)\n",
    "\n",
    "train_alt_chess_model(acceptable_moves_ranges, model_dir, model_lr, train_dir, val_dir, test_dir, model_class, train_log_dir, num_epochs, column_file_location, verbose = 1)"
   ]
  }
 ],
 "metadata": {
  "kernelspec": {
   "display_name": "PikeBot",
   "language": "python",
   "name": "python3"
  },
  "language_info": {
   "codemirror_mode": {
    "name": "ipython",
    "version": 3
   },
   "file_extension": ".py",
   "mimetype": "text/x-python",
   "name": "python",
   "nbconvert_exporter": "python",
   "pygments_lexer": "ipython3",
   "version": "3.10.13"
  }
 },
 "nbformat": 4,
 "nbformat_minor": 2
}
