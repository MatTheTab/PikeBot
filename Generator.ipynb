{
 "cells": [
  {
   "cell_type": "markdown",
   "metadata": {},
   "source": [
    "# 3: Data Generator Notebook"
   ]
  },
  {
   "cell_type": "markdown",
   "metadata": {},
   "source": [
    "## Imports"
   ]
  },
  {
   "cell_type": "code",
   "execution_count": 1,
   "metadata": {
    "execution": {
     "iopub.execute_input": "2024-10-04T16:07:49.073903Z",
     "iopub.status.busy": "2024-10-04T16:07:49.073635Z",
     "iopub.status.idle": "2024-10-04T16:07:51.099839Z",
     "shell.execute_reply": "2024-10-04T16:07:51.099409Z"
    }
   },
   "outputs": [
    {
     "name": "stderr",
     "output_type": "stream",
     "text": [
      "2024-10-04 18:07:49.563798: I tensorflow/core/platform/cpu_feature_guard.cc:182] This TensorFlow binary is optimized to use available CPU instructions in performance-critical operations.\n",
      "To enable the following instructions: SSE4.1 SSE4.2 AVX AVX2 FMA, in other operations, rebuild TensorFlow with the appropriate compiler flags.\n"
     ]
    }
   ],
   "source": [
    "from utils.generator_utils import *"
   ]
  },
  {
   "cell_type": "markdown",
   "metadata": {},
   "source": [
    "## Generator Definitions"
   ]
  },
  {
   "cell_type": "code",
   "execution_count": 2,
   "metadata": {
    "execution": {
     "iopub.execute_input": "2024-10-04T16:07:51.101881Z",
     "iopub.status.busy": "2024-10-04T16:07:51.101637Z",
     "iopub.status.idle": "2024-10-04T17:24:30.578859Z",
     "shell.execute_reply": "2024-10-04T17:24:30.578427Z"
    }
   },
   "outputs": [],
   "source": [
    "train_folder = './Model_Data/Train'\n",
    "train_column_names_file = './Model_Data/Train/column_names.txt'\n",
    "val_folder = './Model_Data/Val'\n",
    "val_column_names_file = './Model_Data/Val/column_names.txt'\n",
    "test_folder = './Model_Data/Test'\n",
    "test_column_names_file = './Model_Data/Test/column_names.txt'\n",
    "batch_size = 64\n",
    "\n",
    "train_generator = NPYSequence(train_folder, train_column_names_file, batch_size=batch_size)\n",
    "val_generator = NPYSequence(val_folder, val_column_names_file, batch_size=batch_size)\n",
    "test_generator = NPYSequence(test_folder, test_column_names_file, batch_size=batch_size)"
   ]
  },
  {
   "cell_type": "markdown",
   "metadata": {},
   "source": [
    "## Generator Tests"
   ]
  },
  {
   "cell_type": "code",
   "execution_count": 3,
   "metadata": {
    "execution": {
     "iopub.execute_input": "2024-10-04T17:24:30.580787Z",
     "iopub.status.busy": "2024-10-04T17:24:30.580599Z",
     "iopub.status.idle": "2024-10-04T17:24:30.584835Z",
     "shell.execute_reply": "2024-10-04T17:24:30.584530Z"
    }
   },
   "outputs": [
    {
     "data": {
      "text/plain": [
       "1041253"
      ]
     },
     "execution_count": 3,
     "metadata": {},
     "output_type": "execute_result"
    }
   ],
   "source": [
    "train_generator.__len__()"
   ]
  },
  {
   "cell_type": "code",
   "execution_count": 4,
   "metadata": {
    "execution": {
     "iopub.execute_input": "2024-10-04T17:24:30.586414Z",
     "iopub.status.busy": "2024-10-04T17:24:30.586249Z",
     "iopub.status.idle": "2024-10-04T17:24:30.588806Z",
     "shell.execute_reply": "2024-10-04T17:24:30.588516Z"
    }
   },
   "outputs": [
    {
     "data": {
      "text/plain": [
       "105374"
      ]
     },
     "execution_count": 4,
     "metadata": {},
     "output_type": "execute_result"
    }
   ],
   "source": [
    "val_generator.__len__()"
   ]
  },
  {
   "cell_type": "code",
   "execution_count": 5,
   "metadata": {
    "execution": {
     "iopub.execute_input": "2024-10-04T17:24:30.590284Z",
     "iopub.status.busy": "2024-10-04T17:24:30.590149Z",
     "iopub.status.idle": "2024-10-04T17:24:30.592605Z",
     "shell.execute_reply": "2024-10-04T17:24:30.592303Z"
    }
   },
   "outputs": [
    {
     "data": {
      "text/plain": [
       "104725"
      ]
     },
     "execution_count": 5,
     "metadata": {},
     "output_type": "execute_result"
    }
   ],
   "source": [
    "test_generator.__len__()"
   ]
  },
  {
   "cell_type": "markdown",
   "metadata": {},
   "source": [
    "## Saving and Loading Generators"
   ]
  },
  {
   "cell_type": "code",
   "execution_count": 6,
   "metadata": {
    "execution": {
     "iopub.execute_input": "2024-10-04T17:24:30.594197Z",
     "iopub.status.busy": "2024-10-04T17:24:30.594050Z",
     "iopub.status.idle": "2024-10-04T17:24:34.516182Z",
     "shell.execute_reply": "2024-10-04T17:24:34.515740Z"
    }
   },
   "outputs": [
    {
     "data": {
      "text/plain": [
       "1041253"
      ]
     },
     "execution_count": 6,
     "metadata": {},
     "output_type": "execute_result"
    }
   ],
   "source": [
    "save_object(train_generator, \"./Generators/train_generator.pkl\")\n",
    "train_generator = load_object(\"./Generators/train_generator.pkl\")\n",
    "train_generator.__len__()"
   ]
  },
  {
   "cell_type": "code",
   "execution_count": 7,
   "metadata": {
    "execution": {
     "iopub.execute_input": "2024-10-04T17:24:34.529170Z",
     "iopub.status.busy": "2024-10-04T17:24:34.528976Z",
     "iopub.status.idle": "2024-10-04T17:24:38.458813Z",
     "shell.execute_reply": "2024-10-04T17:24:38.458461Z"
    }
   },
   "outputs": [
    {
     "data": {
      "text/plain": [
       "105374"
      ]
     },
     "execution_count": 7,
     "metadata": {},
     "output_type": "execute_result"
    }
   ],
   "source": [
    "save_object(val_generator, \"./Generators/val_generator.pkl\")\n",
    "val_generator = load_object(\"./Generators/val_generator.pkl\")\n",
    "val_generator.__len__()"
   ]
  },
  {
   "cell_type": "code",
   "execution_count": 8,
   "metadata": {
    "execution": {
     "iopub.execute_input": "2024-10-04T17:24:38.460586Z",
     "iopub.status.busy": "2024-10-04T17:24:38.460408Z",
     "iopub.status.idle": "2024-10-04T17:24:42.305948Z",
     "shell.execute_reply": "2024-10-04T17:24:42.305585Z"
    }
   },
   "outputs": [
    {
     "data": {
      "text/plain": [
       "104725"
      ]
     },
     "execution_count": 8,
     "metadata": {},
     "output_type": "execute_result"
    }
   ],
   "source": [
    "save_object(test_generator, \"./Generators/test_generator.pkl\")\n",
    "test_generator = load_object(\"./Generators/test_generator.pkl\")\n",
    "test_generator.__len__()"
   ]
  }
 ],
 "metadata": {
  "kernelspec": {
   "display_name": "Python 3",
   "language": "python",
   "name": "python3"
  },
  "language_info": {
   "codemirror_mode": {
    "name": "ipython",
    "version": 3
   },
   "file_extension": ".py",
   "mimetype": "text/x-python",
   "name": "python",
   "nbconvert_exporter": "python",
   "pygments_lexer": "ipython3",
   "version": "3.10.13"
  }
 },
 "nbformat": 4,
 "nbformat_minor": 2
}
