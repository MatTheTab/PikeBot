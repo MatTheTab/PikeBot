{
 "cells": [
  {
   "cell_type": "markdown",
   "metadata": {},
   "source": [
    "# 2: Preprocessing"
   ]
  },
  {
   "cell_type": "code",
   "execution_count": 1,
   "metadata": {},
   "outputs": [],
   "source": [
    "from utils.preprocess_utils import *"
   ]
  },
  {
   "cell_type": "markdown",
   "metadata": {},
   "source": [
    "## Complete Preprocessing"
   ]
  },
  {
   "cell_type": "code",
   "execution_count": 2,
   "metadata": {},
   "outputs": [],
   "source": [
    "#IMPORTANT: For the sake of processing, in the future we will leave more columns\n",
    "\n",
    "df_train = read(data_file = \"./Preprocessed_Data\\Train\\game_batch_0.npy.gz\", column_names_file = \"./Preprocessed_Data\\Train\\column_names.txt\")\n",
    "all_columns = df_train.columns\n",
    "cols_to_leave = [\"human\", \"elo\", \"color\", \"stockfish_score_depth_8\", \"stockfish_difference_depth_8\", \"current_move\", \"event\"]\n",
    "delete_cols = list(set(all_columns) - set(cols_to_leave))\n",
    "delete_cols += [\"bullet\", \"rapid\", \"classic\", \"blitz\", \"rated\"]"
   ]
  },
  {
   "cell_type": "code",
   "execution_count": 3,
   "metadata": {},
   "outputs": [
    {
     "data": {
      "text/plain": [
       "['stockfish_difference_depth_3',\n",
       " 'stockfish_score_depth_16',\n",
       " 'past_move_8',\n",
       " 'past_move_5',\n",
       " 'player',\n",
       " 'stockfish_difference_depth_1',\n",
       " 'current_move_str',\n",
       " 'past_move_2',\n",
       " 'stockfish_score_depth_12',\n",
       " 'stockfish_difference_depth_10',\n",
       " 'stockfish_score_depth_2',\n",
       " 'stockfish_score_depth_10',\n",
       " 'stockfish_difference_depth_5',\n",
       " 'stockfish_score_depth_3',\n",
       " 'clock',\n",
       " 'past_move_1',\n",
       " 'stockfish_score_depth_18',\n",
       " 'stockfish_difference_depth_12',\n",
       " 'stockfish_difference_depth_16',\n",
       " 'stockfish_score_depth_20',\n",
       " 'stockfish_difference_depth_18',\n",
       " 'past_move_6',\n",
       " 'past_move_9',\n",
       " 'stockfish_score_depth_5',\n",
       " 'past_move_4',\n",
       " 'stockfish_score_depth_4',\n",
       " 'past_move_3',\n",
       " 'stockfish_difference_depth_2',\n",
       " 'stockfish_difference_depth_15',\n",
       " 'past_move_11',\n",
       " 'past_move_12',\n",
       " 'stockfish_score_depth_15',\n",
       " 'stockfish_difference_depth_20',\n",
       " 'past_move_7',\n",
       " 'past_move_10',\n",
       " 'stockfish_score_depth_1',\n",
       " 'stockfish_difference_depth_4',\n",
       " 'bullet',\n",
       " 'rapid',\n",
       " 'classic',\n",
       " 'blitz',\n",
       " 'rated']"
      ]
     },
     "execution_count": 3,
     "metadata": {},
     "output_type": "execute_result"
    }
   ],
   "source": [
    "delete_cols"
   ]
  },
  {
   "cell_type": "code",
   "execution_count": 4,
   "metadata": {},
   "outputs": [
    {
     "data": {
      "text/plain": [
       "['human',\n",
       " 'stockfish_score_depth_1',\n",
       " 'stockfish_difference_depth_1',\n",
       " 'stockfish_score_depth_2',\n",
       " 'stockfish_difference_depth_2',\n",
       " 'stockfish_score_depth_3',\n",
       " 'stockfish_difference_depth_3',\n",
       " 'stockfish_score_depth_4',\n",
       " 'stockfish_difference_depth_4',\n",
       " 'stockfish_score_depth_5',\n",
       " 'stockfish_difference_depth_5',\n",
       " 'stockfish_score_depth_8',\n",
       " 'stockfish_difference_depth_8',\n",
       " 'stockfish_score_depth_10',\n",
       " 'stockfish_difference_depth_10',\n",
       " 'stockfish_score_depth_12',\n",
       " 'stockfish_difference_depth_12',\n",
       " 'stockfish_score_depth_15',\n",
       " 'stockfish_difference_depth_15',\n",
       " 'stockfish_score_depth_16',\n",
       " 'stockfish_difference_depth_16',\n",
       " 'stockfish_score_depth_18',\n",
       " 'stockfish_difference_depth_18',\n",
       " 'stockfish_score_depth_20',\n",
       " 'stockfish_difference_depth_20']"
      ]
     },
     "execution_count": 4,
     "metadata": {},
     "output_type": "execute_result"
    }
   ],
   "source": [
    "cols_change_types = [\"human\"]\n",
    "for col in df_train.columns:\n",
    "    if \"stockfish\" in col:\n",
    "        cols_change_types.append(col)\n",
    "        \n",
    "new_types = [\"int\"]\n",
    "while len(new_types) < len(cols_change_types):\n",
    "    new_types.append(np.float32)\n",
    "\n",
    "cols_change_types"
   ]
  },
  {
   "cell_type": "code",
   "execution_count": 5,
   "metadata": {},
   "outputs": [
    {
     "data": {
      "text/plain": [
       "['stockfish_score_depth_1',\n",
       " 'stockfish_difference_depth_1',\n",
       " 'stockfish_score_depth_2',\n",
       " 'stockfish_difference_depth_2',\n",
       " 'stockfish_score_depth_3',\n",
       " 'stockfish_difference_depth_3',\n",
       " 'stockfish_score_depth_4',\n",
       " 'stockfish_difference_depth_4',\n",
       " 'stockfish_score_depth_5',\n",
       " 'stockfish_difference_depth_5',\n",
       " 'stockfish_score_depth_8',\n",
       " 'stockfish_difference_depth_8',\n",
       " 'stockfish_score_depth_10',\n",
       " 'stockfish_difference_depth_10',\n",
       " 'stockfish_score_depth_12',\n",
       " 'stockfish_difference_depth_12',\n",
       " 'stockfish_score_depth_15',\n",
       " 'stockfish_difference_depth_15',\n",
       " 'stockfish_score_depth_16',\n",
       " 'stockfish_difference_depth_16',\n",
       " 'stockfish_score_depth_18',\n",
       " 'stockfish_difference_depth_18',\n",
       " 'stockfish_score_depth_20',\n",
       " 'stockfish_difference_depth_20']"
      ]
     },
     "execution_count": 5,
     "metadata": {},
     "output_type": "execute_result"
    }
   ],
   "source": [
    "cols_to_standardize = cols_change_types[1:]\n",
    "cols_to_standardize"
   ]
  },
  {
   "cell_type": "code",
   "execution_count": 6,
   "metadata": {},
   "outputs": [],
   "source": [
    "train_mins_list, train_maxs_list, train_means_list, train_stds_list = preprocess_all(save_name = \"Train_Batch\", target_directory = \"Model_Data\\Train\", directory = \"Preprocessed_Data\\\\Train\", columns_to_change_types = cols_change_types, new_types = new_types, columns_to_map = [\"color\"], str_vals = [\"White\"], columns_to_one_hot = [\"event\"], key_strings = [[\"bullet\", \"rapid\", \"classic\", \"blitz\", \"rated\"]],\n",
    "               columns_to_divide = [\"elo\"], divide_val = [3000], cols_to_normalize = [\"clock\"], cols_to_standardize = cols_to_standardize, columns_to_drop = delete_cols)"
   ]
  },
  {
   "cell_type": "code",
   "execution_count": 7,
   "metadata": {},
   "outputs": [],
   "source": [
    "val_mins_list, val_maxs_list, val_means_list, val_stds_list = preprocess_all(save_name = \"Val_Batch\", target_directory = \"Model_Data\\Val\", directory = \"Preprocessed_Data\\\\Val\", columns_to_change_types = cols_change_types, new_types = new_types, columns_to_map = [\"color\"], str_vals = [\"White\"], columns_to_one_hot = [\"event\"], key_strings = [[\"bullet\", \"rapid\", \"classic\", \"blitz\", \"rated\"]],\n",
    "               columns_to_divide = [\"elo\"], divide_val = [3000], cols_to_normalize = [\"clock\"], cols_to_standardize = cols_to_standardize, columns_to_drop = delete_cols)"
   ]
  },
  {
   "cell_type": "code",
   "execution_count": 8,
   "metadata": {},
   "outputs": [],
   "source": [
    "test_mins_list, test_maxs_list, test_means_list, test_stds_list = preprocess_all(save_name = \"Test_Batch\", target_directory = \"Model_Data\\Test\", directory = \"Preprocessed_Data\\\\Test\", columns_to_change_types = cols_change_types, new_types = new_types, columns_to_map = [\"color\"], str_vals = [\"White\"], columns_to_one_hot = [\"event\"], key_strings = [[\"bullet\", \"rapid\", \"classic\", \"blitz\", \"rated\"]],\n",
    "               columns_to_divide = [\"elo\"], divide_val = [3000], cols_to_normalize = [\"clock\"], cols_to_standardize = cols_to_standardize, columns_to_drop = delete_cols)"
   ]
  },
  {
   "cell_type": "code",
   "execution_count": 9,
   "metadata": {},
   "outputs": [],
   "source": [
    "metadata = [(\"train_mins_list\", train_mins_list),\n",
    "            (\"train_maxs_list\", train_maxs_list),\n",
    "            (\"train_means_list\", train_means_list),\n",
    "            (\"train_stds_list\", train_stds_list),\n",
    "            (\"val_mins_list\", val_mins_list),\n",
    "            (\"val_maxs_list\", val_maxs_list),\n",
    "            (\"val_means_list\", val_means_list),\n",
    "            (\"val_stds_list\", val_stds_list),\n",
    "            (\"test_mins_list\", test_mins_list),\n",
    "            (\"test_maxs_list\", test_maxs_list),\n",
    "            (\"test_means_list\", test_means_list),\n",
    "            (\"test_stds_list\", test_stds_list)]\n",
    "\n",
    "for arr_name, meta_array in metadata:\n",
    "    meta_array = np.array(meta_array)\n",
    "    file_save = f\"./Model_Data\\Metadata\\{arr_name}.npy\"\n",
    "    np.save(file_save, meta_array)"
   ]
  },
  {
   "cell_type": "code",
   "execution_count": 10,
   "metadata": {},
   "outputs": [
    {
     "data": {
      "text/html": [
       "<div>\n",
       "<style scoped>\n",
       "    .dataframe tbody tr th:only-of-type {\n",
       "        vertical-align: middle;\n",
       "    }\n",
       "\n",
       "    .dataframe tbody tr th {\n",
       "        vertical-align: top;\n",
       "    }\n",
       "\n",
       "    .dataframe thead th {\n",
       "        text-align: right;\n",
       "    }\n",
       "</style>\n",
       "<table border=\"1\" class=\"dataframe\">\n",
       "  <thead>\n",
       "    <tr style=\"text-align: right;\">\n",
       "      <th></th>\n",
       "      <th>human</th>\n",
       "      <th>elo</th>\n",
       "      <th>color</th>\n",
       "      <th>stockfish_score_depth_8</th>\n",
       "      <th>stockfish_difference_depth_8</th>\n",
       "      <th>current_move</th>\n",
       "    </tr>\n",
       "  </thead>\n",
       "  <tbody>\n",
       "    <tr>\n",
       "      <th>0</th>\n",
       "      <td>1</td>\n",
       "      <td>0.616</td>\n",
       "      <td>0</td>\n",
       "      <td>-0.161056</td>\n",
       "      <td>0.374793</td>\n",
       "      <td>[[[0.0, 0.0, 0.0, 0.0, 0.0, 0.0, 0.0, 0.0], [0...</td>\n",
       "    </tr>\n",
       "    <tr>\n",
       "      <th>1</th>\n",
       "      <td>1</td>\n",
       "      <td>0.43</td>\n",
       "      <td>0</td>\n",
       "      <td>2.752745</td>\n",
       "      <td>0.679102</td>\n",
       "      <td>[[[0.0, 0.0, 0.0, 0.0, 0.0, 0.0, 0.0, 0.0], [0...</td>\n",
       "    </tr>\n",
       "    <tr>\n",
       "      <th>2</th>\n",
       "      <td>1</td>\n",
       "      <td>0.628667</td>\n",
       "      <td>1</td>\n",
       "      <td>0.383251</td>\n",
       "      <td>0.788108</td>\n",
       "      <td>[[[0.0, 0.0, 0.0, 0.0, 0.0, 0.0, 0.0, 0.0], [1...</td>\n",
       "    </tr>\n",
       "    <tr>\n",
       "      <th>3</th>\n",
       "      <td>0</td>\n",
       "      <td>0.373</td>\n",
       "      <td>1</td>\n",
       "      <td>0.89777</td>\n",
       "      <td>-0.697101</td>\n",
       "      <td>[[[0.0, 0.0, 0.0, 0.0, 0.0, 0.0, 0.0, 0.0], [1...</td>\n",
       "    </tr>\n",
       "    <tr>\n",
       "      <th>4</th>\n",
       "      <td>1</td>\n",
       "      <td>0.610333</td>\n",
       "      <td>1</td>\n",
       "      <td>-0.380403</td>\n",
       "      <td>0.420212</td>\n",
       "      <td>[[[0.0, 0.0, 0.0, 0.0, 0.0, 0.0, 0.0, 0.0], [0...</td>\n",
       "    </tr>\n",
       "  </tbody>\n",
       "</table>\n",
       "</div>"
      ],
      "text/plain": [
       "  human       elo color stockfish_score_depth_8 stockfish_difference_depth_8  \\\n",
       "0     1     0.616     0               -0.161056                     0.374793   \n",
       "1     1      0.43     0                2.752745                     0.679102   \n",
       "2     1  0.628667     1                0.383251                     0.788108   \n",
       "3     0     0.373     1                 0.89777                    -0.697101   \n",
       "4     1  0.610333     1               -0.380403                     0.420212   \n",
       "\n",
       "                                        current_move  \n",
       "0  [[[0.0, 0.0, 0.0, 0.0, 0.0, 0.0, 0.0, 0.0], [0...  \n",
       "1  [[[0.0, 0.0, 0.0, 0.0, 0.0, 0.0, 0.0, 0.0], [0...  \n",
       "2  [[[0.0, 0.0, 0.0, 0.0, 0.0, 0.0, 0.0, 0.0], [1...  \n",
       "3  [[[0.0, 0.0, 0.0, 0.0, 0.0, 0.0, 0.0, 0.0], [1...  \n",
       "4  [[[0.0, 0.0, 0.0, 0.0, 0.0, 0.0, 0.0, 0.0], [0...  "
      ]
     },
     "execution_count": 10,
     "metadata": {},
     "output_type": "execute_result"
    }
   ],
   "source": [
    "new_train_df = read(data_file = \"./Model_Data\\Train\\Train_Batch_0.npy.gz\", column_names_file = \"./Model_Data\\Train\\column_names.txt\")\n",
    "new_train_df.head()"
   ]
  },
  {
   "cell_type": "code",
   "execution_count": 11,
   "metadata": {},
   "outputs": [
    {
     "data": {
      "text/html": [
       "<div>\n",
       "<style scoped>\n",
       "    .dataframe tbody tr th:only-of-type {\n",
       "        vertical-align: middle;\n",
       "    }\n",
       "\n",
       "    .dataframe tbody tr th {\n",
       "        vertical-align: top;\n",
       "    }\n",
       "\n",
       "    .dataframe thead th {\n",
       "        text-align: right;\n",
       "    }\n",
       "</style>\n",
       "<table border=\"1\" class=\"dataframe\">\n",
       "  <thead>\n",
       "    <tr style=\"text-align: right;\">\n",
       "      <th></th>\n",
       "      <th>human</th>\n",
       "      <th>elo</th>\n",
       "      <th>color</th>\n",
       "      <th>stockfish_score_depth_8</th>\n",
       "      <th>stockfish_difference_depth_8</th>\n",
       "      <th>current_move</th>\n",
       "    </tr>\n",
       "  </thead>\n",
       "  <tbody>\n",
       "    <tr>\n",
       "      <th>0</th>\n",
       "      <td>1</td>\n",
       "      <td>0.616</td>\n",
       "      <td>0</td>\n",
       "      <td>-0.161056</td>\n",
       "      <td>0.374793</td>\n",
       "      <td>[[[0.0, 0.0, 0.0, 0.0, 0.0, 0.0, 0.0, 0.0], [0...</td>\n",
       "    </tr>\n",
       "    <tr>\n",
       "      <th>1</th>\n",
       "      <td>1</td>\n",
       "      <td>0.43</td>\n",
       "      <td>0</td>\n",
       "      <td>2.752745</td>\n",
       "      <td>0.679102</td>\n",
       "      <td>[[[0.0, 0.0, 0.0, 0.0, 0.0, 0.0, 0.0, 0.0], [0...</td>\n",
       "    </tr>\n",
       "    <tr>\n",
       "      <th>2</th>\n",
       "      <td>1</td>\n",
       "      <td>0.628667</td>\n",
       "      <td>1</td>\n",
       "      <td>0.383251</td>\n",
       "      <td>0.788108</td>\n",
       "      <td>[[[0.0, 0.0, 0.0, 0.0, 0.0, 0.0, 0.0, 0.0], [1...</td>\n",
       "    </tr>\n",
       "    <tr>\n",
       "      <th>3</th>\n",
       "      <td>0</td>\n",
       "      <td>0.373</td>\n",
       "      <td>1</td>\n",
       "      <td>0.89777</td>\n",
       "      <td>-0.697101</td>\n",
       "      <td>[[[0.0, 0.0, 0.0, 0.0, 0.0, 0.0, 0.0, 0.0], [1...</td>\n",
       "    </tr>\n",
       "    <tr>\n",
       "      <th>4</th>\n",
       "      <td>1</td>\n",
       "      <td>0.610333</td>\n",
       "      <td>1</td>\n",
       "      <td>-0.380403</td>\n",
       "      <td>0.420212</td>\n",
       "      <td>[[[0.0, 0.0, 0.0, 0.0, 0.0, 0.0, 0.0, 0.0], [0...</td>\n",
       "    </tr>\n",
       "  </tbody>\n",
       "</table>\n",
       "</div>"
      ],
      "text/plain": [
       "  human       elo color stockfish_score_depth_8 stockfish_difference_depth_8  \\\n",
       "0     1     0.616     0               -0.161056                     0.374793   \n",
       "1     1      0.43     0                2.752745                     0.679102   \n",
       "2     1  0.628667     1                0.383251                     0.788108   \n",
       "3     0     0.373     1                 0.89777                    -0.697101   \n",
       "4     1  0.610333     1               -0.380403                     0.420212   \n",
       "\n",
       "                                        current_move  \n",
       "0  [[[0.0, 0.0, 0.0, 0.0, 0.0, 0.0, 0.0, 0.0], [0...  \n",
       "1  [[[0.0, 0.0, 0.0, 0.0, 0.0, 0.0, 0.0, 0.0], [0...  \n",
       "2  [[[0.0, 0.0, 0.0, 0.0, 0.0, 0.0, 0.0, 0.0], [1...  \n",
       "3  [[[0.0, 0.0, 0.0, 0.0, 0.0, 0.0, 0.0, 0.0], [1...  \n",
       "4  [[[0.0, 0.0, 0.0, 0.0, 0.0, 0.0, 0.0, 0.0], [0...  "
      ]
     },
     "execution_count": 11,
     "metadata": {},
     "output_type": "execute_result"
    }
   ],
   "source": [
    "new_val_df = read(data_file = \"./Model_Data\\Val\\Val_Batch_0.npy.gz\", column_names_file = \"./Model_Data\\Val\\column_names.txt\")\n",
    "new_train_df.head()"
   ]
  },
  {
   "cell_type": "code",
   "execution_count": 12,
   "metadata": {},
   "outputs": [
    {
     "data": {
      "text/html": [
       "<div>\n",
       "<style scoped>\n",
       "    .dataframe tbody tr th:only-of-type {\n",
       "        vertical-align: middle;\n",
       "    }\n",
       "\n",
       "    .dataframe tbody tr th {\n",
       "        vertical-align: top;\n",
       "    }\n",
       "\n",
       "    .dataframe thead th {\n",
       "        text-align: right;\n",
       "    }\n",
       "</style>\n",
       "<table border=\"1\" class=\"dataframe\">\n",
       "  <thead>\n",
       "    <tr style=\"text-align: right;\">\n",
       "      <th></th>\n",
       "      <th>human</th>\n",
       "      <th>elo</th>\n",
       "      <th>color</th>\n",
       "      <th>stockfish_score_depth_8</th>\n",
       "      <th>stockfish_difference_depth_8</th>\n",
       "      <th>current_move</th>\n",
       "    </tr>\n",
       "  </thead>\n",
       "  <tbody>\n",
       "    <tr>\n",
       "      <th>0</th>\n",
       "      <td>1</td>\n",
       "      <td>0.616</td>\n",
       "      <td>0</td>\n",
       "      <td>-0.161056</td>\n",
       "      <td>0.374793</td>\n",
       "      <td>[[[0.0, 0.0, 0.0, 0.0, 0.0, 0.0, 0.0, 0.0], [0...</td>\n",
       "    </tr>\n",
       "    <tr>\n",
       "      <th>1</th>\n",
       "      <td>1</td>\n",
       "      <td>0.43</td>\n",
       "      <td>0</td>\n",
       "      <td>2.752745</td>\n",
       "      <td>0.679102</td>\n",
       "      <td>[[[0.0, 0.0, 0.0, 0.0, 0.0, 0.0, 0.0, 0.0], [0...</td>\n",
       "    </tr>\n",
       "    <tr>\n",
       "      <th>2</th>\n",
       "      <td>1</td>\n",
       "      <td>0.628667</td>\n",
       "      <td>1</td>\n",
       "      <td>0.383251</td>\n",
       "      <td>0.788108</td>\n",
       "      <td>[[[0.0, 0.0, 0.0, 0.0, 0.0, 0.0, 0.0, 0.0], [1...</td>\n",
       "    </tr>\n",
       "    <tr>\n",
       "      <th>3</th>\n",
       "      <td>0</td>\n",
       "      <td>0.373</td>\n",
       "      <td>1</td>\n",
       "      <td>0.89777</td>\n",
       "      <td>-0.697101</td>\n",
       "      <td>[[[0.0, 0.0, 0.0, 0.0, 0.0, 0.0, 0.0, 0.0], [1...</td>\n",
       "    </tr>\n",
       "    <tr>\n",
       "      <th>4</th>\n",
       "      <td>1</td>\n",
       "      <td>0.610333</td>\n",
       "      <td>1</td>\n",
       "      <td>-0.380403</td>\n",
       "      <td>0.420212</td>\n",
       "      <td>[[[0.0, 0.0, 0.0, 0.0, 0.0, 0.0, 0.0, 0.0], [0...</td>\n",
       "    </tr>\n",
       "  </tbody>\n",
       "</table>\n",
       "</div>"
      ],
      "text/plain": [
       "  human       elo color stockfish_score_depth_8 stockfish_difference_depth_8  \\\n",
       "0     1     0.616     0               -0.161056                     0.374793   \n",
       "1     1      0.43     0                2.752745                     0.679102   \n",
       "2     1  0.628667     1                0.383251                     0.788108   \n",
       "3     0     0.373     1                 0.89777                    -0.697101   \n",
       "4     1  0.610333     1               -0.380403                     0.420212   \n",
       "\n",
       "                                        current_move  \n",
       "0  [[[0.0, 0.0, 0.0, 0.0, 0.0, 0.0, 0.0, 0.0], [0...  \n",
       "1  [[[0.0, 0.0, 0.0, 0.0, 0.0, 0.0, 0.0, 0.0], [0...  \n",
       "2  [[[0.0, 0.0, 0.0, 0.0, 0.0, 0.0, 0.0, 0.0], [1...  \n",
       "3  [[[0.0, 0.0, 0.0, 0.0, 0.0, 0.0, 0.0, 0.0], [1...  \n",
       "4  [[[0.0, 0.0, 0.0, 0.0, 0.0, 0.0, 0.0, 0.0], [0...  "
      ]
     },
     "execution_count": 12,
     "metadata": {},
     "output_type": "execute_result"
    }
   ],
   "source": [
    "new_val_df = read(data_file = \"./Model_Data\\Test\\Test_Batch_0.npy.gz\", column_names_file = \"./Model_Data\\Test\\column_names.txt\")\n",
    "new_train_df.head()"
   ]
  }
 ],
 "metadata": {
  "kernelspec": {
   "display_name": "PikeBot",
   "language": "python",
   "name": "python3"
  },
  "language_info": {
   "codemirror_mode": {
    "name": "ipython",
    "version": 3
   },
   "file_extension": ".py",
   "mimetype": "text/x-python",
   "name": "python",
   "nbconvert_exporter": "python",
   "pygments_lexer": "ipython3",
   "version": "3.10.6"
  }
 },
 "nbformat": 4,
 "nbformat_minor": 2
}
