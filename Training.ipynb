{
 "cells": [
  {
   "cell_type": "markdown",
   "metadata": {},
   "source": [
    "# 4: Model Training"
   ]
  },
  {
   "cell_type": "markdown",
   "metadata": {},
   "source": [
    "## Imports"
   ]
  },
  {
   "cell_type": "code",
   "execution_count": 1,
   "metadata": {},
   "outputs": [],
   "source": [
    "from utils.model_utils import *"
   ]
  },
  {
   "cell_type": "markdown",
   "metadata": {},
   "source": [
    "## Model Sanity Check"
   ]
  },
  {
   "cell_type": "code",
   "execution_count": 2,
   "metadata": {},
   "outputs": [
    {
     "name": "stdout",
     "output_type": "stream",
     "text": [
      "Number of parameters in the model in millions: 4.8321\n"
     ]
    }
   ],
   "source": [
    "model = Chess_Model(bit_board_shape = (76, 8, 8), num_float_inputs = 4, channel_multiple = 4, concatenated_size = 588)\n",
    "num_params = count_parameters(model)\n",
    "print(\"Number of parameters in the model in millions:\", round(num_params/(1e6), 4))"
   ]
  },
  {
   "cell_type": "code",
   "execution_count": 3,
   "metadata": {},
   "outputs": [
    {
     "name": "stdout",
     "output_type": "stream",
     "text": [
      "Chess_Model(\n",
      "  (conv1): Conv2d(76, 304, kernel_size=(3, 3), stride=(1, 1), padding=(1, 1))\n",
      "  (conv2): Conv2d(304, 304, kernel_size=(3, 3), stride=(1, 1), padding=(1, 1))\n",
      "  (conv3): Conv2d(304, 304, kernel_size=(3, 3), stride=(1, 1), padding=(1, 1))\n",
      "  (conv4): Conv2d(304, 76, kernel_size=(3, 3), stride=(1, 1), padding=(1, 1))\n",
      "  (conv5): Conv2d(76, 304, kernel_size=(3, 3), stride=(1, 1), padding=(1, 1))\n",
      "  (conv6): Conv2d(304, 304, kernel_size=(3, 3), stride=(1, 1), padding=(1, 1))\n",
      "  (conv7): Conv2d(304, 304, kernel_size=(3, 3), stride=(1, 1), padding=(1, 1))\n",
      "  (conv8): Conv2d(304, 76, kernel_size=(3, 3), stride=(1, 1), padding=(1, 1))\n",
      "  (pool): MaxPool2d(kernel_size=3, stride=2, padding=0, dilation=1, ceil_mode=False)\n",
      "  (float_inputs_fc): Linear(in_features=4, out_features=512, bias=True)\n",
      "  (fc1): Linear(in_features=588, out_features=1024, bias=True)\n",
      "  (fc2): Linear(in_features=1024, out_features=64, bias=True)\n",
      "  (output_layer): Linear(in_features=64, out_features=1, bias=True)\n",
      ")\n"
     ]
    }
   ],
   "source": [
    "print(model)"
   ]
  },
  {
   "cell_type": "code",
   "execution_count": 4,
   "metadata": {},
   "outputs": [
    {
     "data": {
      "text/plain": [
       "tensor([[0.5101]], grad_fn=<SigmoidBackward0>)"
      ]
     },
     "execution_count": 4,
     "metadata": {},
     "output_type": "execute_result"
    }
   ],
   "source": [
    "board_shape = (1, 76, 8, 8)\n",
    "floats_shape = (1, 4)\n",
    "input_bitboard = torch.tensor(np.random.rand(*board_shape), dtype = torch.float32)\n",
    "input_floats = torch.tensor(np.random.rand(*floats_shape), dtype = torch.float32)\n",
    "output = model(input_bitboard, input_floats)\n",
    "output"
   ]
  },
  {
   "cell_type": "markdown",
   "metadata": {},
   "source": [
    "## Model Training"
   ]
  },
  {
   "cell_type": "code",
   "execution_count": 5,
   "metadata": {},
   "outputs": [
    {
     "name": "stdout",
     "output_type": "stream",
     "text": [
      "Detected Device: cpu\n"
     ]
    }
   ],
   "source": [
    "LR = 1e-4\n",
    "optimizer = torch.optim.Adam(model.parameters(), lr=LR)\n",
    "loss_func = nn.BCELoss()\n",
    "NUM_HANGING_VALUES = 4\n",
    "EPOCHS = 100\n",
    "device = torch.device(\"cuda\" if torch.cuda.is_available() else \"cpu\")\n",
    "print(f\"Detected Device: {device}\")"
   ]
  },
  {
   "cell_type": "code",
   "execution_count": 6,
   "metadata": {},
   "outputs": [
    {
     "data": {
      "text/plain": [
       "209557"
      ]
     },
     "execution_count": 6,
     "metadata": {},
     "output_type": "execute_result"
    }
   ],
   "source": [
    "train_generator = efficent_load_object(\"./Generators\\\\train_generator.pkl\")\n",
    "train_generator.__len__()"
   ]
  },
  {
   "cell_type": "code",
   "execution_count": 7,
   "metadata": {},
   "outputs": [
    {
     "data": {
      "text/plain": [
       "20931"
      ]
     },
     "execution_count": 7,
     "metadata": {},
     "output_type": "execute_result"
    }
   ],
   "source": [
    "val_generator = efficent_load_object(\"./Generators\\\\val_generator.pkl\")\n",
    "val_generator.__len__()"
   ]
  },
  {
   "cell_type": "code",
   "execution_count": 8,
   "metadata": {},
   "outputs": [
    {
     "data": {
      "text/plain": [
       "20974"
      ]
     },
     "execution_count": 8,
     "metadata": {},
     "output_type": "execute_result"
    }
   ],
   "source": [
    "test_generator = efficent_load_object(\"./Generators\\\\test_generator.pkl\")\n",
    "test_generator.__len__()"
   ]
  },
  {
   "cell_type": "code",
   "execution_count": 9,
   "metadata": {},
   "outputs": [
    {
     "name": "stdout",
     "output_type": "stream",
     "text": [
      "______________________________________________________________\n",
      "Epoch 0 Train Loss: 0.0109 | MSE: 0.2516 | MAE: 0.5015 | Accuracy: 0.5\n",
      "Epoch 0 Val Loss: 0.0108 | MSE: 0.2502 | MAE: 0.5001  | Accuracy: 0.4688\n",
      "Epoch 1: Saving checkpoint...\n",
      "______________________________________________________________\n",
      "Epoch 1 Train Loss: 0.0108 | MSE: 0.2475 | MAE: 0.4974 | Accuracy: 0.5156\n",
      "Epoch 1 Val Loss: 0.0108 | MSE: 0.2484 | MAE: 0.4982  | Accuracy: 0.5312\n",
      "Epoch 2: Saving checkpoint...\n",
      "______________________________________________________________\n",
      "Epoch 2 Train Loss: 0.0106 | MSE: 0.244 | MAE: 0.4938 | Accuracy: 0.6719\n",
      "Epoch 2 Val Loss: 0.0107 | MSE: 0.2468 | MAE: 0.4964  | Accuracy: 0.5625\n",
      "Epoch 3: Saving checkpoint...\n",
      "______________________________________________________________\n",
      "Epoch 3 Train Loss: 0.0105 | MSE: 0.2408 | MAE: 0.4904 | Accuracy: 0.7031\n",
      "Epoch 3 Val Loss: 0.0107 | MSE: 0.2454 | MAE: 0.4948  | Accuracy: 0.5938\n",
      "Epoch 4: Saving checkpoint...\n",
      "______________________________________________________________\n",
      "Epoch 4 Train Loss: 0.0104 | MSE: 0.2374 | MAE: 0.4868 | Accuracy: 0.7344\n",
      "Epoch 4 Val Loss: 0.0106 | MSE: 0.2442 | MAE: 0.4933  | Accuracy: 0.5938\n",
      "Epoch 5: Saving checkpoint...\n",
      "______________________________________________________________\n",
      "Epoch 5 Train Loss: 0.0103 | MSE: 0.234 | MAE: 0.483 | Accuracy: 0.7344\n",
      "Epoch 5 Val Loss: 0.0106 | MSE: 0.243 | MAE: 0.4917  | Accuracy: 0.5938\n",
      "Epoch 6: Saving checkpoint...\n",
      "______________________________________________________________\n",
      "Epoch 6 Train Loss: 0.0102 | MSE: 0.2305 | MAE: 0.479 | Accuracy: 0.7344\n",
      "Epoch 6 Val Loss: 0.0106 | MSE: 0.242 | MAE: 0.4902  | Accuracy: 0.5938\n",
      "Epoch 7: Saving checkpoint...\n",
      "______________________________________________________________\n",
      "Epoch 7 Train Loss: 0.0101 | MSE: 0.2268 | MAE: 0.4747 | Accuracy: 0.7344\n",
      "Epoch 7 Val Loss: 0.0105 | MSE: 0.2411 | MAE: 0.4886  | Accuracy: 0.6094\n",
      "Epoch 8: Saving checkpoint...\n",
      "______________________________________________________________\n",
      "Epoch 8 Train Loss: 0.01 | MSE: 0.2229 | MAE: 0.47 | Accuracy: 0.7344\n",
      "Epoch 8 Val Loss: 0.0105 | MSE: 0.2403 | MAE: 0.4871  | Accuracy: 0.6094\n",
      "Epoch 9: Saving checkpoint...\n",
      "______________________________________________________________\n",
      "Epoch 9 Train Loss: 0.0098 | MSE: 0.2186 | MAE: 0.4647 | Accuracy: 0.7344\n",
      "Epoch 9 Val Loss: 0.0105 | MSE: 0.2397 | MAE: 0.4855  | Accuracy: 0.6094\n",
      "Epoch 10: Saving checkpoint...\n",
      "______________________________________________________________\n",
      "Epoch 10 Train Loss: 0.0097 | MSE: 0.214 | MAE: 0.4589 | Accuracy: 0.7656\n",
      "Epoch 10 Val Loss: 0.0105 | MSE: 0.2392 | MAE: 0.484  | Accuracy: 0.6094\n",
      "Epoch 11: Saving checkpoint...\n",
      "______________________________________________________________\n",
      "Epoch 11 Train Loss: 0.0095 | MSE: 0.2088 | MAE: 0.4524 | Accuracy: 0.7656\n",
      "Epoch 11 Val Loss: 0.0105 | MSE: 0.239 | MAE: 0.4825  | Accuracy: 0.6094\n",
      "Epoch 12: Saving checkpoint...\n",
      "______________________________________________________________\n",
      "Epoch 12 Train Loss: 0.0093 | MSE: 0.203 | MAE: 0.445 | Accuracy: 0.7812\n",
      "Epoch 12 Val Loss: 0.0105 | MSE: 0.2391 | MAE: 0.4811  | Accuracy: 0.5781\n",
      "Epoch 13: Saving checkpoint...\n",
      "______________________________________________________________\n",
      "Epoch 13 Train Loss: 0.0091 | MSE: 0.1962 | MAE: 0.4361 | Accuracy: 0.7812\n",
      "Epoch 13 Val Loss: 0.0105 | MSE: 0.2396 | MAE: 0.4798  | Accuracy: 0.6094\n",
      "Epoch 14: Saving checkpoint...\n",
      "______________________________________________________________\n",
      "Epoch 14 Train Loss: 0.0088 | MSE: 0.1882 | MAE: 0.4255 | Accuracy: 0.7812\n",
      "Epoch 14 Val Loss: 0.0105 | MSE: 0.2406 | MAE: 0.4785  | Accuracy: 0.5938\n",
      "Epoch 15: Saving checkpoint...\n",
      "______________________________________________________________\n",
      "Epoch 15 Train Loss: 0.0085 | MSE: 0.1788 | MAE: 0.4128 | Accuracy: 0.8125\n",
      "Epoch 15 Val Loss: 0.0106 | MSE: 0.2424 | MAE: 0.4775  | Accuracy: 0.5938\n",
      "Epoch 16: Saving checkpoint...\n",
      "______________________________________________________________\n",
      "Epoch 16 Train Loss: 0.0081 | MSE: 0.1675 | MAE: 0.3973 | Accuracy: 0.8281\n",
      "Epoch 16 Val Loss: 0.0107 | MSE: 0.2454 | MAE: 0.4768  | Accuracy: 0.5938\n",
      "Epoch 17: Saving checkpoint...\n",
      "______________________________________________________________\n",
      "Epoch 17 Train Loss: 0.0077 | MSE: 0.154 | MAE: 0.378 | Accuracy: 0.8438\n",
      "Epoch 17 Val Loss: 0.0108 | MSE: 0.2501 | MAE: 0.4764  | Accuracy: 0.5469\n",
      "Epoch 18: Saving checkpoint...\n",
      "______________________________________________________________\n",
      "Epoch 18 Train Loss: 0.0071 | MSE: 0.1376 | MAE: 0.3542 | Accuracy: 0.8594\n",
      "Epoch 18 Val Loss: 0.0111 | MSE: 0.2575 | MAE: 0.4766  | Accuracy: 0.5312\n",
      "Epoch 19: Saving checkpoint...\n",
      "______________________________________________________________\n",
      "Epoch 19 Train Loss: 0.0064 | MSE: 0.118 | MAE: 0.3244 | Accuracy: 0.8906\n",
      "Epoch 19 Val Loss: 0.0116 | MSE: 0.2699 | MAE: 0.4776  | Accuracy: 0.5156\n",
      "Epoch 20: Saving checkpoint...\n",
      "______________________________________________________________\n",
      "Epoch 20 Train Loss: 0.0055 | MSE: 0.0962 | MAE: 0.2881 | Accuracy: 0.9062\n",
      "Epoch 20 Val Loss: 0.0123 | MSE: 0.2872 | MAE: 0.4798  | Accuracy: 0.5156\n",
      "Epoch 21: Saving checkpoint...\n",
      "______________________________________________________________\n",
      "Epoch 21 Train Loss: 0.0046 | MSE: 0.0744 | MAE: 0.2465 | Accuracy: 0.9531\n",
      "Epoch 21 Val Loss: 0.0135 | MSE: 0.3113 | MAE: 0.4839  | Accuracy: 0.4844\n",
      "Epoch 22: Saving checkpoint...\n",
      "______________________________________________________________\n",
      "Epoch 22 Train Loss: 0.0038 | MSE: 0.0564 | MAE: 0.2035 | Accuracy: 0.9688\n",
      "Epoch 22 Val Loss: 0.0157 | MSE: 0.3445 | MAE: 0.4907  | Accuracy: 0.4688\n",
      "Epoch 23: Saving checkpoint...\n",
      "______________________________________________________________\n",
      "Epoch 23 Train Loss: 0.003 | MSE: 0.0435 | MAE: 0.1625 | Accuracy: 0.9688\n",
      "Epoch 23 Val Loss: 0.0185 | MSE: 0.3747 | MAE: 0.4956  | Accuracy: 0.4688\n",
      "Epoch 24: Saving checkpoint...\n",
      "______________________________________________________________\n",
      "Epoch 24 Train Loss: 0.0023 | MSE: 0.0323 | MAE: 0.1249 | Accuracy: 0.9688\n",
      "Epoch 24 Val Loss: 0.0241 | MSE: 0.4115 | MAE: 0.5024  | Accuracy: 0.4844\n",
      "Epoch 25: Saving checkpoint...\n",
      "______________________________________________________________\n",
      "Epoch 25 Train Loss: 0.0018 | MSE: 0.0245 | MAE: 0.0954 | Accuracy: 0.9688\n",
      "Epoch 25 Val Loss: 0.0231 | MSE: 0.4014 | MAE: 0.4875  | Accuracy: 0.5\n",
      "Epoch 26: Saving checkpoint...\n",
      "______________________________________________________________\n",
      "Epoch 26 Train Loss: 0.002 | MSE: 0.0327 | MAE: 0.085 | Accuracy: 0.9531\n",
      "Epoch 26 Val Loss: 0.0311 | MSE: 0.4302 | MAE: 0.4986  | Accuracy: 0.5156\n",
      "Epoch 27: Saving checkpoint...\n",
      "______________________________________________________________\n",
      "Epoch 27 Train Loss: 0.001 | MSE: 0.0136 | MAE: 0.0534 | Accuracy: 0.9844\n",
      "Epoch 27 Val Loss: 0.0392 | MSE: 0.4597 | MAE: 0.5092  | Accuracy: 0.4844\n",
      "Epoch 28: Saving checkpoint...\n",
      "______________________________________________________________\n",
      "Epoch 28 Train Loss: 0.0016 | MSE: 0.0295 | MAE: 0.0723 | Accuracy: 0.9531\n",
      "Epoch 28 Val Loss: 0.033 | MSE: 0.4319 | MAE: 0.4891  | Accuracy: 0.5312\n",
      "Epoch 29: Saving checkpoint...\n",
      "______________________________________________________________\n",
      "Epoch 29 Train Loss: 0.0008 | MSE: 0.0126 | MAE: 0.0314 | Accuracy: 0.9844\n",
      "Epoch 29 Val Loss: 0.032 | MSE: 0.4379 | MAE: 0.4956  | Accuracy: 0.4844\n",
      "Epoch 30: Saving checkpoint...\n",
      "______________________________________________________________\n",
      "Epoch 30 Train Loss: 0.0013 | MSE: 0.0217 | MAE: 0.0499 | Accuracy: 0.9844\n",
      "Epoch 30 Val Loss: 0.0363 | MSE: 0.4375 | MAE: 0.4869  | Accuracy: 0.5469\n",
      "Epoch 31: Saving checkpoint...\n",
      "______________________________________________________________\n",
      "Epoch 31 Train Loss: 0.0004 | MSE: 0.0046 | MAE: 0.0207 | Accuracy: 1.0\n",
      "Epoch 31 Val Loss: 0.0437 | MSE: 0.4498 | MAE: 0.4956  | Accuracy: 0.4844\n",
      "Epoch 32: Saving checkpoint...\n",
      "______________________________________________________________\n",
      "Epoch 32 Train Loss: 0.0007 | MSE: 0.013 | MAE: 0.0248 | Accuracy: 0.9844\n",
      "Epoch 32 Val Loss: 0.0461 | MSE: 0.4537 | MAE: 0.4976  | Accuracy: 0.5\n",
      "Epoch 33: Saving checkpoint...\n",
      "______________________________________________________________\n",
      "Epoch 33 Train Loss: 0.0007 | MSE: 0.0141 | MAE: 0.025 | Accuracy: 0.9844\n",
      "Epoch 33 Val Loss: 0.0432 | MSE: 0.4484 | MAE: 0.4868  | Accuracy: 0.5312\n",
      "Epoch 34: Saving checkpoint...\n",
      "______________________________________________________________\n",
      "Epoch 34 Train Loss: 0.0002 | MSE: 0.0014 | MAE: 0.0096 | Accuracy: 1.0\n",
      "Epoch 34 Val Loss: 0.0403 | MSE: 0.4476 | MAE: 0.494  | Accuracy: 0.5\n",
      "Epoch 35: Saving checkpoint...\n",
      "______________________________________________________________\n",
      "Epoch 35 Train Loss: 0.0002 | MSE: 0.0022 | MAE: 0.0124 | Accuracy: 1.0\n",
      "Epoch 35 Val Loss: 0.0401 | MSE: 0.456 | MAE: 0.5026  | Accuracy: 0.4844\n",
      "Epoch 36: Saving checkpoint...\n",
      "______________________________________________________________\n",
      "Epoch 36 Train Loss: 0.0004 | MSE: 0.007 | MAE: 0.0208 | Accuracy: 0.9844\n",
      "Epoch 36 Val Loss: 0.0427 | MSE: 0.4491 | MAE: 0.4937  | Accuracy: 0.5156\n",
      "Epoch 37: Saving checkpoint...\n",
      "______________________________________________________________\n",
      "Epoch 37 Train Loss: 0.0001 | MSE: 0.0009 | MAE: 0.0074 | Accuracy: 1.0\n",
      "Epoch 37 Val Loss: 0.0469 | MSE: 0.4564 | MAE: 0.4887  | Accuracy: 0.5156\n",
      "Epoch 38: Saving checkpoint...\n",
      "______________________________________________________________\n",
      "Epoch 38 Train Loss: 0.0 | MSE: 0.0 | MAE: 0.0031 | Accuracy: 1.0\n",
      "Epoch 38 Val Loss: 0.0514 | MSE: 0.4539 | MAE: 0.4888  | Accuracy: 0.5\n",
      "Epoch 39: Saving checkpoint...\n",
      "______________________________________________________________\n",
      "Epoch 39 Train Loss: 0.0001 | MSE: 0.0003 | MAE: 0.0059 | Accuracy: 1.0\n",
      "Epoch 39 Val Loss: 0.0548 | MSE: 0.4486 | MAE: 0.4874  | Accuracy: 0.5312\n",
      "Epoch 40: Saving checkpoint...\n",
      "______________________________________________________________\n",
      "Epoch 40 Train Loss: 0.0002 | MSE: 0.0014 | MAE: 0.0113 | Accuracy: 1.0\n",
      "Epoch 40 Val Loss: 0.0549 | MSE: 0.4493 | MAE: 0.4859  | Accuracy: 0.5469\n",
      "Epoch 41: Saving checkpoint...\n",
      "______________________________________________________________\n",
      "Epoch 41 Train Loss: 0.0001 | MSE: 0.0006 | MAE: 0.0075 | Accuracy: 1.0\n",
      "Epoch 41 Val Loss: 0.0535 | MSE: 0.4577 | MAE: 0.4877  | Accuracy: 0.5\n",
      "Epoch 42: Saving checkpoint...\n",
      "______________________________________________________________\n",
      "Epoch 42 Train Loss: 0.0 | MSE: 0.0001 | MAE: 0.0027 | Accuracy: 1.0\n",
      "Epoch 42 Val Loss: 0.0519 | MSE: 0.4626 | MAE: 0.49  | Accuracy: 0.5156\n",
      "Epoch 43: Saving checkpoint...\n",
      "______________________________________________________________\n",
      "Epoch 43 Train Loss: 0.0 | MSE: 0.0 | MAE: 0.0012 | Accuracy: 1.0\n",
      "Epoch 43 Val Loss: 0.0504 | MSE: 0.4585 | MAE: 0.4931  | Accuracy: 0.5\n",
      "Epoch 44: Saving checkpoint...\n",
      "______________________________________________________________\n",
      "Epoch 44 Train Loss: 0.0 | MSE: 0.0 | MAE: 0.001 | Accuracy: 1.0\n",
      "Epoch 44 Val Loss: 0.0494 | MSE: 0.4543 | MAE: 0.4979  | Accuracy: 0.5156\n",
      "Epoch 45: Saving checkpoint...\n",
      "______________________________________________________________\n",
      "Epoch 45 Train Loss: 0.0 | MSE: 0.0 | MAE: 0.0013 | Accuracy: 1.0\n",
      "Epoch 45 Val Loss: 0.0492 | MSE: 0.4604 | MAE: 0.5037  | Accuracy: 0.4844\n",
      "Epoch 46: Saving checkpoint...\n",
      "______________________________________________________________\n",
      "Epoch 46 Train Loss: 0.0 | MSE: 0.0 | MAE: 0.002 | Accuracy: 1.0\n",
      "Epoch 46 Val Loss: 0.0495 | MSE: 0.4686 | MAE: 0.5076  | Accuracy: 0.5\n",
      "Epoch 47: Saving checkpoint...\n",
      "______________________________________________________________\n",
      "Epoch 47 Train Loss: 0.0 | MSE: 0.0 | MAE: 0.0027 | Accuracy: 1.0\n",
      "Epoch 47 Val Loss: 0.0502 | MSE: 0.4701 | MAE: 0.508  | Accuracy: 0.5\n",
      "Epoch 48: Saving checkpoint...\n",
      "______________________________________________________________\n",
      "Epoch 48 Train Loss: 0.0 | MSE: 0.0 | MAE: 0.0023 | Accuracy: 1.0\n",
      "Epoch 48 Val Loss: 0.0513 | MSE: 0.4659 | MAE: 0.5057  | Accuracy: 0.4844\n",
      "Epoch 49: Saving checkpoint...\n",
      "______________________________________________________________\n",
      "Epoch 49 Train Loss: 0.0 | MSE: 0.0 | MAE: 0.0014 | Accuracy: 1.0\n",
      "Epoch 49 Val Loss: 0.0526 | MSE: 0.4613 | MAE: 0.5021  | Accuracy: 0.4844\n",
      "Epoch 50: Saving checkpoint...\n",
      "______________________________________________________________\n",
      "Epoch 50 Train Loss: 0.0 | MSE: 0.0 | MAE: 0.0008 | Accuracy: 1.0\n",
      "Epoch 50 Val Loss: 0.0541 | MSE: 0.4599 | MAE: 0.4979  | Accuracy: 0.5\n",
      "Epoch 51: Saving checkpoint...\n",
      "______________________________________________________________\n",
      "Epoch 51 Train Loss: 0.0 | MSE: 0.0 | MAE: 0.0004 | Accuracy: 1.0\n",
      "Epoch 51 Val Loss: 0.0557 | MSE: 0.4601 | MAE: 0.4934  | Accuracy: 0.5312\n",
      "Epoch 52: Saving checkpoint...\n",
      "______________________________________________________________\n",
      "Epoch 52 Train Loss: 0.0 | MSE: 0.0 | MAE: 0.0003 | Accuracy: 1.0\n",
      "Epoch 52 Val Loss: 0.0574 | MSE: 0.4596 | MAE: 0.4891  | Accuracy: 0.5156\n",
      "Epoch 53: Saving checkpoint...\n",
      "______________________________________________________________\n",
      "Epoch 53 Train Loss: 0.0 | MSE: 0.0 | MAE: 0.0003 | Accuracy: 1.0\n",
      "Epoch 53 Val Loss: 0.059 | MSE: 0.4578 | MAE: 0.4855  | Accuracy: 0.5156\n",
      "Epoch 54: Saving checkpoint...\n",
      "______________________________________________________________\n",
      "Epoch 54 Train Loss: 0.0 | MSE: 0.0 | MAE: 0.0002 | Accuracy: 1.0\n",
      "Epoch 54 Val Loss: 0.0603 | MSE: 0.4559 | MAE: 0.4828  | Accuracy: 0.5156\n",
      "Epoch 55: Saving checkpoint...\n",
      "______________________________________________________________\n",
      "Epoch 55 Train Loss: 0.0 | MSE: 0.0 | MAE: 0.0002 | Accuracy: 1.0\n",
      "Epoch 55 Val Loss: 0.0614 | MSE: 0.4546 | MAE: 0.4814  | Accuracy: 0.5156\n",
      "Epoch 56: Saving checkpoint...\n",
      "______________________________________________________________\n",
      "Epoch 56 Train Loss: 0.0 | MSE: 0.0 | MAE: 0.0002 | Accuracy: 1.0\n",
      "Epoch 56 Val Loss: 0.0626 | MSE: 0.4541 | MAE: 0.4812  | Accuracy: 0.5156\n",
      "Epoch 57: Saving checkpoint...\n",
      "______________________________________________________________\n",
      "Epoch 57 Train Loss: 0.0 | MSE: 0.0 | MAE: 0.0002 | Accuracy: 1.0\n",
      "Epoch 57 Val Loss: 0.0841 | MSE: 0.4545 | MAE: 0.4818  | Accuracy: 0.5312\n",
      "Epoch 58: Saving checkpoint...\n",
      "______________________________________________________________\n",
      "Epoch 58 Train Loss: 0.0 | MSE: 0.0 | MAE: 0.0002 | Accuracy: 1.0\n",
      "Epoch 58 Val Loss: 0.085 | MSE: 0.4558 | MAE: 0.4827  | Accuracy: 0.5312\n",
      "Epoch 59: Saving checkpoint...\n",
      "______________________________________________________________\n",
      "Epoch 59 Train Loss: 0.0 | MSE: 0.0 | MAE: 0.0002 | Accuracy: 1.0\n",
      "Epoch 59 Val Loss: 0.0858 | MSE: 0.4576 | MAE: 0.4836  | Accuracy: 0.5156\n",
      "Epoch 60: Saving checkpoint...\n",
      "______________________________________________________________\n",
      "Epoch 60 Train Loss: 0.0 | MSE: 0.0 | MAE: 0.0002 | Accuracy: 1.0\n",
      "Epoch 60 Val Loss: 0.1071 | MSE: 0.4594 | MAE: 0.4844  | Accuracy: 0.5156\n",
      "Epoch 61: Saving checkpoint...\n",
      "______________________________________________________________\n",
      "Epoch 61 Train Loss: 0.0 | MSE: 0.0 | MAE: 0.0003 | Accuracy: 1.0\n",
      "Epoch 61 Val Loss: 0.1076 | MSE: 0.4609 | MAE: 0.4849  | Accuracy: 0.5156\n",
      "Epoch 62: Saving checkpoint...\n",
      "______________________________________________________________\n",
      "Epoch 62 Train Loss: 0.0 | MSE: 0.0 | MAE: 0.0003 | Accuracy: 1.0\n",
      "Epoch 62 Val Loss: 0.1082 | MSE: 0.4619 | MAE: 0.4853  | Accuracy: 0.5156\n",
      "Epoch 63: Saving checkpoint...\n",
      "______________________________________________________________\n",
      "Epoch 63 Train Loss: 0.0 | MSE: 0.0 | MAE: 0.0003 | Accuracy: 1.0\n",
      "Epoch 63 Val Loss: 0.1086 | MSE: 0.4625 | MAE: 0.4855  | Accuracy: 0.5156\n",
      "Epoch 64: Saving checkpoint...\n",
      "______________________________________________________________\n",
      "Epoch 64 Train Loss: 0.0 | MSE: 0.0 | MAE: 0.0002 | Accuracy: 1.0\n",
      "Epoch 64 Val Loss: 0.1089 | MSE: 0.4627 | MAE: 0.4855  | Accuracy: 0.5156\n",
      "Epoch 65: Saving checkpoint...\n",
      "______________________________________________________________\n",
      "Epoch 65 Train Loss: 0.0 | MSE: 0.0 | MAE: 0.0002 | Accuracy: 1.0\n",
      "Epoch 65 Val Loss: 0.1091 | MSE: 0.4625 | MAE: 0.4854  | Accuracy: 0.5156\n",
      "Epoch 66: Saving checkpoint...\n",
      "______________________________________________________________\n",
      "Epoch 66 Train Loss: 0.0 | MSE: 0.0 | MAE: 0.0002 | Accuracy: 1.0\n",
      "Epoch 66 Val Loss: 0.1092 | MSE: 0.4619 | MAE: 0.4851  | Accuracy: 0.5156\n",
      "Epoch 67: Saving checkpoint...\n",
      "______________________________________________________________\n",
      "Epoch 67 Train Loss: 0.0 | MSE: 0.0 | MAE: 0.0002 | Accuracy: 1.0\n",
      "Epoch 67 Val Loss: 0.1093 | MSE: 0.461 | MAE: 0.4847  | Accuracy: 0.5156\n",
      "Epoch 68: Saving checkpoint...\n",
      "______________________________________________________________\n",
      "Epoch 68 Train Loss: 0.0 | MSE: 0.0 | MAE: 0.0002 | Accuracy: 1.0\n",
      "Epoch 68 Val Loss: 0.1093 | MSE: 0.4598 | MAE: 0.4841  | Accuracy: 0.5156\n",
      "Epoch 69: Saving checkpoint...\n",
      "______________________________________________________________\n",
      "Epoch 69 Train Loss: 0.0 | MSE: 0.0 | MAE: 0.0002 | Accuracy: 1.0\n",
      "Epoch 69 Val Loss: 0.1093 | MSE: 0.4584 | MAE: 0.4834  | Accuracy: 0.5156\n",
      "Epoch 70: Saving checkpoint...\n",
      "______________________________________________________________\n",
      "Epoch 70 Train Loss: 0.0 | MSE: 0.0 | MAE: 0.0001 | Accuracy: 1.0\n",
      "Epoch 70 Val Loss: 0.1093 | MSE: 0.457 | MAE: 0.4826  | Accuracy: 0.5156\n",
      "Epoch 71: Saving checkpoint...\n",
      "______________________________________________________________\n",
      "Epoch 71 Train Loss: 0.0 | MSE: 0.0 | MAE: 0.0001 | Accuracy: 1.0\n",
      "Epoch 71 Val Loss: 0.1092 | MSE: 0.4555 | MAE: 0.4817  | Accuracy: 0.5156\n",
      "Epoch 72: Saving checkpoint...\n",
      "______________________________________________________________\n",
      "Epoch 72 Train Loss: 0.0 | MSE: 0.0 | MAE: 0.0001 | Accuracy: 1.0\n",
      "Epoch 72 Val Loss: 0.1092 | MSE: 0.4541 | MAE: 0.4807  | Accuracy: 0.5156\n",
      "Epoch 73: Saving checkpoint...\n",
      "______________________________________________________________\n",
      "Epoch 73 Train Loss: 0.0 | MSE: 0.0 | MAE: 0.0001 | Accuracy: 1.0\n",
      "Epoch 73 Val Loss: 0.1092 | MSE: 0.453 | MAE: 0.4797  | Accuracy: 0.5\n",
      "Epoch 74: Saving checkpoint...\n",
      "______________________________________________________________\n",
      "Epoch 74 Train Loss: 0.0 | MSE: 0.0 | MAE: 0.0001 | Accuracy: 1.0\n",
      "Epoch 74 Val Loss: 0.1091 | MSE: 0.452 | MAE: 0.4787  | Accuracy: 0.5156\n",
      "Epoch 75: Saving checkpoint...\n",
      "______________________________________________________________\n",
      "Epoch 75 Train Loss: 0.0 | MSE: 0.0 | MAE: 0.0001 | Accuracy: 1.0\n",
      "Epoch 75 Val Loss: 0.1091 | MSE: 0.4513 | MAE: 0.4777  | Accuracy: 0.5312\n",
      "Epoch 76: Saving checkpoint...\n",
      "______________________________________________________________\n",
      "Epoch 76 Train Loss: 0.0 | MSE: 0.0 | MAE: 0.0001 | Accuracy: 1.0\n",
      "Epoch 76 Val Loss: 0.109 | MSE: 0.4508 | MAE: 0.4768  | Accuracy: 0.5312\n",
      "Epoch 77: Saving checkpoint...\n",
      "______________________________________________________________\n",
      "Epoch 77 Train Loss: 0.0 | MSE: 0.0 | MAE: 0.0001 | Accuracy: 1.0\n",
      "Epoch 77 Val Loss: 0.109 | MSE: 0.4504 | MAE: 0.4759  | Accuracy: 0.5312\n",
      "Epoch 78: Saving checkpoint...\n",
      "______________________________________________________________\n",
      "Epoch 78 Train Loss: 0.0 | MSE: 0.0 | MAE: 0.0001 | Accuracy: 1.0\n",
      "Epoch 78 Val Loss: 0.109 | MSE: 0.4502 | MAE: 0.4751  | Accuracy: 0.5312\n",
      "Epoch 79: Saving checkpoint...\n",
      "______________________________________________________________\n",
      "Epoch 79 Train Loss: 0.0 | MSE: 0.0 | MAE: 0.0001 | Accuracy: 1.0\n",
      "Epoch 79 Val Loss: 0.1089 | MSE: 0.4502 | MAE: 0.4743  | Accuracy: 0.5312\n",
      "Epoch 80: Saving checkpoint...\n",
      "______________________________________________________________\n",
      "Epoch 80 Train Loss: 0.0 | MSE: 0.0 | MAE: 0.0001 | Accuracy: 1.0\n",
      "Epoch 80 Val Loss: 0.1089 | MSE: 0.4502 | MAE: 0.4737  | Accuracy: 0.5312\n",
      "Epoch 81: Saving checkpoint...\n",
      "______________________________________________________________\n",
      "Epoch 81 Train Loss: 0.0 | MSE: 0.0 | MAE: 0.0001 | Accuracy: 1.0\n",
      "Epoch 81 Val Loss: 0.1089 | MSE: 0.4502 | MAE: 0.4731  | Accuracy: 0.5312\n",
      "Epoch 82: Saving checkpoint...\n",
      "______________________________________________________________\n",
      "Epoch 82 Train Loss: 0.0 | MSE: 0.0 | MAE: 0.0001 | Accuracy: 1.0\n",
      "Epoch 82 Val Loss: 0.1088 | MSE: 0.4503 | MAE: 0.4726  | Accuracy: 0.5312\n",
      "Epoch 83: Saving checkpoint...\n",
      "______________________________________________________________\n",
      "Epoch 83 Train Loss: 0.0 | MSE: 0.0 | MAE: 0.0001 | Accuracy: 1.0\n",
      "Epoch 83 Val Loss: 0.1087 | MSE: 0.4504 | MAE: 0.4722  | Accuracy: 0.5312\n",
      "Epoch 84: Saving checkpoint...\n",
      "______________________________________________________________\n",
      "Epoch 84 Train Loss: 0.0 | MSE: 0.0 | MAE: 0.0001 | Accuracy: 1.0\n",
      "Epoch 84 Val Loss: 0.1087 | MSE: 0.4505 | MAE: 0.4719  | Accuracy: 0.5312\n",
      "Epoch 85: Saving checkpoint...\n",
      "______________________________________________________________\n",
      "Epoch 85 Train Loss: 0.0 | MSE: 0.0 | MAE: 0.0001 | Accuracy: 1.0\n",
      "Epoch 85 Val Loss: 0.1087 | MSE: 0.4507 | MAE: 0.4716  | Accuracy: 0.5312\n",
      "Epoch 86: Saving checkpoint...\n",
      "______________________________________________________________\n",
      "Epoch 86 Train Loss: 0.0 | MSE: 0.0 | MAE: 0.0001 | Accuracy: 1.0\n",
      "Epoch 86 Val Loss: 0.1087 | MSE: 0.4508 | MAE: 0.4713  | Accuracy: 0.5312\n",
      "Epoch 87: Saving checkpoint...\n",
      "______________________________________________________________\n",
      "Epoch 87 Train Loss: 0.0 | MSE: 0.0 | MAE: 0.0001 | Accuracy: 1.0\n",
      "Epoch 87 Val Loss: 0.1087 | MSE: 0.4509 | MAE: 0.4711  | Accuracy: 0.5312\n",
      "Epoch 88: Saving checkpoint...\n",
      "______________________________________________________________\n",
      "Epoch 88 Train Loss: 0.0 | MSE: 0.0 | MAE: 0.0001 | Accuracy: 1.0\n",
      "Epoch 88 Val Loss: 0.1086 | MSE: 0.451 | MAE: 0.471  | Accuracy: 0.5312\n",
      "Epoch 89: Saving checkpoint...\n",
      "______________________________________________________________\n",
      "Epoch 89 Train Loss: 0.0 | MSE: 0.0 | MAE: 0.0 | Accuracy: 1.0\n",
      "Epoch 89 Val Loss: 0.1086 | MSE: 0.4511 | MAE: 0.4709  | Accuracy: 0.5312\n",
      "Epoch 90: Saving checkpoint...\n",
      "______________________________________________________________\n",
      "Epoch 90 Train Loss: 0.0 | MSE: 0.0 | MAE: 0.0 | Accuracy: 1.0\n",
      "Epoch 90 Val Loss: 0.1086 | MSE: 0.4512 | MAE: 0.4708  | Accuracy: 0.5312\n",
      "Epoch 91: Saving checkpoint...\n",
      "______________________________________________________________\n",
      "Epoch 91 Train Loss: 0.0 | MSE: 0.0 | MAE: 0.0 | Accuracy: 1.0\n",
      "Epoch 91 Val Loss: 0.1086 | MSE: 0.4513 | MAE: 0.4707  | Accuracy: 0.5312\n",
      "Epoch 92: Saving checkpoint...\n",
      "______________________________________________________________\n",
      "Epoch 92 Train Loss: 0.0 | MSE: 0.0 | MAE: 0.0 | Accuracy: 1.0\n",
      "Epoch 92 Val Loss: 0.1086 | MSE: 0.4513 | MAE: 0.4707  | Accuracy: 0.5312\n",
      "Epoch 93: Saving checkpoint...\n",
      "______________________________________________________________\n",
      "Epoch 93 Train Loss: 0.0 | MSE: 0.0 | MAE: 0.0 | Accuracy: 1.0\n",
      "Epoch 93 Val Loss: 0.1086 | MSE: 0.4514 | MAE: 0.4706  | Accuracy: 0.5312\n",
      "Epoch 94: Saving checkpoint...\n",
      "______________________________________________________________\n",
      "Epoch 94 Train Loss: 0.0 | MSE: 0.0 | MAE: 0.0 | Accuracy: 1.0\n",
      "Epoch 94 Val Loss: 0.1086 | MSE: 0.4515 | MAE: 0.4706  | Accuracy: 0.5312\n",
      "Epoch 95: Saving checkpoint...\n",
      "______________________________________________________________\n",
      "Epoch 95 Train Loss: 0.0 | MSE: 0.0 | MAE: 0.0 | Accuracy: 1.0\n",
      "Epoch 95 Val Loss: 0.1086 | MSE: 0.4515 | MAE: 0.4706  | Accuracy: 0.5469\n",
      "Epoch 96: Saving checkpoint...\n",
      "______________________________________________________________\n",
      "Epoch 96 Train Loss: 0.0 | MSE: 0.0 | MAE: 0.0 | Accuracy: 1.0\n",
      "Epoch 96 Val Loss: 0.1086 | MSE: 0.4516 | MAE: 0.4706  | Accuracy: 0.5469\n",
      "Epoch 97: Saving checkpoint...\n",
      "______________________________________________________________\n",
      "Epoch 97 Train Loss: 0.0 | MSE: 0.0 | MAE: 0.0 | Accuracy: 1.0\n",
      "Epoch 97 Val Loss: 0.1086 | MSE: 0.4516 | MAE: 0.4706  | Accuracy: 0.5469\n",
      "Epoch 98: Saving checkpoint...\n",
      "______________________________________________________________\n",
      "Epoch 98 Train Loss: 0.0 | MSE: 0.0 | MAE: 0.0 | Accuracy: 1.0\n",
      "Epoch 98 Val Loss: 0.1086 | MSE: 0.4517 | MAE: 0.4706  | Accuracy: 0.5469\n",
      "Epoch 99: Saving checkpoint...\n",
      "______________________________________________________________\n",
      "Epoch 99 Train Loss: 0.0 | MSE: 0.0 | MAE: 0.0 | Accuracy: 1.0\n",
      "Epoch 99 Val Loss: 0.1087 | MSE: 0.4517 | MAE: 0.4706  | Accuracy: 0.5469\n",
      "Epoch 100: Saving checkpoint...\n",
      "Epoch 100 Test Loss: 0.1148 | MSE: 0.4863 | MAE: 0.5084  | Accuracy: 0.5\n"
     ]
    }
   ],
   "source": [
    "model = train(train_generator, val_generator, test_generator, model, optimizer, loss_func, NUM_HANGING_VALUES, EPOCHS, device, log = 1, log_file = \"./Training_Logs\\\\Training.txt\", verbose = 1, val = True, early_callback=False, early_callback_epochs=None,\n",
    "              checkpoint=True, epochs_per_checkpoint=1, break_after_checkpoint=False, checkpoint_filename=\"./Models\\\\PikeBot_Models\\\\PikeBot_checkpoint.pth\")"
   ]
  },
  {
   "cell_type": "markdown",
   "metadata": {},
   "source": [
    "## Saving Model"
   ]
  },
  {
   "cell_type": "code",
   "execution_count": 10,
   "metadata": {},
   "outputs": [
    {
     "data": {
      "text/plain": [
       "Chess_Model(\n",
       "  (conv1): Conv2d(76, 304, kernel_size=(3, 3), stride=(1, 1), padding=(1, 1))\n",
       "  (conv2): Conv2d(304, 304, kernel_size=(3, 3), stride=(1, 1), padding=(1, 1))\n",
       "  (conv3): Conv2d(304, 304, kernel_size=(3, 3), stride=(1, 1), padding=(1, 1))\n",
       "  (conv4): Conv2d(304, 76, kernel_size=(3, 3), stride=(1, 1), padding=(1, 1))\n",
       "  (conv5): Conv2d(76, 304, kernel_size=(3, 3), stride=(1, 1), padding=(1, 1))\n",
       "  (conv6): Conv2d(304, 304, kernel_size=(3, 3), stride=(1, 1), padding=(1, 1))\n",
       "  (conv7): Conv2d(304, 304, kernel_size=(3, 3), stride=(1, 1), padding=(1, 1))\n",
       "  (conv8): Conv2d(304, 76, kernel_size=(3, 3), stride=(1, 1), padding=(1, 1))\n",
       "  (pool): MaxPool2d(kernel_size=3, stride=2, padding=0, dilation=1, ceil_mode=False)\n",
       "  (float_inputs_fc): Linear(in_features=4, out_features=512, bias=True)\n",
       "  (fc1): Linear(in_features=588, out_features=1024, bias=True)\n",
       "  (fc2): Linear(in_features=1024, out_features=64, bias=True)\n",
       "  (output_layer): Linear(in_features=64, out_features=1, bias=True)\n",
       ")"
      ]
     },
     "execution_count": 10,
     "metadata": {},
     "output_type": "execute_result"
    }
   ],
   "source": [
    "model"
   ]
  },
  {
   "cell_type": "code",
   "execution_count": 11,
   "metadata": {},
   "outputs": [
    {
     "name": "stdout",
     "output_type": "stream",
     "text": [
      "Model saved successfully!\n"
     ]
    }
   ],
   "source": [
    "temp_state_path = \"./Models\\\\PikeBot_Models\\\\temp_state_dict.pth\"\n",
    "torch.save(model.state_dict(), temp_state_path)\n",
    "model = Chess_Model(bit_board_shape = (76, 8, 8), num_float_inputs = 4, channel_multiple = 4, concatenated_size = 588)\n",
    "model.load_state_dict(torch.load(temp_state_path))\n",
    "save_model(model, model_filename = \"./Models\\\\PikeBot_Models\\\\PikeBot.pth\", onnx_filename= \"./Models\\\\PikeBot_Models\\\\PikeBot.onnx\", bitboard_input_shape = (1, 76, 8, 8), hanging_values_input_shape = (1, 4), opset_version=11, device=\"cpu\")"
   ]
  }
 ],
 "metadata": {
  "kernelspec": {
   "display_name": "PikeBot_Model_Env",
   "language": "python",
   "name": "python3"
  },
  "language_info": {
   "codemirror_mode": {
    "name": "ipython",
    "version": 3
   },
   "file_extension": ".py",
   "mimetype": "text/x-python",
   "name": "python",
   "nbconvert_exporter": "python",
   "pygments_lexer": "ipython3",
   "version": "3.10.6"
  }
 },
 "nbformat": 4,
 "nbformat_minor": 2
}
