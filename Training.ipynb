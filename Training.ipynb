{
 "cells": [
  {
   "cell_type": "code",
   "execution_count": null,
   "metadata": {},
   "outputs": [],
   "source": [
    "import pandas as pd\n",
    "import numpy as np\n",
    "import os\n",
    "import torch\n",
    "from torchvision import transforms\n",
    "from torch.utils.data import Dataset, DataLoader\n",
    "from torchvision import transforms\n",
    "import torch.nn as nn\n",
    "import torch.onnx\n",
    "import torchvision.models as models\n",
    "from torchvision.models import resnet18, ResNet18_Weights"
   ]
  },
  {
   "cell_type": "code",
   "execution_count": null,
   "metadata": {},
   "outputs": [],
   "source": [
    "def Chess_Model(nn.Module):\n",
    "    def __init__(self, bit_board_shape, num_float_inputs, channel_multiple, concatenated_size):\n",
    "        super(Chess_Model, self).__init__()\n",
    "        self.num_channels = bit_board_shape[0]\n",
    "        self.multiple = channel_multiple\n",
    "        self.num_float_inputs = num_float_inputs\n",
    "        self.concat_size = concatenated_size\n",
    "        \n",
    "        #RESNET BLOCK 1\n",
    "        self.conv1 = nn.Conv2d(in_channels=self.num_channels, out_channels=self.num_channels*self.multiple, kernel_size=3, stride=1, padding=1)\n",
    "        self.conv2 = nn.Conv2d(in_channels=self.num_channels*self.multiple, out_channels=self.num_channels*self.multiple, kernel_size=3, stride=1, padding=1)\n",
    "        self.conv3 = nn.Conv2d(in_channels=self.num_channels*self.multiple, out_channels=self.num_channels*self.multiple, kernel_size=3, stride=1, padding=1)\n",
    "        self.conv4 = nn.Conv2d(in_channels=self.num_channels*self.multiple, out_channels=self.num_channels, kernel_size=3, stride=1, padding=1)\n",
    "\n",
    "        #RESNET BLOCK 2\n",
    "        self.conv5 = nn.Conv2d(in_channels=self.num_channels, out_channels=self.num_channels*self.multiple, kernel_size=3, stride=1, padding=1)\n",
    "        self.conv6 = nn.Conv2d(in_channels=self.num_channels*self.multiple, out_channels=self.num_channels*self.multiple, kernel_size=3, stride=1, padding=1)\n",
    "        self.conv7 = nn.Conv2d(in_channels=self.num_channels*self.multiple, out_channels=self.num_channels*self.multiple, kernel_size=3, stride=1, padding=1)\n",
    "        self.conv8 = nn.Conv2d(in_channels=self.num_channels*self.multiple, out_channels=self.num_channels, kernel_size=3, stride=1, padding=1)\n",
    "\n",
    "        #RESNET BLOCK 3\n",
    "        self.conv9 = nn.Conv2d(in_channels=self.num_channels, out_channels=self.num_channels*self.multiple, kernel_size=3, stride=1, padding=1)\n",
    "        self.conv10 = nn.Conv2d(in_channels=self.num_channels*self.multiple, out_channels=self.num_channels*self.multiple, kernel_size=3, stride=1, padding=1)\n",
    "        self.conv11= nn.Conv2d(in_channels=self.num_channels*self.multiple, out_channels=self.num_channels*self.multiple, kernel_size=3, stride=1, padding=1)\n",
    "        self.conv12 = nn.Conv2d(in_channels=self.num_channels*self.multiple, out_channels=self.num_channels, kernel_size=3, stride=1, padding=1)\n",
    "\n",
    "        self.pool = nn.MaxPool2d(kernel_size=3, stride=2)\n",
    "        self.float_inputs_fc = nn.Linear(self.num_float_inputs, 512)\n",
    "        self.fc1 = nn.Linear(self.concat_size, 1024)\n",
    "        self.fc2 = nn.Linear(1024, 64)\n",
    "        self.output_layer = nn.Linear(64, 1)\n",
    "\n",
    "    def forward(self, bit_board, hanging_inputs):\n",
    "        conv_x = self.pool(self.ResNetBlock1(bit_board))\n",
    "        conv_x = self.pool(self.ResNetBlock2(conv_x))\n",
    "        conv_x = self.pool(self.ResNetBlock3(conv_x))\n",
    "\n",
    "        conv_x = conv_x.view(conv_x.size(0), -1)\n",
    "        float_x = nn.functional.relu(self.float_inputs_fc(hanging_inputs))\n",
    "        x = torch.cat((float_x, conv_x), dim=1)\n",
    "        x = nn.functional.relu(self.fc1(x))\n",
    "        x = nn.functional.relu(self.fc2(x))\n",
    "        x =  torch.sigmoid(self.output_layer(x))\n",
    "        return x\n",
    "    \n",
    "    def ResNetBlock1(self, x):\n",
    "        conv_x1 = self.conv1(x)\n",
    "        conv_x2 = self.conv2(conv_x1)\n",
    "        added1 = conv_x1 + conv_x2\n",
    "        conv_x3 =self.conv3(added1)\n",
    "        added2 = conv_x1 + conv_x2 + conv_x3\n",
    "        conv_x4 = self.conv4(added2)\n",
    "        return conv_x4 + x\n",
    "    \n",
    "    def ResNetBlock2(self, x):\n",
    "        conv_x1 = self.conv5(x)\n",
    "        conv_x2 = self.conv6(conv_x1)\n",
    "        added1 = conv_x1 + conv_x2\n",
    "        conv_x3 =self.conv7(added1)\n",
    "        added2 = conv_x1 + conv_x2 + conv_x3\n",
    "        conv_x4 = self.conv8(added2)\n",
    "        return conv_x4 + x\n",
    "    \n",
    "    def ResNetBlock3(self, x):\n",
    "        conv_x1 = self.conv9(x)\n",
    "        conv_x2 = self.conv10(conv_x1)\n",
    "        added1 = conv_x1 + conv_x2\n",
    "        conv_x3 =self.conv11(added1)\n",
    "        added2 = conv_x1 + conv_x2 + conv_x3\n",
    "        conv_x4 = self.conv12(added2)\n",
    "        return conv_x4 + x"
   ]
  },
  {
   "cell_type": "code",
   "execution_count": null,
   "metadata": {},
   "outputs": [],
   "source": [
    "def count_parameters(model):\n",
    "    return sum(p.numel() for p in model.parameters() if p.requires_grad)"
   ]
  },
  {
   "cell_type": "code",
   "execution_count": null,
   "metadata": {},
   "outputs": [],
   "source": [
    "model = Chess_Model(bit_board_shape = (72, 8, 8), num_float_inputs = 8, channel_multiple = 4, concatenated_size = 10)\n",
    "num_params = count_parameters(model)\n",
    "print(\"Number of parameters in the model in millions:\", round(num_params/(1e6), 4))"
   ]
  },
  {
   "cell_type": "code",
   "execution_count": null,
   "metadata": {},
   "outputs": [],
   "source": [
    "model.eval()\n",
    "model = model.to(\"cpu\")\n",
    "opset_version = 20\n",
    "board_shape = (1, 72, 8, 8)\n",
    "floats_shape = (1, 8)\n",
    "input_bitboard = torch.tensor(np.random.rand(*board_shape), dtype = torch.float32)\n",
    "input_floats = torch.tensor(np.random.rand(*floats_shape), dtype = torch.float32)\n",
    "torch.onnx.export(model, (input_bitboard, input_floats), \"./Models\\\\PikeBot_Models\\\\CNN_model_basic.onnx\", opset_version=opset_version)\n",
    "print(\"Model exported successfully!\")"
   ]
  }
 ],
 "metadata": {
  "language_info": {
   "name": "python"
  }
 },
 "nbformat": 4,
 "nbformat_minor": 2
}
