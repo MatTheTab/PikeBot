{
 "cells": [
  {
   "cell_type": "markdown",
   "metadata": {},
   "source": [
    "# 4: Model Training"
   ]
  },
  {
   "cell_type": "markdown",
   "metadata": {},
   "source": [
    "## Imports"
   ]
  },
  {
   "cell_type": "code",
   "execution_count": 1,
   "metadata": {},
   "outputs": [],
   "source": [
    "from utils.model_utils import *\n",
    "import torch.onnx"
   ]
  },
  {
   "cell_type": "markdown",
   "metadata": {},
   "source": [
    "## Model Sanity Check"
   ]
  },
  {
   "cell_type": "code",
   "execution_count": 2,
   "metadata": {},
   "outputs": [
    {
     "name": "stdout",
     "output_type": "stream",
     "text": [
      "Number of parameters in the model in millions: 4.8321\n"
     ]
    }
   ],
   "source": [
    "model = Chess_Model(bit_board_shape = (76, 8, 8), num_float_inputs = 4, channel_multiple = 4, concatenated_size = 588)\n",
    "num_params = count_parameters(model)\n",
    "print(\"Number of parameters in the model in millions:\", round(num_params/(1e6), 4))"
   ]
  },
  {
   "cell_type": "code",
   "execution_count": 3,
   "metadata": {},
   "outputs": [
    {
     "name": "stdout",
     "output_type": "stream",
     "text": [
      "Chess_Model(\n",
      "  (conv1): Conv2d(76, 304, kernel_size=(3, 3), stride=(1, 1), padding=(1, 1))\n",
      "  (conv2): Conv2d(304, 304, kernel_size=(3, 3), stride=(1, 1), padding=(1, 1))\n",
      "  (conv3): Conv2d(304, 304, kernel_size=(3, 3), stride=(1, 1), padding=(1, 1))\n",
      "  (conv4): Conv2d(304, 76, kernel_size=(3, 3), stride=(1, 1), padding=(1, 1))\n",
      "  (conv5): Conv2d(76, 304, kernel_size=(3, 3), stride=(1, 1), padding=(1, 1))\n",
      "  (conv6): Conv2d(304, 304, kernel_size=(3, 3), stride=(1, 1), padding=(1, 1))\n",
      "  (conv7): Conv2d(304, 304, kernel_size=(3, 3), stride=(1, 1), padding=(1, 1))\n",
      "  (conv8): Conv2d(304, 76, kernel_size=(3, 3), stride=(1, 1), padding=(1, 1))\n",
      "  (pool): MaxPool2d(kernel_size=3, stride=2, padding=0, dilation=1, ceil_mode=False)\n",
      "  (float_inputs_fc): Linear(in_features=4, out_features=512, bias=True)\n",
      "  (fc1): Linear(in_features=588, out_features=1024, bias=True)\n",
      "  (fc2): Linear(in_features=1024, out_features=64, bias=True)\n",
      "  (output_layer): Linear(in_features=64, out_features=1, bias=True)\n",
      ")\n"
     ]
    }
   ],
   "source": [
    "print(model)"
   ]
  },
  {
   "cell_type": "code",
   "execution_count": 4,
   "metadata": {},
   "outputs": [
    {
     "data": {
      "text/plain": [
       "tensor([[0.5097]], grad_fn=<SigmoidBackward0>)"
      ]
     },
     "execution_count": 4,
     "metadata": {},
     "output_type": "execute_result"
    }
   ],
   "source": [
    "board_shape = (1, 76, 8, 8)\n",
    "floats_shape = (1, 4)\n",
    "input_bitboard = torch.tensor(np.random.rand(*board_shape), dtype = torch.float32)\n",
    "input_floats = torch.tensor(np.random.rand(*floats_shape), dtype = torch.float32)\n",
    "output = model(input_bitboard, input_floats)\n",
    "output"
   ]
  },
  {
   "cell_type": "markdown",
   "metadata": {},
   "source": [
    "## Model Training"
   ]
  },
  {
   "cell_type": "code",
   "execution_count": 5,
   "metadata": {},
   "outputs": [
    {
     "name": "stdout",
     "output_type": "stream",
     "text": [
      "Detected Device: cuda\n"
     ]
    }
   ],
   "source": [
    "LR = 1e-4\n",
    "optimizer = torch.optim.Adam(model.parameters(), lr=LR)\n",
    "loss_func = nn.BCELoss()\n",
    "NUM_HANGING_VALUES = 4\n",
    "EPOCHS = 16\n",
    "device = torch.device(\"cuda\" if torch.cuda.is_available() else \"cpu\")\n",
    "print(f\"Detected Device: {device}\")"
   ]
  },
  {
   "cell_type": "code",
   "execution_count": 6,
   "metadata": {},
   "outputs": [
    {
     "data": {
      "text/plain": [
       "209557"
      ]
     },
     "execution_count": 6,
     "metadata": {},
     "output_type": "execute_result"
    }
   ],
   "source": [
    "train_generator = efficent_load_object(\"./Generators\\\\train_generator.pkl\")\n",
    "train_generator.__len__()"
   ]
  },
  {
   "cell_type": "code",
   "execution_count": 7,
   "metadata": {},
   "outputs": [
    {
     "data": {
      "text/plain": [
       "20931"
      ]
     },
     "execution_count": 7,
     "metadata": {},
     "output_type": "execute_result"
    }
   ],
   "source": [
    "val_generator = efficent_load_object(\"./Generators\\\\val_generator.pkl\")\n",
    "val_generator.__len__()"
   ]
  },
  {
   "cell_type": "code",
   "execution_count": 8,
   "metadata": {},
   "outputs": [
    {
     "data": {
      "text/plain": [
       "20974"
      ]
     },
     "execution_count": 8,
     "metadata": {},
     "output_type": "execute_result"
    }
   ],
   "source": [
    "test_generator = efficent_load_object(\"./Generators\\\\test_generator.pkl\")\n",
    "test_generator.__len__()"
   ]
  },
  {
   "cell_type": "code",
   "execution_count": 9,
   "metadata": {},
   "outputs": [],
   "source": [
    "del train_generator\n",
    "del val_generator\n",
    "del test_generator"
   ]
  },
  {
   "cell_type": "code",
   "execution_count": 10,
   "metadata": {},
   "outputs": [
    {
     "name": "stdout",
     "output_type": "stream",
     "text": [
      "Checkpoint found. Resuming training from checkpoint...\n",
      "______________________________________________________________\n",
      "Epoch 14 Train Loss: 0.0074 | MSE: 0.1569 | MAE: 0.3133 | Accuracy: 0.7658\n",
      "Epoch 14 Val Loss: 0.0076 | MSE: 0.1573 | MAE: 0.3079  | Accuracy: 0.7657\n",
      "Epoch 15: Saving checkpoint...\n",
      "______________________________________________________________\n",
      "Epoch 15 Train Loss: 0.0075 | MSE: 0.157 | MAE: 0.3133 | Accuracy: 0.7657\n",
      "Epoch 15 Val Loss: 0.0074 | MSE: 0.1572 | MAE: 0.3092  | Accuracy: 0.7657\n",
      "Epoch 16: Saving checkpoint...\n",
      "Epoch 16 Test Loss: 0.0075 | MSE: 0.1572 | MAE: 0.3091  | Accuracy: 0.7658\n"
     ]
    }
   ],
   "source": [
    "model = model.to(device)\n",
    "train_generator_path = \"./Generators\\\\train_generator.pkl\"\n",
    "val_generator_path = \"./Generators\\\\val_generator.pkl\"\n",
    "test_generator_path = \"./Generators\\\\test_generator.pkl\"\n",
    "model = train(train_generator_path, val_generator_path, test_generator_path, model, optimizer, loss_func, NUM_HANGING_VALUES, EPOCHS, device, log = 1, log_file = \"./Training_Logs\\\\Training.txt\", verbose = 1, val = True, early_callback=False, early_callback_epochs=None,\n",
    "              checkpoint=True, epochs_per_checkpoint=1, break_after_checkpoint=False, checkpoint_filename=\"./Models\\\\PikeBot_Models\\\\PikeBot_checkpoint.pth\")"
   ]
  },
  {
   "cell_type": "markdown",
   "metadata": {},
   "source": [
    "## Saving Model"
   ]
  },
  {
   "cell_type": "code",
   "execution_count": 5,
   "metadata": {},
   "outputs": [
    {
     "data": {
      "text/plain": [
       "Chess_Model(\n",
       "  (conv1): Conv2d(76, 304, kernel_size=(3, 3), stride=(1, 1), padding=(1, 1))\n",
       "  (conv2): Conv2d(304, 304, kernel_size=(3, 3), stride=(1, 1), padding=(1, 1))\n",
       "  (conv3): Conv2d(304, 304, kernel_size=(3, 3), stride=(1, 1), padding=(1, 1))\n",
       "  (conv4): Conv2d(304, 76, kernel_size=(3, 3), stride=(1, 1), padding=(1, 1))\n",
       "  (conv5): Conv2d(76, 304, kernel_size=(3, 3), stride=(1, 1), padding=(1, 1))\n",
       "  (conv6): Conv2d(304, 304, kernel_size=(3, 3), stride=(1, 1), padding=(1, 1))\n",
       "  (conv7): Conv2d(304, 304, kernel_size=(3, 3), stride=(1, 1), padding=(1, 1))\n",
       "  (conv8): Conv2d(304, 76, kernel_size=(3, 3), stride=(1, 1), padding=(1, 1))\n",
       "  (pool): MaxPool2d(kernel_size=3, stride=2, padding=0, dilation=1, ceil_mode=False)\n",
       "  (float_inputs_fc): Linear(in_features=4, out_features=512, bias=True)\n",
       "  (fc1): Linear(in_features=588, out_features=1024, bias=True)\n",
       "  (fc2): Linear(in_features=1024, out_features=64, bias=True)\n",
       "  (output_layer): Linear(in_features=64, out_features=1, bias=True)\n",
       ")"
      ]
     },
     "execution_count": 5,
     "metadata": {},
     "output_type": "execute_result"
    }
   ],
   "source": [
    "model"
   ]
  },
  {
   "cell_type": "code",
   "execution_count": 7,
   "metadata": {},
   "outputs": [],
   "source": [
    "temp_state_path = \"./Models\\\\PikeBot_Models\\\\temp_state_dict.pth\""
   ]
  },
  {
   "cell_type": "code",
   "execution_count": null,
   "metadata": {},
   "outputs": [],
   "source": [
    "torch.save(model.state_dict(), temp_state_path)"
   ]
  },
  {
   "cell_type": "code",
   "execution_count": 8,
   "metadata": {},
   "outputs": [
    {
     "name": "stdout",
     "output_type": "stream",
     "text": [
      "Model saved successfully!\n"
     ]
    }
   ],
   "source": [
    "model = Chess_Model(bit_board_shape = (76, 8, 8), num_float_inputs = 4, channel_multiple = 4, concatenated_size = 588)\n",
    "model.load_state_dict(torch.load(temp_state_path))\n",
    "save_model(model, model_filename = \"./Models\\\\PikeBot_Models\\\\PikeBot.pth\", onnx_filename= \"./Models\\\\PikeBot_Models\\\\PikeBot.onnx\", bitboard_input_shape = (1, 76, 8, 8), hanging_values_input_shape = (1, 4), opset_version=11, device=\"cpu\")"
   ]
  }
 ],
 "metadata": {
  "kernelspec": {
   "display_name": "PikeBot_Model_Env",
   "language": "python",
   "name": "python3"
  },
  "language_info": {
   "codemirror_mode": {
    "name": "ipython",
    "version": 3
   },
   "file_extension": ".py",
   "mimetype": "text/x-python",
   "name": "python",
   "nbconvert_exporter": "python",
   "pygments_lexer": "ipython3",
   "version": "3.10.6"
  }
 },
 "nbformat": 4,
 "nbformat_minor": 2
}
