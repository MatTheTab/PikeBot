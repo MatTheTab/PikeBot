{
 "cells": [
  {
   "cell_type": "code",
   "execution_count": 1,
   "metadata": {},
   "outputs": [
    {
     "name": "stderr",
     "output_type": "stream",
     "text": [
      "2024-09-04 16:30:29.181030: I tensorflow/core/platform/cpu_feature_guard.cc:182] This TensorFlow binary is optimized to use available CPU instructions in performance-critical operations.\n",
      "To enable the following instructions: SSE4.1 SSE4.2 AVX AVX2 FMA, in other operations, rebuild TensorFlow with the appropriate compiler flags.\n"
     ]
    },
    {
     "data": {
      "text/plain": [
       "625695"
      ]
     },
     "execution_count": 1,
     "metadata": {},
     "output_type": "execute_result"
    }
   ],
   "source": [
    "from utils.model_utils import *\n",
    "\n",
    "\n",
    "TRAIN_GENERATOR_PATH = \"./Generators/train_generator.pkl\"\n",
    "VAL_GENERATOR_PATH = \"./Generators/val_generator.pkl\"\n",
    "TEST_GENERATOR_PATH = \"./Generators/test_generator.pkl\"\n",
    "\n",
    "\n",
    "train_generator = efficent_load_object(TRAIN_GENERATOR_PATH)\n",
    "train_generator.__len__()"
   ]
  },
  {
   "cell_type": "code",
   "execution_count": 2,
   "metadata": {},
   "outputs": [
    {
     "data": {
      "text/plain": [
       "63153"
      ]
     },
     "execution_count": 2,
     "metadata": {},
     "output_type": "execute_result"
    }
   ],
   "source": [
    "val_generator = efficent_load_object(VAL_GENERATOR_PATH)\n",
    "val_generator.__len__()"
   ]
  },
  {
   "cell_type": "code",
   "execution_count": 3,
   "metadata": {},
   "outputs": [
    {
     "data": {
      "text/plain": [
       "62784"
      ]
     },
     "execution_count": 3,
     "metadata": {},
     "output_type": "execute_result"
    }
   ],
   "source": [
    "test_generator = efficent_load_object(TEST_GENERATOR_PATH)\n",
    "test_generator.__len__()"
   ]
  },
  {
   "cell_type": "code",
   "execution_count": 8,
   "metadata": {},
   "outputs": [],
   "source": [
    "def count_nans(loader):\n",
    "    total_examples = 0\n",
    "    total_nums = 0\n",
    "    for X_train, y_train in loader:\n",
    "        if X_train is None and y_train is None:\n",
    "            break\n",
    "        total_examples += len(y_train)\n",
    "        hanging_vals, bitboards = separate_hanging_and_bitboards(X_train)\n",
    "        hanging_vals = hanging_vals.astype(np.float32)\n",
    "        nan_count = np.isnan(hanging_vals).sum()\n",
    "        total_nums += nan_count\n",
    "    return total_nums, total_examples"
   ]
  },
  {
   "cell_type": "code",
   "execution_count": 9,
   "metadata": {},
   "outputs": [
    {
     "name": "stdout",
     "output_type": "stream",
     "text": [
      "Total number Examples: 40044480\n",
      "Total Number of NaNs: 29669\n",
      "Relative: 0.0007\n"
     ]
    }
   ],
   "source": [
    "total_nums, total_examples = count_nans(train_generator)\n",
    "print(f\"Total number Examples: {total_examples}\")\n",
    "print(f\"Total Number of NaNs: {total_nums}\")\n",
    "print(f\"Relative: {round(total_nums/total_examples, 4)}\")"
   ]
  },
  {
   "cell_type": "code",
   "execution_count": 10,
   "metadata": {},
   "outputs": [
    {
     "name": "stdout",
     "output_type": "stream",
     "text": [
      "Total number Examples: 4041792\n",
      "Total Number of NaNs: 2836\n",
      "Relative: 0.0007\n"
     ]
    }
   ],
   "source": [
    "total_nums, total_examples = count_nans(val_generator)\n",
    "print(f\"Total number Examples: {total_examples}\")\n",
    "print(f\"Total Number of NaNs: {total_nums}\")\n",
    "print(f\"Relative: {round(total_nums/total_examples, 4)}\")"
   ]
  },
  {
   "cell_type": "code",
   "execution_count": 11,
   "metadata": {},
   "outputs": [
    {
     "name": "stdout",
     "output_type": "stream",
     "text": [
      "Total number Examples: 4018176\n",
      "Total Number of NaNs: 3802\n",
      "Relative: 0.0009\n"
     ]
    }
   ],
   "source": [
    "total_nums, total_examples = count_nans(test_generator)\n",
    "print(f\"Total number Examples: {total_examples}\")\n",
    "print(f\"Total Number of NaNs: {total_nums}\")\n",
    "print(f\"Relative: {round(total_nums/total_examples, 4)}\")"
   ]
  }
 ],
 "metadata": {
  "kernelspec": {
   "display_name": "Pike_Env",
   "language": "python",
   "name": "python3"
  },
  "language_info": {
   "codemirror_mode": {
    "name": "ipython",
    "version": 3
   },
   "file_extension": ".py",
   "mimetype": "text/x-python",
   "name": "python",
   "nbconvert_exporter": "python",
   "pygments_lexer": "ipython3",
   "version": "3.10.13"
  }
 },
 "nbformat": 4,
 "nbformat_minor": 2
}
