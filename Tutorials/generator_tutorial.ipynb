{
 "cells": [
  {
   "cell_type": "code",
   "execution_count": 1,
   "metadata": {},
   "outputs": [],
   "source": [
    "import os\n",
    "import pandas as pd\n",
    "import tensorflow as tf\n",
    "from utils.data_utils import * \n",
    "import time\n",
    "import pickle"
   ]
  },
  {
   "cell_type": "code",
   "execution_count": 2,
   "metadata": {},
   "outputs": [],
   "source": [
    "def save_object(object, file_path):\n",
    "    with open(file_path, 'wb') as f:\n",
    "        pickle.dump(object, f)\n",
    "\n",
    "def load_object(file_path):\n",
    "    with open(file_path, 'rb') as f:\n",
    "        loaded_object = pickle.load(f)\n",
    "    return loaded_object"
   ]
  },
  {
   "cell_type": "code",
   "execution_count": 3,
   "metadata": {},
   "outputs": [],
   "source": [
    "class NPYSequence(tf.keras.utils.Sequence):\n",
    "    def __init__(self, folder_path, column_names_file, batch_size=32, target_column = \"human\"):\n",
    "        self.folder_path = folder_path\n",
    "        self.column_names_file = column_names_file\n",
    "        self.batch_size = batch_size\n",
    "        self.file_names = os.listdir(folder_path)\n",
    "        self.file_names = [f for f in self.file_names if f.endswith('.npy.gz')]\n",
    "        self.total_samples = self.calculate_total_samples()\n",
    "        self.current_data = None\n",
    "        self.target_column = target_column\n",
    "        self.load_next_file()\n",
    "        \n",
    "    def calculate_total_samples(self):\n",
    "        total_samples = 0\n",
    "        for file_name in self.file_names:\n",
    "            file_path = os.path.join(self.folder_path, file_name)\n",
    "            data = read(file_path, self.column_names_file)\n",
    "            total_samples += len(data)\n",
    "        return total_samples\n",
    "    \n",
    "    def __len__(self):\n",
    "        return self.total_samples // self.batch_size\n",
    "    \n",
    "    \n",
    "    def __getitem__(self, index):\n",
    "        start_index = index * self.batch_size - self.current_index\n",
    "        end_index = start_index + self.batch_size\n",
    "        print(\"_______________________\") \n",
    "        print(start_index)\n",
    "        print(end_index)\n",
    "        if self.current_data is None:\n",
    "            return None, None\n",
    "        batch_data = self.current_data.iloc[start_index:end_index]\n",
    " \n",
    "        if len(batch_data) < self.batch_size:\n",
    "            \n",
    "            self.load_next_file()\n",
    "            start_index = 0\n",
    "            end_index = self.batch_size-len(batch_data)\n",
    "            \n",
    "            if self.current_data is not None:\n",
    "                batch_data = pd.concat([batch_data, self.current_data.iloc[start_index:end_index]], axis=0)\n",
    "                self.current_index = index * self.batch_size + len(batch_data)\n",
    "        X = batch_data.drop(columns = [self.target_column])\n",
    "        X = X.values\n",
    "        y = batch_data[self.target_column]\n",
    "        y = y.values\n",
    "        return X, y\n",
    "    \n",
    "    def load_next_file(self):\n",
    "        if not self.file_names:\n",
    "            self.current_data = None\n",
    "            return\n",
    "        file_name = self.file_names.pop(0)\n",
    "        file_path = os.path.join(self.folder_path, file_name)\n",
    "        self.current_index=0\n",
    "        self.current_data = read(file_path, self.column_names_file)\n",
    "    \n",
    "    \n",
    "\n",
    "data_folder = './Temp_Data/Train'\n",
    "column_names_file = './Temp_Data/Train/column_names.txt'\n",
    "batch_size = 64\n",
    "\n",
    "data_generator_tf = NPYSequence(data_folder, column_names_file, batch_size=batch_size)"
   ]
  },
  {
   "cell_type": "code",
   "execution_count": null,
   "metadata": {},
   "outputs": [],
   "source": [
    "data_generator_tf.__len__()"
   ]
  },
  {
   "cell_type": "code",
   "execution_count": null,
   "metadata": {},
   "outputs": [],
   "source": [
    "i=0\n",
    "\n",
    "start_time = time.time()\n",
    "for b in data_generator_tf:\n",
    "    i+=1\n",
    "end_time = time.time()\n",
    "elapsed_time_tf = end_time - start_time"
   ]
  },
  {
   "cell_type": "code",
   "execution_count": null,
   "metadata": {},
   "outputs": [],
   "source": [
    "save_object(data_generator_tf, \"./Generators\\\\tf_generator.pkl\")\n",
    "data_generator_tf = load_object(\"./Generators\\\\tf_generator.pkl\")\n",
    "data_generator_tf.__len__()"
   ]
  }
 ],
 "metadata": {
  "kernelspec": {
   "display_name": "Python 3",
   "language": "python",
   "name": "python3"
  },
  "language_info": {
   "codemirror_mode": {
    "name": "ipython",
    "version": 3
   },
   "file_extension": ".py",
   "mimetype": "text/x-python",
   "name": "python",
   "nbconvert_exporter": "python",
   "pygments_lexer": "ipython3",
   "version": "3.10.6"
  }
 },
 "nbformat": 4,
 "nbformat_minor": 2
}
