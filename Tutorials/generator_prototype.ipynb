{
 "cells": [
  {
   "cell_type": "code",
   "execution_count": 1,
   "metadata": {},
   "outputs": [],
   "source": [
    "import os\n",
    "import pandas as pd\n",
    "import tensorflow as tf\n",
    "import torch\n",
    "from torch.utils.data import Dataset, DataLoader\n",
    "from utils.data_utils import * \n",
    "import time\n",
    "import pickle"
   ]
  },
  {
   "cell_type": "code",
   "execution_count": 2,
   "metadata": {},
   "outputs": [],
   "source": [
    "def save_object(object, file_path):\n",
    "    with open(file_path, 'wb') as f:\n",
    "        pickle.dump(object, f)\n",
    "\n",
    "def load_object(file_path):\n",
    "    with open(file_path, 'rb') as f:\n",
    "        loaded_object = pickle.load(f)\n",
    "    return loaded_object"
   ]
  },
  {
   "cell_type": "code",
   "execution_count": 3,
   "metadata": {},
   "outputs": [],
   "source": [
    "class NPYSequence(tf.keras.utils.Sequence):\n",
    "    def __init__(self, folder_path, column_names_file, batch_size=32, target_column = \"human\"):\n",
    "        self.folder_path = folder_path\n",
    "        self.column_names_file = column_names_file\n",
    "        self.batch_size = batch_size\n",
    "        self.file_names = os.listdir(folder_path)\n",
    "        self.file_names = [f for f in self.file_names if f.endswith('.npy.gz')]\n",
    "        self.total_samples = self.calculate_total_samples()\n",
    "        self.current_data = None\n",
    "        self.current_index=0\n",
    "        self.target_column = target_column\n",
    "        self.load_next_file()\n",
    "        \n",
    "    def calculate_total_samples(self):\n",
    "        total_samples = 0\n",
    "        for file_name in self.file_names:\n",
    "            file_path = os.path.join(self.folder_path, file_name)\n",
    "            data = read(file_path, self.column_names_file)\n",
    "            total_samples += len(data)\n",
    "        return total_samples\n",
    "    \n",
    "    def __len__(self):\n",
    "        return self.total_samples // self.batch_size\n",
    "    \n",
    "    \n",
    "    def __getitem__(self, index):\n",
    "        start_index = index * self.batch_size - self.current_index\n",
    "        end_index = start_index + self.batch_size \n",
    "        batch_data = self.current_data.iloc[start_index:end_index]\n",
    " \n",
    "        if len(batch_data) < self.batch_size:\n",
    "            \n",
    "            self.load_next_file()\n",
    "            start_index = 0\n",
    "            end_index = self.batch_size-len(batch_data)\n",
    "            \n",
    "            batch_data = pd.concat([batch_data, self.current_data.iloc[start_index:end_index]], axis=0)\n",
    "            self.current_index = index * self.batch_size + len(batch_data)\n",
    "        X = batch_data.drop(columns = [self.target_column])\n",
    "        X = X.values\n",
    "        y = batch_data[self.target_column]\n",
    "        y = y.values\n",
    "        return X, y\n",
    "    \n",
    "    def load_next_file(self):\n",
    "        if not self.file_names:\n",
    "            return\n",
    "        file_name = self.file_names.pop(0)\n",
    "      \n",
    "        file_path = os.path.join(self.folder_path, file_name)\n",
    "\n",
    "        self.current_index=0\n",
    "        self.current_data = read(file_path, self.column_names_file)\n",
    "    \n",
    "    \n",
    "\n",
    "data_folder = './Temp_Data/Train'\n",
    "column_names_file = './Temp_Data/Train/column_names.txt'\n",
    "batch_size = 64\n",
    "\n",
    "data_generator_tf = NPYSequence(data_folder, column_names_file, batch_size=batch_size)"
   ]
  },
  {
   "cell_type": "code",
   "execution_count": 4,
   "metadata": {},
   "outputs": [
    {
     "ename": "KeyboardInterrupt",
     "evalue": "",
     "output_type": "error",
     "traceback": [
      "\u001b[1;31m---------------------------------------------------------------------------\u001b[0m",
      "\u001b[1;31mKeyboardInterrupt\u001b[0m                         Traceback (most recent call last)",
      "Cell \u001b[1;32mIn[4], line 47\u001b[0m\n\u001b[0;32m     44\u001b[0m column_names_file \u001b[38;5;241m=\u001b[39m \u001b[38;5;124m'\u001b[39m\u001b[38;5;124m./Model_Data/Train/column_names.txt\u001b[39m\u001b[38;5;124m'\u001b[39m\n\u001b[0;32m     45\u001b[0m batch_size \u001b[38;5;241m=\u001b[39m \u001b[38;5;241m64\u001b[39m\n\u001b[1;32m---> 47\u001b[0m chess_dataset_pt \u001b[38;5;241m=\u001b[39m \u001b[43mNPYSequence\u001b[49m\u001b[43m(\u001b[49m\u001b[43mdata_folder\u001b[49m\u001b[43m,\u001b[49m\u001b[43m \u001b[49m\u001b[43mcolumn_names_file\u001b[49m\u001b[43m,\u001b[49m\u001b[43m \u001b[49m\u001b[43mbatch_size\u001b[49m\u001b[38;5;241;43m=\u001b[39;49m\u001b[43mbatch_size\u001b[49m\u001b[43m)\u001b[49m\n\u001b[0;32m     48\u001b[0m chess_loader_pt \u001b[38;5;241m=\u001b[39m DataLoader(chess_dataset_pt, batch_size\u001b[38;5;241m=\u001b[39mbatch_size, shuffle\u001b[38;5;241m=\u001b[39m\u001b[38;5;28;01mTrue\u001b[39;00m)\n",
      "Cell \u001b[1;32mIn[3], line 8\u001b[0m, in \u001b[0;36mNPYSequence.__init__\u001b[1;34m(self, folder_path, column_names_file, batch_size, target_column)\u001b[0m\n\u001b[0;32m      6\u001b[0m \u001b[38;5;28mself\u001b[39m\u001b[38;5;241m.\u001b[39mfile_names \u001b[38;5;241m=\u001b[39m os\u001b[38;5;241m.\u001b[39mlistdir(folder_path)\n\u001b[0;32m      7\u001b[0m \u001b[38;5;28mself\u001b[39m\u001b[38;5;241m.\u001b[39mfile_names \u001b[38;5;241m=\u001b[39m [f \u001b[38;5;28;01mfor\u001b[39;00m f \u001b[38;5;129;01min\u001b[39;00m \u001b[38;5;28mself\u001b[39m\u001b[38;5;241m.\u001b[39mfile_names \u001b[38;5;28;01mif\u001b[39;00m f\u001b[38;5;241m.\u001b[39mendswith(\u001b[38;5;124m'\u001b[39m\u001b[38;5;124m.npy.gz\u001b[39m\u001b[38;5;124m'\u001b[39m)]\n\u001b[1;32m----> 8\u001b[0m \u001b[38;5;28mself\u001b[39m\u001b[38;5;241m.\u001b[39mtotal_samples \u001b[38;5;241m=\u001b[39m \u001b[38;5;28;43mself\u001b[39;49m\u001b[38;5;241;43m.\u001b[39;49m\u001b[43mcalculate_total_samples\u001b[49m\u001b[43m(\u001b[49m\u001b[43m)\u001b[49m\n\u001b[0;32m      9\u001b[0m \u001b[38;5;28mself\u001b[39m\u001b[38;5;241m.\u001b[39mcurrent_data \u001b[38;5;241m=\u001b[39m \u001b[38;5;28;01mNone\u001b[39;00m\n\u001b[0;32m     10\u001b[0m \u001b[38;5;28mself\u001b[39m\u001b[38;5;241m.\u001b[39mcurrent_index\u001b[38;5;241m=\u001b[39m\u001b[38;5;241m0\u001b[39m\n",
      "Cell \u001b[1;32mIn[3], line 19\u001b[0m, in \u001b[0;36mNPYSequence.calculate_total_samples\u001b[1;34m(self)\u001b[0m\n\u001b[0;32m     17\u001b[0m     file_path \u001b[38;5;241m=\u001b[39m os\u001b[38;5;241m.\u001b[39mpath\u001b[38;5;241m.\u001b[39mjoin(\u001b[38;5;28mself\u001b[39m\u001b[38;5;241m.\u001b[39mfolder_path, file_name)\n\u001b[0;32m     18\u001b[0m     data \u001b[38;5;241m=\u001b[39m read(file_path, \u001b[38;5;28mself\u001b[39m\u001b[38;5;241m.\u001b[39mcolumn_names_file)\n\u001b[1;32m---> 19\u001b[0m     total_samples \u001b[38;5;241m+\u001b[39m\u001b[38;5;241m=\u001b[39m \u001b[38;5;28;43mlen\u001b[39;49m\u001b[43m(\u001b[49m\u001b[43mdata\u001b[49m\u001b[43m)\u001b[49m\n\u001b[0;32m     20\u001b[0m \u001b[38;5;28;01mreturn\u001b[39;00m total_samples\n",
      "File \u001b[1;32md:\\PikeBot\\Current\\PikeBot\\PikeBot_Model_Env\\lib\\site-packages\\pandas\\core\\frame.py:1647\u001b[0m, in \u001b[0;36mDataFrame.__len__\u001b[1;34m(self)\u001b[0m\n\u001b[0;32m   1643\u001b[0m \u001b[38;5;28;01mdef\u001b[39;00m \u001b[38;5;21m__len__\u001b[39m(\u001b[38;5;28mself\u001b[39m) \u001b[38;5;241m-\u001b[39m\u001b[38;5;241m>\u001b[39m \u001b[38;5;28mint\u001b[39m:\n\u001b[0;32m   1644\u001b[0m \u001b[38;5;250m    \u001b[39m\u001b[38;5;124;03m\"\"\"\u001b[39;00m\n\u001b[0;32m   1645\u001b[0m \u001b[38;5;124;03m    Returns length of info axis, but here we use the index.\u001b[39;00m\n\u001b[0;32m   1646\u001b[0m \u001b[38;5;124;03m    \"\"\"\u001b[39;00m\n\u001b[1;32m-> 1647\u001b[0m     \u001b[38;5;28;01mreturn\u001b[39;00m \u001b[38;5;28;43mlen\u001b[39;49m\u001b[43m(\u001b[49m\u001b[38;5;28;43mself\u001b[39;49m\u001b[38;5;241;43m.\u001b[39;49m\u001b[43mindex\u001b[49m\u001b[43m)\u001b[49m\n",
      "File \u001b[1;32md:\\PikeBot\\Current\\PikeBot\\PikeBot_Model_Env\\lib\\site-packages\\pandas\\core\\indexes\\range.py:999\u001b[0m, in \u001b[0;36mRangeIndex.__len__\u001b[1;34m(self)\u001b[0m\n\u001b[0;32m    995\u001b[0m     \u001b[38;5;66;03m# Here all \"indexes\" had 0 length, i.e. were empty.\u001b[39;00m\n\u001b[0;32m    996\u001b[0m     \u001b[38;5;66;03m# In this case return an empty range index.\u001b[39;00m\n\u001b[0;32m    997\u001b[0m     \u001b[38;5;28;01mreturn\u001b[39;00m RangeIndex(\u001b[38;5;241m0\u001b[39m, \u001b[38;5;241m0\u001b[39m)\u001b[38;5;241m.\u001b[39mrename(name)\n\u001b[1;32m--> 999\u001b[0m \u001b[38;5;28;01mdef\u001b[39;00m \u001b[38;5;21m__len__\u001b[39m(\u001b[38;5;28mself\u001b[39m) \u001b[38;5;241m-\u001b[39m\u001b[38;5;241m>\u001b[39m \u001b[38;5;28mint\u001b[39m:\n\u001b[0;32m   1000\u001b[0m \u001b[38;5;250m    \u001b[39m\u001b[38;5;124;03m\"\"\"\u001b[39;00m\n\u001b[0;32m   1001\u001b[0m \u001b[38;5;124;03m    return the length of the RangeIndex\u001b[39;00m\n\u001b[0;32m   1002\u001b[0m \u001b[38;5;124;03m    \"\"\"\u001b[39;00m\n\u001b[0;32m   1003\u001b[0m     \u001b[38;5;28;01mreturn\u001b[39;00m \u001b[38;5;28mlen\u001b[39m(\u001b[38;5;28mself\u001b[39m\u001b[38;5;241m.\u001b[39m_range)\n",
      "\u001b[1;31mKeyboardInterrupt\u001b[0m: "
     ]
    }
   ],
   "source": [
    "class ChessDataset(Dataset):\n",
    "    def __init__(self, folder_path, column_names_file, batch_size=32, target_column = \"human\"):\n",
    "        self.folder_path = folder_path\n",
    "        self.column_names_file = column_names_file\n",
    "        self.batch_size = batch_size\n",
    "        self.file_names = os.listdir(folder_path)\n",
    "        self.file_names = [f for f in self.file_names if f.endswith('.npy.gz')]\n",
    "        self.total_samples = self.calculate_total_samples()\n",
    "        self.current_data = None\n",
    "        self.past_index = 0\n",
    "        self.target_column = target_column\n",
    "        self.load_next_file()\n",
    "\n",
    "    def calculate_total_samples(self):\n",
    "        total_samples = 0\n",
    "        for file_name in self.file_names:\n",
    "            file_path = os.path.join(self.folder_path, file_name)\n",
    "            data = read(file_path, self.column_names_file)\n",
    "            total_samples += len(data)\n",
    "        return total_samples\n",
    "\n",
    "    def __len__(self):\n",
    "        return self.total_samples\n",
    "    \n",
    "    def __getitem__(self, index):\n",
    "        new_idx = index - self.past_index\n",
    "        row = self.current_data.iloc[new_idx]\n",
    "        X = row.drop(columns = [self.target_column])\n",
    "        X = X.values\n",
    "        y = row[self.target_column]\n",
    "        y = y.values\n",
    "        return X, y\n",
    "    \n",
    "    def load_next_file(self):\n",
    "        if self.current_data is not None:\n",
    "            self.past_index += len(self.current_data)\n",
    "        if not self.file_names:\n",
    "            return\n",
    "        file_name = self.file_names.pop(0)\n",
    "        file_path = os.path.join(self.folder_path, file_name)\n",
    "        self.current_data = read(file_path, self.column_names_file)\n",
    "\n",
    "data_folder = './Temp_Data/Train'\n",
    "column_names_file = './Temp_Data/Train/column_names.txt'\n",
    "batch_size = 64\n",
    "\n",
    "chess_dataset_pt = NPYSequence(data_folder, column_names_file, batch_size=batch_size)\n",
    "chess_loader_pt = DataLoader(chess_dataset_pt, batch_size=batch_size, shuffle=True)"
   ]
  },
  {
   "cell_type": "code",
   "execution_count": null,
   "metadata": {},
   "outputs": [
    {
     "ename": "NameError",
     "evalue": "name 'data_generator_tf' is not defined",
     "output_type": "error",
     "traceback": [
      "\u001b[1;31m---------------------------------------------------------------------------\u001b[0m",
      "\u001b[1;31mNameError\u001b[0m                                 Traceback (most recent call last)",
      "Cell \u001b[1;32mIn[7], line 1\u001b[0m\n\u001b[1;32m----> 1\u001b[0m \u001b[43mdata_generator_tf\u001b[49m\u001b[38;5;241m.\u001b[39m\u001b[38;5;21m__len__\u001b[39m()\n",
      "\u001b[1;31mNameError\u001b[0m: name 'data_generator_tf' is not defined"
     ]
    }
   ],
   "source": [
    "data_generator_tf.__len__()"
   ]
  },
  {
   "cell_type": "code",
   "execution_count": null,
   "metadata": {},
   "outputs": [],
   "source": [
    "chess_dataset_pt.__len__()"
   ]
  },
  {
   "cell_type": "code",
   "execution_count": null,
   "metadata": {},
   "outputs": [],
   "source": [
    "len(chess_loader_pt)"
   ]
  },
  {
   "cell_type": "code",
   "execution_count": null,
   "metadata": {},
   "outputs": [],
   "source": [
    "i=0\n",
    "\n",
    "start_time = time.time()\n",
    "for b in data_generator_tf:\n",
    "    i+=1\n",
    "end_time = time.time()\n",
    "elapsed_time_tf = end_time - start_time"
   ]
  },
  {
   "cell_type": "code",
   "execution_count": null,
   "metadata": {},
   "outputs": [],
   "source": [
    "i=0\n",
    "\n",
    "start_time = time.time()\n",
    "for b in chess_loader_pt:\n",
    "    i+=1\n",
    "end_time = time.time()\n",
    "elapsed_time_torch = end_time - start_time"
   ]
  },
  {
   "cell_type": "code",
   "execution_count": null,
   "metadata": {},
   "outputs": [],
   "source": [
    "save_object(data_generator_tf, \"./Generators\\\\tf_generator.pkl\")\n",
    "data_generator_tf = load_object(\"./Generators\\\\tf_generator.pkl\")\n",
    "data_generator_tf.__len__()"
   ]
  },
  {
   "cell_type": "code",
   "execution_count": null,
   "metadata": {},
   "outputs": [],
   "source": [
    "save_object(chess_loader_pt, \"./Generators\\\\chess_loader.pkl\")\n",
    "chess_loader_pt = load_object(\"./Generators\\\\chess_loader.pkl\")\n",
    "len(chess_loader_pt)"
   ]
  },
  {
   "cell_type": "code",
   "execution_count": null,
   "metadata": {},
   "outputs": [],
   "source": [
    "print(f\"Tensoflow all data reading time: {elapsed_time_tf}\")\n",
    "print(f\"Pytorch all data reading time: {elapsed_time_torch}\")"
   ]
  }
 ],
 "metadata": {
  "kernelspec": {
   "display_name": "Python 3",
   "language": "python",
   "name": "python3"
  },
  "language_info": {
   "codemirror_mode": {
    "name": "ipython",
    "version": 3
   },
   "file_extension": ".py",
   "mimetype": "text/x-python",
   "name": "python",
   "nbconvert_exporter": "python",
   "pygments_lexer": "ipython3",
   "version": "3.10.6"
  }
 },
 "nbformat": 4,
 "nbformat_minor": 2
}
