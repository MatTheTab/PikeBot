{
 "cells": [
  {
   "cell_type": "markdown",
   "metadata": {},
   "source": [
    "# 4: Model Training"
   ]
  },
  {
   "cell_type": "markdown",
   "metadata": {},
   "source": [
    "## Imports"
   ]
  },
  {
   "cell_type": "code",
   "execution_count": 1,
   "metadata": {
    "execution": {
     "iopub.execute_input": "2024-10-04T17:24:45.113091Z",
     "iopub.status.busy": "2024-10-04T17:24:45.112804Z",
     "iopub.status.idle": "2024-10-04T17:24:48.742015Z",
     "shell.execute_reply": "2024-10-04T17:24:48.741548Z"
    }
   },
   "outputs": [
    {
     "name": "stderr",
     "output_type": "stream",
     "text": [
      "2024-10-04 19:24:47.434735: I tensorflow/core/platform/cpu_feature_guard.cc:182] This TensorFlow binary is optimized to use available CPU instructions in performance-critical operations.\n",
      "To enable the following instructions: SSE4.1 SSE4.2 AVX AVX2 FMA, in other operations, rebuild TensorFlow with the appropriate compiler flags.\n"
     ]
    },
    {
     "data": {
      "text/plain": [
       "<torch._C.Generator at 0x79dda43f7db0>"
      ]
     },
     "execution_count": 1,
     "metadata": {},
     "output_type": "execute_result"
    }
   ],
   "source": [
    "from utils.model_utils import *\n",
    "import torch.onnx\n",
    "\n",
    "torch.manual_seed(23)"
   ]
  },
  {
   "cell_type": "markdown",
   "metadata": {},
   "source": [
    "## Variables Declaration"
   ]
  },
  {
   "cell_type": "code",
   "execution_count": 2,
   "metadata": {
    "execution": {
     "iopub.execute_input": "2024-10-04T17:24:48.744113Z",
     "iopub.status.busy": "2024-10-04T17:24:48.743834Z",
     "iopub.status.idle": "2024-10-04T17:24:48.887019Z",
     "shell.execute_reply": "2024-10-04T17:24:48.886540Z"
    }
   },
   "outputs": [
    {
     "name": "stdout",
     "output_type": "stream",
     "text": [
      "Detected Device: cuda\n"
     ]
    }
   ],
   "source": [
    "LR = 1e-4\n",
    "loss_func = nn.BCELoss()\n",
    "NUM_HANGING_VALUES = 10\n",
    "EPOCHS = 30\n",
    "BITBOARD_SHAPE = (76*2, 8, 8)\n",
    "CHANGE_LEARNING_RATE = False\n",
    "UPDATE_EPOCHS = None\n",
    "RESIDUAL_BLOCKS = 6\n",
    "RESIDUAL_FILTERS = 64\n",
    "SE_RATIO = 8\n",
    "MODEL_FILENAME = \"./Models/PikeBot_Models/PikeBot.pth\"\n",
    "ONNX_FILENAME = \"./Models/PikeBot_Models/PikeBot.onnx\"\n",
    "LOG_FILE_LOCATION = \"./Training_Logs/Training.txt\"\n",
    "CHECKPOINT_FILENAME_LOCATION = \"./Models/PikeBot_Models/PikeBot_checkpoint.pth\"\n",
    "TRAIN_GENERATOR_PATH = \"./Generators/train_generator.pkl\"\n",
    "VAL_GENERATOR_PATH = \"./Generators/val_generator.pkl\"\n",
    "TEST_GENERATOR_PATH = \"./Generators/test_generator.pkl\"\n",
    "TEMP_STATE_PATH = \"./Models/PikeBot_Models/temp_state_dict.pth\"\n",
    "OPSET_VERSION = 11\n",
    "\n",
    "device = torch.device(\"cuda\" if torch.cuda.is_available() else \"cpu\")\n",
    "#device = \"cpu\"\n",
    "print(f\"Detected Device: {device}\")"
   ]
  },
  {
   "cell_type": "markdown",
   "metadata": {},
   "source": [
    "## Model Sanity Check"
   ]
  },
  {
   "cell_type": "code",
   "execution_count": 3,
   "metadata": {
    "execution": {
     "iopub.execute_input": "2024-10-04T17:24:48.888821Z",
     "iopub.status.busy": "2024-10-04T17:24:48.888668Z",
     "iopub.status.idle": "2024-10-04T17:24:49.438789Z",
     "shell.execute_reply": "2024-10-04T17:24:49.438400Z"
    }
   },
   "outputs": [
    {
     "name": "stdout",
     "output_type": "stream",
     "text": [
      "Number of parameters in the model in millions: 5.7448\n"
     ]
    }
   ],
   "source": [
    "#model = ChessModel_V2(bit_board_shape=BITBOARD_SHAPE, num_float_inputs=NUM_HANGING_VALUES, residual_blocks=RESIDUAL_BLOCKS, residual_filters=RESIDUAL_FILTERS, se_ratio=SE_RATIO)\n",
    "model = Chess_Model(bit_board_shape=BITBOARD_SHAPE, num_float_inputs=NUM_HANGING_VALUES, channel_multiple=2)\n",
    "num_params = count_parameters(model)\n",
    "print(\"Number of parameters in the model in millions:\", round(num_params/(1e6), 4))"
   ]
  },
  {
   "cell_type": "code",
   "execution_count": 4,
   "metadata": {
    "execution": {
     "iopub.execute_input": "2024-10-04T17:24:49.440616Z",
     "iopub.status.busy": "2024-10-04T17:24:49.440310Z",
     "iopub.status.idle": "2024-10-04T17:24:49.442712Z",
     "shell.execute_reply": "2024-10-04T17:24:49.442363Z"
    }
   },
   "outputs": [
    {
     "name": "stdout",
     "output_type": "stream",
     "text": [
      "Chess_Model(\n",
      "  (conv1): Conv2d(152, 304, kernel_size=(3, 3), stride=(1, 1), padding=(1, 1))\n",
      "  (conv2): Conv2d(304, 304, kernel_size=(3, 3), stride=(1, 1), padding=(1, 1))\n",
      "  (conv3): Conv2d(304, 304, kernel_size=(3, 3), stride=(1, 1), padding=(1, 1))\n",
      "  (conv4): Conv2d(304, 152, kernel_size=(3, 3), stride=(1, 1), padding=(1, 1))\n",
      "  (conv5): Conv2d(152, 304, kernel_size=(3, 3), stride=(1, 1), padding=(1, 1))\n",
      "  (conv6): Conv2d(304, 304, kernel_size=(3, 3), stride=(1, 1), padding=(1, 1))\n",
      "  (conv7): Conv2d(304, 304, kernel_size=(3, 3), stride=(1, 1), padding=(1, 1))\n",
      "  (conv8): Conv2d(304, 152, kernel_size=(3, 3), stride=(1, 1), padding=(1, 1))\n",
      "  (pool): MaxPool2d(kernel_size=3, stride=2, padding=0, dilation=1, ceil_mode=False)\n",
      "  (float_inputs_fc): Linear(in_features=10, out_features=512, bias=True)\n",
      "  (fc1): Linear(in_features=664, out_features=1024, bias=True)\n",
      "  (fc2): Linear(in_features=1024, out_features=64, bias=True)\n",
      "  (output_layer): Linear(in_features=64, out_features=1, bias=True)\n",
      ")\n"
     ]
    }
   ],
   "source": [
    "print(model)"
   ]
  },
  {
   "cell_type": "code",
   "execution_count": 5,
   "metadata": {
    "execution": {
     "iopub.execute_input": "2024-10-04T17:24:49.444409Z",
     "iopub.status.busy": "2024-10-04T17:24:49.444149Z",
     "iopub.status.idle": "2024-10-04T17:24:49.843495Z",
     "shell.execute_reply": "2024-10-04T17:24:49.843050Z"
    }
   },
   "outputs": [
    {
     "data": {
      "text/plain": [
       "tensor([[0.4800]], grad_fn=<SigmoidBackward0>)"
      ]
     },
     "execution_count": 5,
     "metadata": {},
     "output_type": "execute_result"
    }
   ],
   "source": [
    "optimizer = torch.optim.Adam(model.parameters(), lr=LR)\n",
    "board_shape = (1, BITBOARD_SHAPE[0], BITBOARD_SHAPE[1], BITBOARD_SHAPE[2])\n",
    "floats_shape = (1, NUM_HANGING_VALUES)\n",
    "input_bitboard = torch.tensor(np.random.rand(*board_shape), dtype = torch.float32)\n",
    "input_floats = torch.tensor(np.random.rand(*floats_shape), dtype = torch.float32)\n",
    "output = model(input_bitboard, input_floats)\n",
    "output"
   ]
  },
  {
   "cell_type": "markdown",
   "metadata": {},
   "source": [
    "## Model Training"
   ]
  },
  {
   "cell_type": "code",
   "execution_count": 6,
   "metadata": {
    "execution": {
     "iopub.execute_input": "2024-10-04T17:24:49.858299Z",
     "iopub.status.busy": "2024-10-04T17:24:49.858102Z",
     "iopub.status.idle": "2024-10-04T17:24:52.093786Z",
     "shell.execute_reply": "2024-10-04T17:24:52.093409Z"
    }
   },
   "outputs": [
    {
     "data": {
      "text/plain": [
       "1041253"
      ]
     },
     "execution_count": 6,
     "metadata": {},
     "output_type": "execute_result"
    }
   ],
   "source": [
    "train_generator = efficent_load_object(TRAIN_GENERATOR_PATH)\n",
    "train_generator.__len__()"
   ]
  },
  {
   "cell_type": "code",
   "execution_count": 7,
   "metadata": {
    "execution": {
     "iopub.execute_input": "2024-10-04T17:24:52.095454Z",
     "iopub.status.busy": "2024-10-04T17:24:52.095280Z",
     "iopub.status.idle": "2024-10-04T17:24:54.271164Z",
     "shell.execute_reply": "2024-10-04T17:24:54.270755Z"
    }
   },
   "outputs": [
    {
     "data": {
      "text/plain": [
       "105374"
      ]
     },
     "execution_count": 7,
     "metadata": {},
     "output_type": "execute_result"
    }
   ],
   "source": [
    "val_generator = efficent_load_object(VAL_GENERATOR_PATH)\n",
    "val_generator.__len__()"
   ]
  },
  {
   "cell_type": "code",
   "execution_count": 8,
   "metadata": {
    "execution": {
     "iopub.execute_input": "2024-10-04T17:24:54.272786Z",
     "iopub.status.busy": "2024-10-04T17:24:54.272628Z",
     "iopub.status.idle": "2024-10-04T17:24:56.423601Z",
     "shell.execute_reply": "2024-10-04T17:24:56.423246Z"
    }
   },
   "outputs": [
    {
     "data": {
      "text/plain": [
       "104725"
      ]
     },
     "execution_count": 8,
     "metadata": {},
     "output_type": "execute_result"
    }
   ],
   "source": [
    "test_generator = efficent_load_object(TEST_GENERATOR_PATH)\n",
    "test_generator.__len__()"
   ]
  },
  {
   "cell_type": "code",
   "execution_count": 9,
   "metadata": {
    "execution": {
     "iopub.execute_input": "2024-10-04T17:24:56.425246Z",
     "iopub.status.busy": "2024-10-04T17:24:56.425089Z",
     "iopub.status.idle": "2024-10-04T17:24:56.579064Z",
     "shell.execute_reply": "2024-10-04T17:24:56.578685Z"
    }
   },
   "outputs": [],
   "source": [
    "del train_generator\n",
    "del val_generator\n",
    "del test_generator"
   ]
  },
  {
   "cell_type": "code",
   "execution_count": 10,
   "metadata": {
    "execution": {
     "iopub.execute_input": "2024-10-04T17:24:56.584137Z",
     "iopub.status.busy": "2024-10-04T17:24:56.583972Z",
     "iopub.status.idle": "2024-10-05T14:30:27.703815Z",
     "shell.execute_reply": "2024-10-05T14:30:27.703398Z"
    }
   },
   "outputs": [
    {
     "name": "stdout",
     "output_type": "stream",
     "text": [
      "Checkpoint found. Resuming training from checkpoint...\n"
     ]
    },
    {
     "name": "stderr",
     "output_type": "stream",
     "text": [
      "/home/user/Desktop/PikeBot/PikeBot/utils/model_utils.py:221: FutureWarning: You are using `torch.load` with `weights_only=False` (the current default value), which uses the default pickle module implicitly. It is possible to construct malicious pickle data which will execute arbitrary code during unpickling (See https://github.com/pytorch/pytorch/blob/main/SECURITY.md#untrusted-models for more details). In a future release, the default value for `weights_only` will be flipped to `True`. This limits the functions that could be executed during unpickling. Arbitrary objects will no longer be allowed to be loaded via this mode unless they are explicitly allowlisted by the user via `torch.serialization.add_safe_globals`. We recommend you start setting `weights_only=True` for any use case where you don't have full control of the loaded file. Please open an issue on GitHub for any issues related to this experimental feature.\n",
      "  checkpoint = torch.load(checkpoint_filename)\n"
     ]
    },
    {
     "name": "stdout",
     "output_type": "stream",
     "text": [
      "______________________________________________________________\n",
      "Epoch 6 Train Loss: 0.7754 | MSE: 0.4962 | MAE: 0.4962 | Accuracy: 0.5038\n",
      "Epoch 6 Val Loss: 0.7755 | MSE: 0.4963 | MAE: 0.4963  | Accuracy: 0.5037\n",
      "Epoch 7: Saving checkpoint...\n",
      "______________________________________________________________\n",
      "Epoch 7 Train Loss: 0.7754 | MSE: 0.4962 | MAE: 0.4962 | Accuracy: 0.5038\n",
      "Epoch 7 Val Loss: 0.7755 | MSE: 0.4963 | MAE: 0.4963  | Accuracy: 0.5037\n",
      "Epoch 8: Saving checkpoint...\n",
      "______________________________________________________________\n",
      "Epoch 8 Train Loss: 0.7754 | MSE: 0.4962 | MAE: 0.4962 | Accuracy: 0.5038\n",
      "Epoch 8 Val Loss: 0.7755 | MSE: 0.4963 | MAE: 0.4963  | Accuracy: 0.5037\n",
      "Epoch 9: Saving checkpoint...\n",
      "______________________________________________________________\n",
      "Epoch 9 Train Loss: 0.7754 | MSE: 0.4962 | MAE: 0.4962 | Accuracy: 0.5038\n",
      "Epoch 9 Val Loss: 0.7755 | MSE: 0.4963 | MAE: 0.4963  | Accuracy: 0.5037\n",
      "Epoch 10: Saving checkpoint...\n",
      "______________________________________________________________\n",
      "Epoch 10 Train Loss: 0.7754 | MSE: 0.4962 | MAE: 0.4962 | Accuracy: 0.5038\n",
      "Epoch 10 Val Loss: 0.7755 | MSE: 0.4963 | MAE: 0.4963  | Accuracy: 0.5037\n",
      "Epoch 11: Saving checkpoint...\n",
      "______________________________________________________________\n",
      "Epoch 11 Train Loss: 0.7754 | MSE: 0.4962 | MAE: 0.4962 | Accuracy: 0.5038\n",
      "Epoch 11 Val Loss: 0.7755 | MSE: 0.4963 | MAE: 0.4963  | Accuracy: 0.5037\n",
      "*****************\n",
      "Early Callback\n",
      "*****************\n",
      "Epoch 11 Test Loss: 0.0066 | MSE: 0.1363 | MAE: 0.262  | Accuracy: 0.8026\n"
     ]
    }
   ],
   "source": [
    "model = model.to(device)\n",
    "model = train(TRAIN_GENERATOR_PATH, VAL_GENERATOR_PATH, TEST_GENERATOR_PATH, model, optimizer, loss_func, NUM_HANGING_VALUES, EPOCHS, device,\n",
    "              learning_rate=LR, log = 1, log_file = \"./Training_Logs/Training.txt\", verbose = 1, val = True, early_callback=True, early_callback_epochs=5,\n",
    "              checkpoint=True, epochs_per_checkpoint=1, break_after_checkpoint=False, checkpoint_filename=\"./Models/PikeBot_Models/PikeBot_checkpoint.pth\",\n",
    "              change_learning_rate=CHANGE_LEARNING_RATE, update_epochs=UPDATE_EPOCHS)"
   ]
  },
  {
   "cell_type": "markdown",
   "metadata": {},
   "source": [
    "## Saving Model"
   ]
  },
  {
   "cell_type": "code",
   "execution_count": 11,
   "metadata": {
    "execution": {
     "iopub.execute_input": "2024-10-05T14:30:27.706110Z",
     "iopub.status.busy": "2024-10-05T14:30:27.705964Z",
     "iopub.status.idle": "2024-10-05T14:30:27.708852Z",
     "shell.execute_reply": "2024-10-05T14:30:27.708519Z"
    }
   },
   "outputs": [
    {
     "data": {
      "text/plain": [
       "Chess_Model(\n",
       "  (conv1): Conv2d(152, 304, kernel_size=(3, 3), stride=(1, 1), padding=(1, 1))\n",
       "  (conv2): Conv2d(304, 304, kernel_size=(3, 3), stride=(1, 1), padding=(1, 1))\n",
       "  (conv3): Conv2d(304, 304, kernel_size=(3, 3), stride=(1, 1), padding=(1, 1))\n",
       "  (conv4): Conv2d(304, 152, kernel_size=(3, 3), stride=(1, 1), padding=(1, 1))\n",
       "  (conv5): Conv2d(152, 304, kernel_size=(3, 3), stride=(1, 1), padding=(1, 1))\n",
       "  (conv6): Conv2d(304, 304, kernel_size=(3, 3), stride=(1, 1), padding=(1, 1))\n",
       "  (conv7): Conv2d(304, 304, kernel_size=(3, 3), stride=(1, 1), padding=(1, 1))\n",
       "  (conv8): Conv2d(304, 152, kernel_size=(3, 3), stride=(1, 1), padding=(1, 1))\n",
       "  (pool): MaxPool2d(kernel_size=3, stride=2, padding=0, dilation=1, ceil_mode=False)\n",
       "  (float_inputs_fc): Linear(in_features=10, out_features=512, bias=True)\n",
       "  (fc1): Linear(in_features=664, out_features=1024, bias=True)\n",
       "  (fc2): Linear(in_features=1024, out_features=64, bias=True)\n",
       "  (output_layer): Linear(in_features=64, out_features=1, bias=True)\n",
       ")"
      ]
     },
     "execution_count": 11,
     "metadata": {},
     "output_type": "execute_result"
    }
   ],
   "source": [
    "model"
   ]
  },
  {
   "cell_type": "code",
   "execution_count": 12,
   "metadata": {
    "execution": {
     "iopub.execute_input": "2024-10-05T14:30:27.710546Z",
     "iopub.status.busy": "2024-10-05T14:30:27.710251Z",
     "iopub.status.idle": "2024-10-05T14:30:27.737965Z",
     "shell.execute_reply": "2024-10-05T14:30:27.737564Z"
    }
   },
   "outputs": [],
   "source": [
    "torch.save(model.state_dict(), TEMP_STATE_PATH)"
   ]
  },
  {
   "cell_type": "code",
   "execution_count": 13,
   "metadata": {
    "execution": {
     "iopub.execute_input": "2024-10-05T14:30:27.740038Z",
     "iopub.status.busy": "2024-10-05T14:30:27.739718Z",
     "iopub.status.idle": "2024-10-05T14:30:27.957479Z",
     "shell.execute_reply": "2024-10-05T14:30:27.957073Z"
    }
   },
   "outputs": [
    {
     "name": "stdout",
     "output_type": "stream",
     "text": [
      "Model saved successfully!\n"
     ]
    },
    {
     "name": "stderr",
     "output_type": "stream",
     "text": [
      "/tmp/ipykernel_184072/1103494661.py:2: FutureWarning: You are using `torch.load` with `weights_only=False` (the current default value), which uses the default pickle module implicitly. It is possible to construct malicious pickle data which will execute arbitrary code during unpickling (See https://github.com/pytorch/pytorch/blob/main/SECURITY.md#untrusted-models for more details). In a future release, the default value for `weights_only` will be flipped to `True`. This limits the functions that could be executed during unpickling. Arbitrary objects will no longer be allowed to be loaded via this mode unless they are explicitly allowlisted by the user via `torch.serialization.add_safe_globals`. We recommend you start setting `weights_only=True` for any use case where you don't have full control of the loaded file. Please open an issue on GitHub for any issues related to this experimental feature.\n",
      "  model.load_state_dict(torch.load(TEMP_STATE_PATH))\n"
     ]
    }
   ],
   "source": [
    "model = Chess_Model(bit_board_shape=BITBOARD_SHAPE, num_float_inputs=NUM_HANGING_VALUES, channel_multiple=2)\n",
    "model.load_state_dict(torch.load(TEMP_STATE_PATH))\n",
    "save_model(model, model_filename=MODEL_FILENAME, onnx_filename=ONNX_FILENAME,\n",
    "           bitboard_input_shape=board_shape, hanging_values_input_shape=floats_shape, opset_version=OPSET_VERSION, device=\"cpu\")"
   ]
  },
  {
   "cell_type": "markdown",
   "metadata": {},
   "source": [
    "## Post-Training Sanity Check"
   ]
  },
  {
   "cell_type": "code",
   "execution_count": 14,
   "metadata": {
    "execution": {
     "iopub.execute_input": "2024-10-05T14:30:27.959262Z",
     "iopub.status.busy": "2024-10-05T14:30:27.959082Z",
     "iopub.status.idle": "2024-10-05T14:42:26.558606Z",
     "shell.execute_reply": "2024-10-05T14:42:26.558221Z"
    }
   },
   "outputs": [
    {
     "name": "stderr",
     "output_type": "stream",
     "text": [
      "/tmp/ipykernel_184072/1681273878.py:1: FutureWarning: You are using `torch.load` with `weights_only=False` (the current default value), which uses the default pickle module implicitly. It is possible to construct malicious pickle data which will execute arbitrary code during unpickling (See https://github.com/pytorch/pytorch/blob/main/SECURITY.md#untrusted-models for more details). In a future release, the default value for `weights_only` will be flipped to `True`. This limits the functions that could be executed during unpickling. Arbitrary objects will no longer be allowed to be loaded via this mode unless they are explicitly allowlisted by the user via `torch.serialization.add_safe_globals`. We recommend you start setting `weights_only=True` for any use case where you don't have full control of the loaded file. Please open an issue on GitHub for any issues related to this experimental feature.\n",
      "  model = torch.load(MODEL_FILENAME)\n"
     ]
    },
    {
     "name": "stdout",
     "output_type": "stream",
     "text": [
      "Testing Complete, Loss: 0.0066 | MSE: 0.1363 | MAE: 0.262 | Accuracy: 0.8026\n"
     ]
    }
   ],
   "source": [
    "model = torch.load(MODEL_FILENAME)\n",
    "model = model.to(device)\n",
    "model.eval()\n",
    "test_model(model, loss_func=loss_func, num_hanging_values=NUM_HANGING_VALUES, device=device, test_generator_path=TEST_GENERATOR_PATH)"
   ]
  }
 ],
 "metadata": {
  "kernelspec": {
   "display_name": "PikeBot_Model_Env",
   "language": "python",
   "name": "python3"
  },
  "language_info": {
   "codemirror_mode": {
    "name": "ipython",
    "version": 3
   },
   "file_extension": ".py",
   "mimetype": "text/x-python",
   "name": "python",
   "nbconvert_exporter": "python",
   "pygments_lexer": "ipython3",
   "version": "3.10.13"
  }
 },
 "nbformat": 4,
 "nbformat_minor": 2
}
