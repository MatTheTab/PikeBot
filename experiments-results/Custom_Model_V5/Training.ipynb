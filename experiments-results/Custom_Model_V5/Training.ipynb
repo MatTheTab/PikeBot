{
 "cells": [
  {
   "cell_type": "markdown",
   "metadata": {},
   "source": [
    "# 4: Model Training"
   ]
  },
  {
   "cell_type": "markdown",
   "metadata": {},
   "source": [
    "## Imports"
   ]
  },
  {
   "cell_type": "code",
   "execution_count": 1,
   "metadata": {
    "execution": {
     "iopub.execute_input": "2024-10-05T11:38:31.214501Z",
     "iopub.status.busy": "2024-10-05T11:38:31.214323Z",
     "iopub.status.idle": "2024-10-05T11:38:33.379150Z",
     "shell.execute_reply": "2024-10-05T11:38:33.378884Z"
    }
   },
   "outputs": [
    {
     "name": "stderr",
     "output_type": "stream",
     "text": [
      "2024-10-05 13:38:32.392069: I tensorflow/core/platform/cpu_feature_guard.cc:182] This TensorFlow binary is optimized to use available CPU instructions in performance-critical operations.\n",
      "To enable the following instructions: SSE4.1 SSE4.2 AVX AVX2 AVX512F AVX512_VNNI AVX512_BF16 FMA, in other operations, rebuild TensorFlow with the appropriate compiler flags.\n"
     ]
    },
    {
     "data": {
      "text/plain": [
       "<torch._C.Generator at 0x7935a82211d0>"
      ]
     },
     "execution_count": 1,
     "metadata": {},
     "output_type": "execute_result"
    }
   ],
   "source": [
    "from utils.model_utils import *\n",
    "import torch.onnx\n",
    "\n",
    "torch.manual_seed(23)"
   ]
  },
  {
   "cell_type": "markdown",
   "metadata": {},
   "source": [
    "## Variables Declaration"
   ]
  },
  {
   "cell_type": "code",
   "execution_count": 2,
   "metadata": {
    "execution": {
     "iopub.execute_input": "2024-10-05T11:38:33.380405Z",
     "iopub.status.busy": "2024-10-05T11:38:33.380225Z",
     "iopub.status.idle": "2024-10-05T11:38:33.404248Z",
     "shell.execute_reply": "2024-10-05T11:38:33.404039Z"
    }
   },
   "outputs": [
    {
     "name": "stdout",
     "output_type": "stream",
     "text": [
      "Detected Device: cuda\n"
     ]
    }
   ],
   "source": [
    "LR = 2e-5\n",
    "loss_func = nn.BCELoss()\n",
    "NUM_HANGING_VALUES = 10\n",
    "EPOCHS = 30\n",
    "BITBOARD_SHAPE = (76*6, 8, 8)\n",
    "CHANGE_LEARNING_RATE = False\n",
    "UPDATE_EPOCHS = None\n",
    "RESIDUAL_BLOCKS = 6\n",
    "RESIDUAL_FILTERS = 64\n",
    "SE_RATIO = 8\n",
    "MODEL_FILENAME = \"./Models/PikeBot_Models/PikeBot.pth\"\n",
    "ONNX_FILENAME = \"./Models/PikeBot_Models/PikeBot.onnx\"\n",
    "LOG_FILE_LOCATION = \"./Training_Logs/Training.txt\"\n",
    "CHECKPOINT_FILENAME_LOCATION = \"./Models/PikeBot_Models/PikeBot_checkpoint.pth\"\n",
    "TRAIN_GENERATOR_PATH = \"./Generators/train_generator.pkl\"\n",
    "VAL_GENERATOR_PATH = \"./Generators/val_generator.pkl\"\n",
    "TEST_GENERATOR_PATH = \"./Generators/test_generator.pkl\"\n",
    "TEMP_STATE_PATH = \"./Models/PikeBot_Models/temp_state_dict.pth\"\n",
    "OPSET_VERSION = 11\n",
    "\n",
    "device = torch.device(\"cuda\" if torch.cuda.is_available() else \"cpu\")\n",
    "#device = \"cpu\"\n",
    "print(f\"Detected Device: {device}\")"
   ]
  },
  {
   "cell_type": "markdown",
   "metadata": {},
   "source": [
    "## Model Sanity Check"
   ]
  },
  {
   "cell_type": "code",
   "execution_count": 3,
   "metadata": {
    "execution": {
     "iopub.execute_input": "2024-10-05T11:38:33.405331Z",
     "iopub.status.busy": "2024-10-05T11:38:33.405176Z",
     "iopub.status.idle": "2024-10-05T11:38:33.605343Z",
     "shell.execute_reply": "2024-10-05T11:38:33.605062Z"
    }
   },
   "outputs": [
    {
     "name": "stdout",
     "output_type": "stream",
     "text": [
      "Number of parameters in the model in millions: 45.9841\n"
     ]
    }
   ],
   "source": [
    "#model = ChessModel_V2(bit_board_shape=BITBOARD_SHAPE, num_float_inputs=NUM_HANGING_VALUES, residual_blocks=RESIDUAL_BLOCKS, residual_filters=RESIDUAL_FILTERS, se_ratio=SE_RATIO)\n",
    "model = Chess_Model(bit_board_shape=BITBOARD_SHAPE, num_float_inputs=NUM_HANGING_VALUES, channel_multiple=2)\n",
    "num_params = count_parameters(model)\n",
    "print(\"Number of parameters in the model in millions:\", round(num_params/(1e6), 4))"
   ]
  },
  {
   "cell_type": "code",
   "execution_count": 4,
   "metadata": {
    "execution": {
     "iopub.execute_input": "2024-10-05T11:38:33.606529Z",
     "iopub.status.busy": "2024-10-05T11:38:33.606429Z",
     "iopub.status.idle": "2024-10-05T11:38:33.608268Z",
     "shell.execute_reply": "2024-10-05T11:38:33.608070Z"
    }
   },
   "outputs": [
    {
     "name": "stdout",
     "output_type": "stream",
     "text": [
      "Chess_Model(\n",
      "  (conv1): Conv2d(456, 912, kernel_size=(3, 3), stride=(1, 1), padding=(1, 1))\n",
      "  (conv2): Conv2d(912, 912, kernel_size=(3, 3), stride=(1, 1), padding=(1, 1))\n",
      "  (conv3): Conv2d(912, 912, kernel_size=(3, 3), stride=(1, 1), padding=(1, 1))\n",
      "  (conv4): Conv2d(912, 456, kernel_size=(3, 3), stride=(1, 1), padding=(1, 1))\n",
      "  (conv5): Conv2d(456, 912, kernel_size=(3, 3), stride=(1, 1), padding=(1, 1))\n",
      "  (conv6): Conv2d(912, 912, kernel_size=(3, 3), stride=(1, 1), padding=(1, 1))\n",
      "  (conv7): Conv2d(912, 912, kernel_size=(3, 3), stride=(1, 1), padding=(1, 1))\n",
      "  (conv8): Conv2d(912, 456, kernel_size=(3, 3), stride=(1, 1), padding=(1, 1))\n",
      "  (pool): MaxPool2d(kernel_size=3, stride=2, padding=0, dilation=1, ceil_mode=False)\n",
      "  (float_inputs_fc): Linear(in_features=10, out_features=512, bias=True)\n",
      "  (fc1): Linear(in_features=968, out_features=1024, bias=True)\n",
      "  (fc2): Linear(in_features=1024, out_features=64, bias=True)\n",
      "  (output_layer): Linear(in_features=64, out_features=1, bias=True)\n",
      ")\n"
     ]
    }
   ],
   "source": [
    "print(model)"
   ]
  },
  {
   "cell_type": "code",
   "execution_count": 5,
   "metadata": {
    "execution": {
     "iopub.execute_input": "2024-10-05T11:38:33.609186Z",
     "iopub.status.busy": "2024-10-05T11:38:33.609045Z",
     "iopub.status.idle": "2024-10-05T11:38:33.637112Z",
     "shell.execute_reply": "2024-10-05T11:38:33.636852Z"
    }
   },
   "outputs": [
    {
     "data": {
      "text/plain": [
       "tensor([[0.5016]], grad_fn=<SigmoidBackward0>)"
      ]
     },
     "execution_count": 5,
     "metadata": {},
     "output_type": "execute_result"
    }
   ],
   "source": [
    "optimizer = torch.optim.Adam(model.parameters(), lr=LR)\n",
    "board_shape = (1, BITBOARD_SHAPE[0], BITBOARD_SHAPE[1], BITBOARD_SHAPE[2])\n",
    "floats_shape = (1, NUM_HANGING_VALUES)\n",
    "input_bitboard = torch.tensor(np.random.rand(*board_shape), dtype = torch.float32)\n",
    "input_floats = torch.tensor(np.random.rand(*floats_shape), dtype = torch.float32)\n",
    "output = model(input_bitboard, input_floats)\n",
    "output"
   ]
  },
  {
   "cell_type": "markdown",
   "metadata": {},
   "source": [
    "## Model Training"
   ]
  },
  {
   "cell_type": "code",
   "execution_count": 6,
   "metadata": {
    "execution": {
     "iopub.execute_input": "2024-10-05T11:38:33.638391Z",
     "iopub.status.busy": "2024-10-05T11:38:33.638190Z",
     "iopub.status.idle": "2024-10-05T11:38:35.898606Z",
     "shell.execute_reply": "2024-10-05T11:38:35.898371Z"
    }
   },
   "outputs": [
    {
     "data": {
      "text/plain": [
       "1041253"
      ]
     },
     "execution_count": 6,
     "metadata": {},
     "output_type": "execute_result"
    }
   ],
   "source": [
    "train_generator = efficent_load_object(TRAIN_GENERATOR_PATH)\n",
    "train_generator.__len__()"
   ]
  },
  {
   "cell_type": "code",
   "execution_count": 7,
   "metadata": {
    "execution": {
     "iopub.execute_input": "2024-10-05T11:38:35.899735Z",
     "iopub.status.busy": "2024-10-05T11:38:35.899635Z",
     "iopub.status.idle": "2024-10-05T11:38:38.178920Z",
     "shell.execute_reply": "2024-10-05T11:38:38.178649Z"
    }
   },
   "outputs": [
    {
     "data": {
      "text/plain": [
       "105374"
      ]
     },
     "execution_count": 7,
     "metadata": {},
     "output_type": "execute_result"
    }
   ],
   "source": [
    "val_generator = efficent_load_object(VAL_GENERATOR_PATH)\n",
    "val_generator.__len__()"
   ]
  },
  {
   "cell_type": "code",
   "execution_count": 8,
   "metadata": {
    "execution": {
     "iopub.execute_input": "2024-10-05T11:38:38.180005Z",
     "iopub.status.busy": "2024-10-05T11:38:38.179920Z",
     "iopub.status.idle": "2024-10-05T11:38:40.500540Z",
     "shell.execute_reply": "2024-10-05T11:38:40.500264Z"
    }
   },
   "outputs": [
    {
     "data": {
      "text/plain": [
       "104725"
      ]
     },
     "execution_count": 8,
     "metadata": {},
     "output_type": "execute_result"
    }
   ],
   "source": [
    "test_generator = efficent_load_object(TEST_GENERATOR_PATH)\n",
    "test_generator.__len__()"
   ]
  },
  {
   "cell_type": "code",
   "execution_count": 9,
   "metadata": {
    "execution": {
     "iopub.execute_input": "2024-10-05T11:38:40.501544Z",
     "iopub.status.busy": "2024-10-05T11:38:40.501460Z",
     "iopub.status.idle": "2024-10-05T11:38:40.638634Z",
     "shell.execute_reply": "2024-10-05T11:38:40.638307Z"
    }
   },
   "outputs": [],
   "source": [
    "del train_generator\n",
    "del val_generator\n",
    "del test_generator"
   ]
  },
  {
   "cell_type": "code",
   "execution_count": 10,
   "metadata": {
    "execution": {
     "iopub.execute_input": "2024-10-05T11:38:40.641262Z",
     "iopub.status.busy": "2024-10-05T11:38:40.641169Z",
     "iopub.status.idle": "2024-10-15T09:43:54.888577Z",
     "shell.execute_reply": "2024-10-15T09:43:54.888286Z"
    }
   },
   "outputs": [
    {
     "name": "stdout",
     "output_type": "stream",
     "text": [
      "______________________________________________________________\n",
      "Epoch 0 Train Loss: 0.0064 | MSE: 0.1318 | MAE: 0.2633 | Accuracy: 0.8094\n"
     ]
    },
    {
     "name": "stdout",
     "output_type": "stream",
     "text": [
      "Epoch 0 Val Loss: 0.0061 | MSE: 0.1243 | MAE: 0.2527  | Accuracy: 0.8221\n",
      "Epoch 1: Saving checkpoint...\n"
     ]
    },
    {
     "name": "stdout",
     "output_type": "stream",
     "text": [
      "______________________________________________________________\n",
      "Epoch 1 Train Loss: 0.006 | MSE: 0.1224 | MAE: 0.2446 | Accuracy: 0.825\n"
     ]
    },
    {
     "name": "stdout",
     "output_type": "stream",
     "text": [
      "Epoch 1 Val Loss: 0.0059 | MSE: 0.1209 | MAE: 0.2492  | Accuracy: 0.8282\n",
      "Epoch 2: Saving checkpoint...\n"
     ]
    },
    {
     "name": "stdout",
     "output_type": "stream",
     "text": [
      "______________________________________________________________\n",
      "Epoch 2 Train Loss: 0.0059 | MSE: 0.1198 | MAE: 0.2393 | Accuracy: 0.8292\n"
     ]
    },
    {
     "name": "stdout",
     "output_type": "stream",
     "text": [
      "Epoch 2 Val Loss: 0.0059 | MSE: 0.1194 | MAE: 0.2468  | Accuracy: 0.8306\n",
      "Epoch 3: Saving checkpoint...\n"
     ]
    },
    {
     "name": "stdout",
     "output_type": "stream",
     "text": [
      "______________________________________________________________\n",
      "Epoch 3 Train Loss: 0.0059 | MSE: 0.1187 | MAE: 0.237 | Accuracy: 0.831\n"
     ]
    },
    {
     "name": "stdout",
     "output_type": "stream",
     "text": [
      "Epoch 3 Val Loss: 0.0059 | MSE: 0.1191 | MAE: 0.2456  | Accuracy: 0.8311\n",
      "Epoch 4: Saving checkpoint...\n"
     ]
    },
    {
     "name": "stdout",
     "output_type": "stream",
     "text": [
      "______________________________________________________________\n",
      "Epoch 4 Train Loss: 0.0058 | MSE: 0.1181 | MAE: 0.2358 | Accuracy: 0.8319\n"
     ]
    },
    {
     "name": "stdout",
     "output_type": "stream",
     "text": [
      "Epoch 4 Val Loss: 0.0059 | MSE: 0.1189 | MAE: 0.2444  | Accuracy: 0.8312\n",
      "Epoch 5: Saving checkpoint...\n"
     ]
    },
    {
     "name": "stdout",
     "output_type": "stream",
     "text": [
      "______________________________________________________________\n",
      "Epoch 5 Train Loss: 0.0059 | MSE: 0.118 | MAE: 0.2355 | Accuracy: 0.8324\n"
     ]
    },
    {
     "name": "stdout",
     "output_type": "stream",
     "text": [
      "Epoch 5 Val Loss: 0.0059 | MSE: 0.1192 | MAE: 0.2367  | Accuracy: 0.8307\n",
      "Epoch 6: Saving checkpoint...\n"
     ]
    },
    {
     "name": "stdout",
     "output_type": "stream",
     "text": [
      "______________________________________________________________\n",
      "Epoch 6 Train Loss: 0.0059 | MSE: 0.1181 | MAE: 0.2358 | Accuracy: 0.8323\n"
     ]
    },
    {
     "name": "stdout",
     "output_type": "stream",
     "text": [
      "Epoch 6 Val Loss: 0.0059 | MSE: 0.1193 | MAE: 0.2378  | Accuracy: 0.8312\n",
      "Epoch 7: Saving checkpoint...\n"
     ]
    },
    {
     "name": "stdout",
     "output_type": "stream",
     "text": [
      "______________________________________________________________\n",
      "Epoch 7 Train Loss: 0.0059 | MSE: 0.1181 | MAE: 0.2358 | Accuracy: 0.8323\n"
     ]
    },
    {
     "name": "stdout",
     "output_type": "stream",
     "text": [
      "Epoch 7 Val Loss: 0.0059 | MSE: 0.1198 | MAE: 0.2352  | Accuracy: 0.8309\n",
      "Epoch 8: Saving checkpoint...\n"
     ]
    },
    {
     "name": "stdout",
     "output_type": "stream",
     "text": [
      "______________________________________________________________\n",
      "Epoch 8 Train Loss: 0.0059 | MSE: 0.1182 | MAE: 0.2358 | Accuracy: 0.8323\n"
     ]
    },
    {
     "name": "stdout",
     "output_type": "stream",
     "text": [
      "Epoch 8 Val Loss: 0.0059 | MSE: 0.1189 | MAE: 0.236  | Accuracy: 0.8321\n",
      "Epoch 9: Saving checkpoint...\n"
     ]
    },
    {
     "name": "stdout",
     "output_type": "stream",
     "text": [
      "______________________________________________________________\n",
      "Epoch 9 Train Loss: 0.0059 | MSE: 0.1181 | MAE: 0.2356 | Accuracy: 0.8324\n"
     ]
    },
    {
     "name": "stdout",
     "output_type": "stream",
     "text": [
      "Epoch 9 Val Loss: 0.0059 | MSE: 0.119 | MAE: 0.2358  | Accuracy: 0.8319\n",
      "Epoch 10: Saving checkpoint...\n"
     ]
    },
    {
     "name": "stdout",
     "output_type": "stream",
     "text": [
      "______________________________________________________________\n",
      "Epoch 10 Train Loss: 0.0059 | MSE: 0.1182 | MAE: 0.2357 | Accuracy: 0.8323\n"
     ]
    },
    {
     "name": "stdout",
     "output_type": "stream",
     "text": [
      "Epoch 10 Val Loss: 0.0059 | MSE: 0.1192 | MAE: 0.24  | Accuracy: 0.8314\n",
      "*****************\n",
      "Early Callback\n",
      "*****************\n"
     ]
    },
    {
     "name": "stdout",
     "output_type": "stream",
     "text": [
      "Epoch 10 Test Loss: 0.0058 | MSE: 0.1185 | MAE: 0.2437  | Accuracy: 0.8316\n"
     ]
    }
   ],
   "source": [
    "model = model.to(device)\n",
    "model = train(TRAIN_GENERATOR_PATH, VAL_GENERATOR_PATH, TEST_GENERATOR_PATH, model, optimizer, loss_func, NUM_HANGING_VALUES, EPOCHS, device,\n",
    "              learning_rate=LR, log = 1, log_file = \"./Training_Logs/Training.txt\", verbose = 1, val = True, early_callback=True, early_callback_epochs=5,\n",
    "              checkpoint=True, epochs_per_checkpoint=1, break_after_checkpoint=False, checkpoint_filename=\"./Models/PikeBot_Models/PikeBot_checkpoint.pth\",\n",
    "              change_learning_rate=CHANGE_LEARNING_RATE, update_epochs=UPDATE_EPOCHS)"
   ]
  },
  {
   "cell_type": "markdown",
   "metadata": {},
   "source": [
    "## Saving Model"
   ]
  },
  {
   "cell_type": "code",
   "execution_count": 11,
   "metadata": {
    "execution": {
     "iopub.execute_input": "2024-10-15T09:43:54.889964Z",
     "iopub.status.busy": "2024-10-15T09:43:54.889869Z",
     "iopub.status.idle": "2024-10-15T09:43:54.891993Z",
     "shell.execute_reply": "2024-10-15T09:43:54.891805Z"
    }
   },
   "outputs": [
    {
     "data": {
      "text/plain": [
       "Chess_Model(\n",
       "  (conv1): Conv2d(456, 912, kernel_size=(3, 3), stride=(1, 1), padding=(1, 1))\n",
       "  (conv2): Conv2d(912, 912, kernel_size=(3, 3), stride=(1, 1), padding=(1, 1))\n",
       "  (conv3): Conv2d(912, 912, kernel_size=(3, 3), stride=(1, 1), padding=(1, 1))\n",
       "  (conv4): Conv2d(912, 456, kernel_size=(3, 3), stride=(1, 1), padding=(1, 1))\n",
       "  (conv5): Conv2d(456, 912, kernel_size=(3, 3), stride=(1, 1), padding=(1, 1))\n",
       "  (conv6): Conv2d(912, 912, kernel_size=(3, 3), stride=(1, 1), padding=(1, 1))\n",
       "  (conv7): Conv2d(912, 912, kernel_size=(3, 3), stride=(1, 1), padding=(1, 1))\n",
       "  (conv8): Conv2d(912, 456, kernel_size=(3, 3), stride=(1, 1), padding=(1, 1))\n",
       "  (pool): MaxPool2d(kernel_size=3, stride=2, padding=0, dilation=1, ceil_mode=False)\n",
       "  (float_inputs_fc): Linear(in_features=10, out_features=512, bias=True)\n",
       "  (fc1): Linear(in_features=968, out_features=1024, bias=True)\n",
       "  (fc2): Linear(in_features=1024, out_features=64, bias=True)\n",
       "  (output_layer): Linear(in_features=64, out_features=1, bias=True)\n",
       ")"
      ]
     },
     "execution_count": 11,
     "metadata": {},
     "output_type": "execute_result"
    }
   ],
   "source": [
    "model"
   ]
  },
  {
   "cell_type": "code",
   "execution_count": 12,
   "metadata": {
    "execution": {
     "iopub.execute_input": "2024-10-15T09:43:54.892884Z",
     "iopub.status.busy": "2024-10-15T09:43:54.892806Z",
     "iopub.status.idle": "2024-10-15T09:43:55.025006Z",
     "shell.execute_reply": "2024-10-15T09:43:55.024711Z"
    }
   },
   "outputs": [],
   "source": [
    "torch.save(model.state_dict(), TEMP_STATE_PATH)"
   ]
  },
  {
   "cell_type": "code",
   "execution_count": 13,
   "metadata": {
    "execution": {
     "iopub.execute_input": "2024-10-15T09:43:55.026126Z",
     "iopub.status.busy": "2024-10-15T09:43:55.026034Z",
     "iopub.status.idle": "2024-10-15T09:43:55.569139Z",
     "shell.execute_reply": "2024-10-15T09:43:55.568862Z"
    }
   },
   "outputs": [
    {
     "name": "stderr",
     "output_type": "stream",
     "text": [
      "/tmp/ipykernel_76294/1103494661.py:2: FutureWarning: You are using `torch.load` with `weights_only=False` (the current default value), which uses the default pickle module implicitly. It is possible to construct malicious pickle data which will execute arbitrary code during unpickling (See https://github.com/pytorch/pytorch/blob/main/SECURITY.md#untrusted-models for more details). In a future release, the default value for `weights_only` will be flipped to `True`. This limits the functions that could be executed during unpickling. Arbitrary objects will no longer be allowed to be loaded via this mode unless they are explicitly allowlisted by the user via `torch.serialization.add_safe_globals`. We recommend you start setting `weights_only=True` for any use case where you don't have full control of the loaded file. Please open an issue on GitHub for any issues related to this experimental feature.\n",
      "  model.load_state_dict(torch.load(TEMP_STATE_PATH))\n"
     ]
    },
    {
     "name": "stdout",
     "output_type": "stream",
     "text": [
      "Model saved successfully!\n"
     ]
    }
   ],
   "source": [
    "model = Chess_Model(bit_board_shape=BITBOARD_SHAPE, num_float_inputs=NUM_HANGING_VALUES, channel_multiple=2)\n",
    "model.load_state_dict(torch.load(TEMP_STATE_PATH))\n",
    "save_model(model, model_filename=MODEL_FILENAME, onnx_filename=ONNX_FILENAME,\n",
    "           bitboard_input_shape=board_shape, hanging_values_input_shape=floats_shape, opset_version=OPSET_VERSION, device=\"cpu\")"
   ]
  },
  {
   "cell_type": "markdown",
   "metadata": {},
   "source": [
    "## Post-Training Sanity Check"
   ]
  },
  {
   "cell_type": "code",
   "execution_count": 14,
   "metadata": {
    "execution": {
     "iopub.execute_input": "2024-10-15T09:43:55.570362Z",
     "iopub.status.busy": "2024-10-15T09:43:55.570237Z",
     "iopub.status.idle": "2024-10-15T10:32:33.826308Z",
     "shell.execute_reply": "2024-10-15T10:32:33.825911Z"
    }
   },
   "outputs": [
    {
     "name": "stderr",
     "output_type": "stream",
     "text": [
      "/tmp/ipykernel_76294/1681273878.py:1: FutureWarning: You are using `torch.load` with `weights_only=False` (the current default value), which uses the default pickle module implicitly. It is possible to construct malicious pickle data which will execute arbitrary code during unpickling (See https://github.com/pytorch/pytorch/blob/main/SECURITY.md#untrusted-models for more details). In a future release, the default value for `weights_only` will be flipped to `True`. This limits the functions that could be executed during unpickling. Arbitrary objects will no longer be allowed to be loaded via this mode unless they are explicitly allowlisted by the user via `torch.serialization.add_safe_globals`. We recommend you start setting `weights_only=True` for any use case where you don't have full control of the loaded file. Please open an issue on GitHub for any issues related to this experimental feature.\n",
      "  model = torch.load(MODEL_FILENAME)\n"
     ]
    },
    {
     "name": "stdout",
     "output_type": "stream",
     "text": [
      "Testing Complete, Loss: 0.0058 | MSE: 0.1185 | MAE: 0.2437 | Accuracy: 0.8316\n"
     ]
    }
   ],
   "source": [
    "model = torch.load(MODEL_FILENAME)\n",
    "model = model.to(device)\n",
    "model.eval()\n",
    "test_model(model, loss_func=loss_func, num_hanging_values=NUM_HANGING_VALUES, device=device, test_generator_path=TEST_GENERATOR_PATH)"
   ]
  }
 ],
 "metadata": {
  "kernelspec": {
   "display_name": "PikeBot_Model_Env",
   "language": "python",
   "name": "python3"
  },
  "language_info": {
   "codemirror_mode": {
    "name": "ipython",
    "version": 3
   },
   "file_extension": ".py",
   "mimetype": "text/x-python",
   "name": "python",
   "nbconvert_exporter": "python",
   "pygments_lexer": "ipython3",
   "version": "3.10.13"
  }
 },
 "nbformat": 4,
 "nbformat_minor": 2
}
