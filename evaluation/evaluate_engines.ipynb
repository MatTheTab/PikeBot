{
 "cells": [
  {
   "cell_type": "code",
   "execution_count": 1,
   "metadata": {},
   "outputs": [],
   "source": [
    "import chess\n",
    "import chess.engine\n",
    "import os\n",
    "import sys\n",
    "import chess.pgn\n",
    "import subprocess\n",
    "\n",
    "current_dir = os.getcwd()\n",
    "parent_dir = os.path.abspath(os.path.join(current_dir, '..'))\n",
    "sys.path.append(parent_dir)\n",
    "\n",
    "import utils.chess_utils as chess_utils\n",
    "from utils.pikeBot_chess_utils import *\n",
    "from utils.utils import *\n",
    "config=get_paths()\n",
    "stockfish_path=config['stockfish_path']\n",
    "maia_path=config['maia_path']\n",
    "from evaluation_utils import *"
   ]
  },
  {
   "cell_type": "code",
   "execution_count": 2,
   "metadata": {},
   "outputs": [],
   "source": [
    "def get_maia_path(maia_elo):\n",
    "    version=int(str(maia_elo)[1])\n",
    "    if version not in [1,5,9]:\n",
    "        raise ValueError(\"Maia elo must be from (1100, 1500, 1900)\")\n",
    "    else:\n",
    "        return maia_path.format(version=version)\n"
   ]
  },
  {
   "cell_type": "code",
   "execution_count": 3,
   "metadata": {},
   "outputs": [],
   "source": [
    "class MaiaChess(chess_utils.Player):\n",
    "    def __init__(self, maia_path: str) -> None:\n",
    "        super().__init__()\n",
    "        #redirect error stderr not to display messages from the engine\n",
    "        self.engine = chess.engine.SimpleEngine.popen_uci(maia_path, stderr=subprocess.DEVNULL)\n",
    "\n",
    "    def get_best_move(self, board):\n",
    "        result = self.engine.play(board, chess.engine.Limit(nodes=1))\n",
    "        move = result.move\n",
    "        return move"
   ]
  },
  {
   "cell_type": "markdown",
   "metadata": {},
   "source": [
    "### Parameters setup\n",
    "set path parameters to your local resources and evaluation parameters depending on your evaluation setup"
   ]
  },
  {
   "cell_type": "code",
   "execution_count": 4,
   "metadata": {},
   "outputs": [],
   "source": [
    "model_path = config['pikebot']\n",
    "preprocessing_parameters_path = config['preprocessing_params_path']\n",
    "\n",
    "#evaluation parameters\n",
    "time_limit = 0.01\n",
    "evaluation_dataset_paths = [\n",
    "    'games/silversuite.pgn',\n",
    "    ]"
   ]
  },
  {
   "cell_type": "markdown",
   "metadata": {},
   "source": [
    "### Engine definition\n",
    "By default engine1 is a maia chess engine simulating human behavior but you can modify it if you want other engine comparison. Both engines must be of a child class of chess_utils.Player."
   ]
  },
  {
   "cell_type": "code",
   "execution_count": 5,
   "metadata": {},
   "outputs": [],
   "source": [
    "maia_elo = 1100\n",
    "maia_path = get_maia_path(maia_elo)\n",
    "engine1 = MaiaChess(maia_path)"
   ]
  },
  {
   "cell_type": "code",
   "execution_count": 6,
   "metadata": {},
   "outputs": [],
   "source": [
    "from Pikebot.PikeBotHeuristic5 import PikeBotHeuristic5\n",
    "from Pikebot.PikeBotHeuristic6 import PikeBotHeuristic6\n",
    "from utils.pikeBot_chess_utils import *\n",
    "model = PikeBotModelWrapper(model_path, preprocessing_parameters_path)\n",
    "engine2 = PikeBotHeuristic5(\n",
    "    model,\n",
    "    chess_utils.max_aggr,\n",
    "    stockfish_path\n",
    ")\n",
    "engine3 = PikeBotHeuristic6(\n",
    "    model,\n",
    "    chess_utils.max_aggr,\n",
    "    stockfish_path\n",
    ")"
   ]
  },
  {
   "cell_type": "markdown",
   "metadata": {},
   "source": [
    "### Dataset loading"
   ]
  },
  {
   "cell_type": "code",
   "execution_count": 7,
   "metadata": {},
   "outputs": [],
   "source": [
    "boards_datasets = dict()\n",
    "for path in evaluation_dataset_paths:\n",
    "    boards_dataset = get_boards_dataset(path)\n",
    "\n",
    "    boards_datasets[path] = boards_dataset\n"
   ]
  },
  {
   "cell_type": "code",
   "execution_count": 8,
   "metadata": {},
   "outputs": [],
   "source": [
    "boards_datasets['games/silversuite.pgn'] = boards_datasets['games/silversuite.pgn'][:2]"
   ]
  },
  {
   "cell_type": "markdown",
   "metadata": {},
   "source": [
    "### Evaluation code"
   ]
  },
  {
   "cell_type": "code",
   "execution_count": null,
   "metadata": {},
   "outputs": [],
   "source": [
    "evaluate_engines(engine1, engine2, boards_datasets, maia_elo, 800)"
   ]
  },
  {
   "cell_type": "code",
   "execution_count": null,
   "metadata": {},
   "outputs": [
    {
     "ename": "EngineError",
     "evalue": "expected value for option 'MultiPV' to be at least 1, got: 0",
     "output_type": "error",
     "traceback": [
      "\u001b[1;31m---------------------------------------------------------------------------\u001b[0m",
      "\u001b[1;31mEngineError\u001b[0m                               Traceback (most recent call last)",
      "Cell \u001b[1;32mIn[12], line 1\u001b[0m\n\u001b[1;32m----> 1\u001b[0m \u001b[43mevaluate_engines\u001b[49m\u001b[43m(\u001b[49m\u001b[43mengine1\u001b[49m\u001b[43m,\u001b[49m\u001b[43m \u001b[49m\u001b[43mengine3\u001b[49m\u001b[43m,\u001b[49m\u001b[43m \u001b[49m\u001b[43mboards_datasets\u001b[49m\u001b[43m,\u001b[49m\u001b[43m \u001b[49m\u001b[43mmaia_elo\u001b[49m\u001b[43m,\u001b[49m\u001b[43m \u001b[49m\u001b[38;5;241;43m800\u001b[39;49m\u001b[43m)\u001b[49m\n",
      "File \u001b[1;32md:\\Krzysiaczek\\Documents\\studia\\engeneering\\PikeBot\\evaluation\\evaluation_utils.py:221\u001b[0m, in \u001b[0;36mevaluate_engines\u001b[1;34m(engine1, engine2, boards_datasets, elo1, elo2)\u001b[0m\n\u001b[0;32m    219\u001b[0m \u001b[38;5;28;01mfor\u001b[39;00m path, boards_dataset \u001b[38;5;129;01min\u001b[39;00m boards_datasets\u001b[38;5;241m.\u001b[39mitems():\n\u001b[0;32m    220\u001b[0m     result1, boards1 \u001b[38;5;241m=\u001b[39m compare_engines(engine1, engine2, boards_dataset)\n\u001b[1;32m--> 221\u001b[0m     result2, boards2 \u001b[38;5;241m=\u001b[39m \u001b[43mcompare_engines\u001b[49m\u001b[43m(\u001b[49m\u001b[43mengine2\u001b[49m\u001b[43m,\u001b[49m\u001b[43m \u001b[49m\u001b[43mengine1\u001b[49m\u001b[43m,\u001b[49m\u001b[43m \u001b[49m\u001b[43mboards_dataset\u001b[49m\u001b[43m)\u001b[49m\n\u001b[0;32m    223\u001b[0m     name1, name2 \u001b[38;5;241m=\u001b[39m \u001b[38;5;28mtype\u001b[39m(engine1)\u001b[38;5;241m.\u001b[39m\u001b[38;5;18m__name__\u001b[39m, \u001b[38;5;28mtype\u001b[39m(engine2)\u001b[38;5;241m.\u001b[39m\u001b[38;5;18m__name__\u001b[39m\n\u001b[0;32m    225\u001b[0m     \u001b[38;5;66;03m#define saving directory\u001b[39;00m\n",
      "File \u001b[1;32md:\\Krzysiaczek\\Documents\\studia\\engeneering\\PikeBot\\evaluation\\evaluation_utils.py:39\u001b[0m, in \u001b[0;36mcompare_engines\u001b[1;34m(engine1, engine2, boards_dataset)\u001b[0m\n\u001b[0;32m     37\u001b[0m     \u001b[38;5;28;01mif\u001b[39;00m \u001b[38;5;28misinstance\u001b[39m(engine, chess_utils\u001b[38;5;241m.\u001b[39mChessBot):\n\u001b[0;32m     38\u001b[0m         set_engine_history(engine, move_history)\n\u001b[1;32m---> 39\u001b[0m result \u001b[38;5;241m=\u001b[39m \u001b[43mchess_utils\u001b[49m\u001b[38;5;241;43m.\u001b[39;49m\u001b[43mplay_chess\u001b[49m\u001b[43m(\u001b[49m\u001b[43mengine1\u001b[49m\u001b[43m,\u001b[49m\u001b[43m \u001b[49m\u001b[43mengine2\u001b[49m\u001b[43m,\u001b[49m\u001b[43m \u001b[49m\u001b[43mmute\u001b[49m\u001b[38;5;241;43m=\u001b[39;49m\u001b[38;5;28;43;01mTrue\u001b[39;49;00m\u001b[43m,\u001b[49m\u001b[43m \u001b[49m\u001b[43mboard\u001b[49m\u001b[38;5;241;43m=\u001b[39;49m\u001b[43mboard\u001b[49m\u001b[38;5;241;43m.\u001b[39;49m\u001b[43mcopy\u001b[49m\u001b[43m(\u001b[49m\u001b[43m)\u001b[49m\u001b[43m)\u001b[49m\n\u001b[0;32m     40\u001b[0m results\u001b[38;5;241m.\u001b[39mappend(result[\u001b[38;5;241m0\u001b[39m])\n\u001b[0;32m     41\u001b[0m games\u001b[38;5;241m.\u001b[39mappend(result[\u001b[38;5;241m1\u001b[39m])\n",
      "File \u001b[1;32md:\\Krzysiaczek\\Documents\\studia\\engeneering\\PikeBot\\utils\\chess_utils.py:397\u001b[0m, in \u001b[0;36mplay_chess\u001b[1;34m(white_player, black_player, mute, board)\u001b[0m\n\u001b[0;32m    394\u001b[0m     white_player\u001b[38;5;241m.\u001b[39mdisplay_board(board)\n\u001b[0;32m    396\u001b[0m \u001b[38;5;28;01mif\u001b[39;00m board\u001b[38;5;241m.\u001b[39mturn:\n\u001b[1;32m--> 397\u001b[0m     white_move \u001b[38;5;241m=\u001b[39m \u001b[43mwhite_player\u001b[49m\u001b[38;5;241;43m.\u001b[39;49m\u001b[43mget_best_move\u001b[49m\u001b[43m(\u001b[49m\u001b[43mboard\u001b[49m\u001b[43m)\u001b[49m\n\u001b[0;32m    398\u001b[0m     \u001b[38;5;28;01mif\u001b[39;00m \u001b[38;5;129;01mnot\u001b[39;00m mute:\n\u001b[0;32m    399\u001b[0m         \u001b[38;5;28mprint\u001b[39m(\u001b[38;5;124m\"\u001b[39m\u001b[38;5;130;01m\\n\u001b[39;00m\u001b[38;5;124mWhite\u001b[39m\u001b[38;5;124m'\u001b[39m\u001b[38;5;124ms Move:\u001b[39m\u001b[38;5;124m\"\u001b[39m, white_move, \u001b[38;5;124m\"\u001b[39m\u001b[38;5;130;01m\\n\u001b[39;00m\u001b[38;5;124m\"\u001b[39m)\n",
      "File \u001b[1;32md:\\Krzysiaczek\\Documents\\studia\\engeneering\\PikeBot\\utils\\pikeBot_chess_utils.py:277\u001b[0m, in \u001b[0;36mPikebot.get_best_move\u001b[1;34m(self, board)\u001b[0m\n\u001b[0;32m    274\u001b[0m \u001b[38;5;66;03m#save opponents move and its evaluation to the history\u001b[39;00m\n\u001b[0;32m    275\u001b[0m \u001b[38;5;28mself\u001b[39m\u001b[38;5;241m.\u001b[39msave_to_history(board)\n\u001b[1;32m--> 277\u001b[0m best_move, _ \u001b[38;5;241m=\u001b[39m \u001b[38;5;28;43mself\u001b[39;49m\u001b[38;5;241;43m.\u001b[39;49m\u001b[43minduce_own_move\u001b[49m\u001b[43m(\u001b[49m\u001b[43mboard\u001b[49m\u001b[43m)\u001b[49m\n\u001b[0;32m    280\u001b[0m board_copy2 \u001b[38;5;241m=\u001b[39m board\u001b[38;5;241m.\u001b[39mcopy()\n\u001b[0;32m    281\u001b[0m board_copy2\u001b[38;5;241m.\u001b[39mpush(best_move)\n",
      "File \u001b[1;32md:\\Krzysiaczek\\Documents\\studia\\engeneering\\PikeBot\\Pikebot\\PikeBotHeuristic6.py:31\u001b[0m, in \u001b[0;36mPikeBotHeuristic6.induce_own_move\u001b[1;34m(self, board, depth, **kwargs)\u001b[0m\n\u001b[0;32m     28\u001b[0m \u001b[38;5;28mself\u001b[39m\u001b[38;5;241m.\u001b[39mmove_history\u001b[38;5;241m.\u001b[39mappend(board\u001b[38;5;241m.\u001b[39mcopy())\n\u001b[0;32m     29\u001b[0m \u001b[38;5;28mself\u001b[39m\u001b[38;5;241m.\u001b[39mevaluation_history\u001b[38;5;241m.\u001b[39mappend(score)\n\u001b[1;32m---> 31\u001b[0m _, my_score \u001b[38;5;241m=\u001b[39m \u001b[38;5;28;43mself\u001b[39;49m\u001b[38;5;241;43m.\u001b[39;49m\u001b[43minduce_opponents_move\u001b[49m\u001b[43m(\u001b[49m\u001b[43mboard\u001b[49m\u001b[43m,\u001b[49m\u001b[43m \u001b[49m\u001b[43mdepth\u001b[49m\u001b[38;5;241;43m+\u001b[39;49m\u001b[38;5;241;43m1\u001b[39;49m\u001b[43m)\u001b[49m\n\u001b[0;32m     33\u001b[0m \u001b[38;5;28mself\u001b[39m\u001b[38;5;241m.\u001b[39mevaluation_history\u001b[38;5;241m.\u001b[39mpop()\n\u001b[0;32m     34\u001b[0m my_moves_scores\u001b[38;5;241m.\u001b[39mappend((move, my_score))\n",
      "File \u001b[1;32md:\\Krzysiaczek\\Documents\\studia\\engeneering\\PikeBot\\Pikebot\\PikeBotHeuristic6.py:77\u001b[0m, in \u001b[0;36mPikeBotHeuristic6.induce_opponents_move\u001b[1;34m(self, board, depth, **kwargs)\u001b[0m\n\u001b[0;32m     75\u001b[0m     scores\u001b[38;5;241m.\u001b[39mappend(\u001b[38;5;241m-\u001b[39mscore)\n\u001b[0;32m     76\u001b[0m \u001b[38;5;28;01melse\u001b[39;00m:\n\u001b[1;32m---> 77\u001b[0m     _, induced_score \u001b[38;5;241m=\u001b[39m \u001b[38;5;28;43mself\u001b[39;49m\u001b[38;5;241;43m.\u001b[39;49m\u001b[43minduce_own_move\u001b[49m\u001b[43m(\u001b[49m\u001b[43mboard\u001b[49m\u001b[43m,\u001b[49m\u001b[43m \u001b[49m\u001b[43mdepth\u001b[49m\u001b[38;5;241;43m+\u001b[39;49m\u001b[38;5;241;43m1\u001b[39;49m\u001b[43m)\u001b[49m\n\u001b[0;32m     78\u001b[0m     scores\u001b[38;5;241m.\u001b[39mappend(\u001b[38;5;241m-\u001b[39minduced_score)\n\u001b[0;32m     79\u001b[0m used_moves\u001b[38;5;241m.\u001b[39mappend(next_move)\n",
      "File \u001b[1;32md:\\Krzysiaczek\\Documents\\studia\\engeneering\\PikeBot\\Pikebot\\PikeBotHeuristic6.py:31\u001b[0m, in \u001b[0;36mPikeBotHeuristic6.induce_own_move\u001b[1;34m(self, board, depth, **kwargs)\u001b[0m\n\u001b[0;32m     28\u001b[0m \u001b[38;5;28mself\u001b[39m\u001b[38;5;241m.\u001b[39mmove_history\u001b[38;5;241m.\u001b[39mappend(board\u001b[38;5;241m.\u001b[39mcopy())\n\u001b[0;32m     29\u001b[0m \u001b[38;5;28mself\u001b[39m\u001b[38;5;241m.\u001b[39mevaluation_history\u001b[38;5;241m.\u001b[39mappend(score)\n\u001b[1;32m---> 31\u001b[0m _, my_score \u001b[38;5;241m=\u001b[39m \u001b[38;5;28;43mself\u001b[39;49m\u001b[38;5;241;43m.\u001b[39;49m\u001b[43minduce_opponents_move\u001b[49m\u001b[43m(\u001b[49m\u001b[43mboard\u001b[49m\u001b[43m,\u001b[49m\u001b[43m \u001b[49m\u001b[43mdepth\u001b[49m\u001b[38;5;241;43m+\u001b[39;49m\u001b[38;5;241;43m1\u001b[39;49m\u001b[43m)\u001b[49m\n\u001b[0;32m     33\u001b[0m \u001b[38;5;28mself\u001b[39m\u001b[38;5;241m.\u001b[39mevaluation_history\u001b[38;5;241m.\u001b[39mpop()\n\u001b[0;32m     34\u001b[0m my_moves_scores\u001b[38;5;241m.\u001b[39mappend((move, my_score))\n",
      "File \u001b[1;32md:\\Krzysiaczek\\Documents\\studia\\engeneering\\PikeBot\\Pikebot\\PikeBotHeuristic6.py:77\u001b[0m, in \u001b[0;36mPikeBotHeuristic6.induce_opponents_move\u001b[1;34m(self, board, depth, **kwargs)\u001b[0m\n\u001b[0;32m     75\u001b[0m     scores\u001b[38;5;241m.\u001b[39mappend(\u001b[38;5;241m-\u001b[39mscore)\n\u001b[0;32m     76\u001b[0m \u001b[38;5;28;01melse\u001b[39;00m:\n\u001b[1;32m---> 77\u001b[0m     _, induced_score \u001b[38;5;241m=\u001b[39m \u001b[38;5;28;43mself\u001b[39;49m\u001b[38;5;241;43m.\u001b[39;49m\u001b[43minduce_own_move\u001b[49m\u001b[43m(\u001b[49m\u001b[43mboard\u001b[49m\u001b[43m,\u001b[49m\u001b[43m \u001b[49m\u001b[43mdepth\u001b[49m\u001b[38;5;241;43m+\u001b[39;49m\u001b[38;5;241;43m1\u001b[39;49m\u001b[43m)\u001b[49m\n\u001b[0;32m     78\u001b[0m     scores\u001b[38;5;241m.\u001b[39mappend(\u001b[38;5;241m-\u001b[39minduced_score)\n\u001b[0;32m     79\u001b[0m used_moves\u001b[38;5;241m.\u001b[39mappend(next_move)\n",
      "File \u001b[1;32md:\\Krzysiaczek\\Documents\\studia\\engeneering\\PikeBot\\Pikebot\\PikeBotHeuristic6.py:15\u001b[0m, in \u001b[0;36mPikeBotHeuristic6.induce_own_move\u001b[1;34m(self, board, depth, **kwargs)\u001b[0m\n\u001b[0;32m      7\u001b[0m \u001b[38;5;28;01mdef\u001b[39;00m \u001b[38;5;21minduce_own_move\u001b[39m(\n\u001b[0;32m      8\u001b[0m         \u001b[38;5;28mself\u001b[39m,\n\u001b[0;32m      9\u001b[0m         board: chess\u001b[38;5;241m.\u001b[39mBoard,\n\u001b[0;32m     10\u001b[0m         depth: \u001b[38;5;28mint\u001b[39m\u001b[38;5;241m=\u001b[39m\u001b[38;5;241m0\u001b[39m,\n\u001b[0;32m     11\u001b[0m         \u001b[38;5;241m*\u001b[39m\u001b[38;5;241m*\u001b[39mkwargs,\n\u001b[0;32m     12\u001b[0m         ) \u001b[38;5;241m-\u001b[39m\u001b[38;5;241m>\u001b[39m Tuple[chess\u001b[38;5;241m.\u001b[39mMove, \u001b[38;5;28mfloat\u001b[39m]:\n\u001b[0;32m     14\u001b[0m     my_moves_scores \u001b[38;5;241m=\u001b[39m []\n\u001b[1;32m---> 15\u001b[0m     best_move_scores \u001b[38;5;241m=\u001b[39m \u001b[38;5;28;43mself\u001b[39;49m\u001b[38;5;241;43m.\u001b[39;49m\u001b[43mget_n_best_move_scores\u001b[49m\u001b[43m(\u001b[49m\u001b[43mboard\u001b[49m\u001b[43m,\u001b[49m\u001b[43m \u001b[49m\u001b[38;5;241;43m5\u001b[39;49m\u001b[43m,\u001b[49m\u001b[43m \u001b[49m\u001b[38;5;28;43mself\u001b[39;49m\u001b[38;5;241;43m.\u001b[39;49m\u001b[43mdepth\u001b[49m\u001b[38;5;241;43m-\u001b[39;49m\u001b[43mdepth\u001b[49m\u001b[43m)\u001b[49m\n\u001b[0;32m     16\u001b[0m     \u001b[38;5;28;01mif\u001b[39;00m \u001b[38;5;28mlen\u001b[39m(best_move_scores) \u001b[38;5;241m==\u001b[39m \u001b[38;5;241m1\u001b[39m:\n\u001b[0;32m     17\u001b[0m         \u001b[38;5;28;01mreturn\u001b[39;00m \u001b[38;5;28mlist\u001b[39m(best_move_scores\u001b[38;5;241m.\u001b[39mitems())[\u001b[38;5;241m0\u001b[39m]\n",
      "File \u001b[1;32md:\\Krzysiaczek\\Documents\\studia\\engeneering\\PikeBot\\utils\\chess_utils.py:752\u001b[0m, in \u001b[0;36mChessBot.get_n_best_move_scores\u001b[1;34m(self, board, n, depth)\u001b[0m\n\u001b[0;32m    749\u001b[0m n \u001b[38;5;241m=\u001b[39m \u001b[38;5;28mmin\u001b[39m(n, legal_moves_count)\n\u001b[0;32m    751\u001b[0m \u001b[38;5;66;03m# Set MultiPV to n to get the top n moves\u001b[39;00m\n\u001b[1;32m--> 752\u001b[0m info \u001b[38;5;241m=\u001b[39m \u001b[38;5;28;43mself\u001b[39;49m\u001b[38;5;241;43m.\u001b[39;49m\u001b[43mengine\u001b[49m\u001b[38;5;241;43m.\u001b[39;49m\u001b[43manalyse\u001b[49m\u001b[43m(\u001b[49m\u001b[43mboard\u001b[49m\u001b[43m,\u001b[49m\u001b[43m \u001b[49m\u001b[43mchess\u001b[49m\u001b[38;5;241;43m.\u001b[39;49m\u001b[43mengine\u001b[49m\u001b[38;5;241;43m.\u001b[39;49m\u001b[43mLimit\u001b[49m\u001b[43m(\u001b[49m\u001b[43mdepth\u001b[49m\u001b[38;5;241;43m=\u001b[39;49m\u001b[43mdepth\u001b[49m\u001b[43m)\u001b[49m\u001b[43m,\u001b[49m\u001b[43m \u001b[49m\u001b[43mmultipv\u001b[49m\u001b[38;5;241;43m=\u001b[39;49m\u001b[43mn\u001b[49m\u001b[43m)\u001b[49m\n\u001b[0;32m    754\u001b[0m move_scores \u001b[38;5;241m=\u001b[39m {}\n\u001b[0;32m    755\u001b[0m \u001b[38;5;28;01mfor\u001b[39;00m entry \u001b[38;5;129;01min\u001b[39;00m info:\n",
      "File \u001b[1;32md:\\Krzysiaczek\\Documents\\studia\\engeneering\\PikeBot\\venv\\Lib\\site-packages\\chess\\engine.py:2996\u001b[0m, in \u001b[0;36mSimpleEngine.analyse\u001b[1;34m(self, board, limit, multipv, game, info, root_moves, options)\u001b[0m\n\u001b[0;32m   2992\u001b[0m     coro \u001b[38;5;241m=\u001b[39m asyncio\u001b[38;5;241m.\u001b[39mwait_for(\n\u001b[0;32m   2993\u001b[0m         \u001b[38;5;28mself\u001b[39m\u001b[38;5;241m.\u001b[39mprotocol\u001b[38;5;241m.\u001b[39manalyse(board, limit, multipv\u001b[38;5;241m=\u001b[39mmultipv, game\u001b[38;5;241m=\u001b[39mgame, info\u001b[38;5;241m=\u001b[39minfo, root_moves\u001b[38;5;241m=\u001b[39mroot_moves, options\u001b[38;5;241m=\u001b[39moptions),\n\u001b[0;32m   2994\u001b[0m         \u001b[38;5;28mself\u001b[39m\u001b[38;5;241m.\u001b[39m_timeout_for(limit))\n\u001b[0;32m   2995\u001b[0m     future \u001b[38;5;241m=\u001b[39m asyncio\u001b[38;5;241m.\u001b[39mrun_coroutine_threadsafe(coro, \u001b[38;5;28mself\u001b[39m\u001b[38;5;241m.\u001b[39mprotocol\u001b[38;5;241m.\u001b[39mloop)\n\u001b[1;32m-> 2996\u001b[0m \u001b[38;5;28;01mreturn\u001b[39;00m \u001b[43mfuture\u001b[49m\u001b[38;5;241;43m.\u001b[39;49m\u001b[43mresult\u001b[49m\u001b[43m(\u001b[49m\u001b[43m)\u001b[49m\n",
      "File \u001b[1;32mC:\\Python311\\Lib\\concurrent\\futures\\_base.py:456\u001b[0m, in \u001b[0;36mFuture.result\u001b[1;34m(self, timeout)\u001b[0m\n\u001b[0;32m    454\u001b[0m     \u001b[38;5;28;01mraise\u001b[39;00m CancelledError()\n\u001b[0;32m    455\u001b[0m \u001b[38;5;28;01melif\u001b[39;00m \u001b[38;5;28mself\u001b[39m\u001b[38;5;241m.\u001b[39m_state \u001b[38;5;241m==\u001b[39m FINISHED:\n\u001b[1;32m--> 456\u001b[0m     \u001b[38;5;28;01mreturn\u001b[39;00m \u001b[38;5;28;43mself\u001b[39;49m\u001b[38;5;241;43m.\u001b[39;49m\u001b[43m__get_result\u001b[49m\u001b[43m(\u001b[49m\u001b[43m)\u001b[49m\n\u001b[0;32m    457\u001b[0m \u001b[38;5;28;01melse\u001b[39;00m:\n\u001b[0;32m    458\u001b[0m     \u001b[38;5;28;01mraise\u001b[39;00m \u001b[38;5;167;01mTimeoutError\u001b[39;00m()\n",
      "File \u001b[1;32mC:\\Python311\\Lib\\concurrent\\futures\\_base.py:401\u001b[0m, in \u001b[0;36mFuture.__get_result\u001b[1;34m(self)\u001b[0m\n\u001b[0;32m    399\u001b[0m \u001b[38;5;28;01mif\u001b[39;00m \u001b[38;5;28mself\u001b[39m\u001b[38;5;241m.\u001b[39m_exception:\n\u001b[0;32m    400\u001b[0m     \u001b[38;5;28;01mtry\u001b[39;00m:\n\u001b[1;32m--> 401\u001b[0m         \u001b[38;5;28;01mraise\u001b[39;00m \u001b[38;5;28mself\u001b[39m\u001b[38;5;241m.\u001b[39m_exception\n\u001b[0;32m    402\u001b[0m     \u001b[38;5;28;01mfinally\u001b[39;00m:\n\u001b[0;32m    403\u001b[0m         \u001b[38;5;66;03m# Break a reference cycle with the exception in self._exception\u001b[39;00m\n\u001b[0;32m    404\u001b[0m         \u001b[38;5;28mself\u001b[39m \u001b[38;5;241m=\u001b[39m \u001b[38;5;28;01mNone\u001b[39;00m\n",
      "File \u001b[1;32mC:\\Python311\\Lib\\asyncio\\tasks.py:452\u001b[0m, in \u001b[0;36mwait_for\u001b[1;34m(fut, timeout)\u001b[0m\n\u001b[0;32m    449\u001b[0m loop \u001b[38;5;241m=\u001b[39m events\u001b[38;5;241m.\u001b[39mget_running_loop()\n\u001b[0;32m    451\u001b[0m \u001b[38;5;28;01mif\u001b[39;00m timeout \u001b[38;5;129;01mis\u001b[39;00m \u001b[38;5;28;01mNone\u001b[39;00m:\n\u001b[1;32m--> 452\u001b[0m     \u001b[38;5;28;01mreturn\u001b[39;00m \u001b[38;5;28;01mawait\u001b[39;00m fut\n\u001b[0;32m    454\u001b[0m \u001b[38;5;28;01mif\u001b[39;00m timeout \u001b[38;5;241m<\u001b[39m\u001b[38;5;241m=\u001b[39m \u001b[38;5;241m0\u001b[39m:\n\u001b[0;32m    455\u001b[0m     fut \u001b[38;5;241m=\u001b[39m ensure_future(fut, loop\u001b[38;5;241m=\u001b[39mloop)\n",
      "File \u001b[1;32md:\\Krzysiaczek\\Documents\\studia\\engeneering\\PikeBot\\venv\\Lib\\site-packages\\chess\\engine.py:1239\u001b[0m, in \u001b[0;36mProtocol.analyse\u001b[1;34m(self, board, limit, multipv, game, info, root_moves, options)\u001b[0m\n\u001b[0;32m   1212\u001b[0m \u001b[38;5;28;01masync\u001b[39;00m \u001b[38;5;28;01mdef\u001b[39;00m \u001b[38;5;21manalyse\u001b[39m(\u001b[38;5;28mself\u001b[39m, board: chess\u001b[38;5;241m.\u001b[39mBoard, limit: Limit, \u001b[38;5;241m*\u001b[39m, multipv: Optional[\u001b[38;5;28mint\u001b[39m] \u001b[38;5;241m=\u001b[39m \u001b[38;5;28;01mNone\u001b[39;00m, game: \u001b[38;5;28mobject\u001b[39m \u001b[38;5;241m=\u001b[39m \u001b[38;5;28;01mNone\u001b[39;00m, info: Info \u001b[38;5;241m=\u001b[39m INFO_ALL, root_moves: Optional[Iterable[chess\u001b[38;5;241m.\u001b[39mMove]] \u001b[38;5;241m=\u001b[39m \u001b[38;5;28;01mNone\u001b[39;00m, options: ConfigMapping \u001b[38;5;241m=\u001b[39m {}) \u001b[38;5;241m-\u001b[39m\u001b[38;5;241m>\u001b[39m Union[List[InfoDict], InfoDict]:\n\u001b[0;32m   1213\u001b[0m \u001b[38;5;250m    \u001b[39m\u001b[38;5;124;03m\"\"\"\u001b[39;00m\n\u001b[0;32m   1214\u001b[0m \u001b[38;5;124;03m    Analyses a position and returns a dictionary of\u001b[39;00m\n\u001b[0;32m   1215\u001b[0m \u001b[38;5;124;03m    :class:`information <chess.engine.InfoDict>`.\u001b[39;00m\n\u001b[1;32m   (...)\u001b[0m\n\u001b[0;32m   1237\u001b[0m \u001b[38;5;124;03m        with :func:`~chess.engine.Protocol.configure()`.\u001b[39;00m\n\u001b[0;32m   1238\u001b[0m \u001b[38;5;124;03m    \"\"\"\u001b[39;00m\n\u001b[1;32m-> 1239\u001b[0m     analysis \u001b[38;5;241m=\u001b[39m \u001b[38;5;28;01mawait\u001b[39;00m \u001b[38;5;28mself\u001b[39m\u001b[38;5;241m.\u001b[39manalysis(board, limit, multipv\u001b[38;5;241m=\u001b[39mmultipv, game\u001b[38;5;241m=\u001b[39mgame, info\u001b[38;5;241m=\u001b[39minfo, root_moves\u001b[38;5;241m=\u001b[39mroot_moves, options\u001b[38;5;241m=\u001b[39moptions)\n\u001b[0;32m   1241\u001b[0m     \u001b[38;5;28;01mwith\u001b[39;00m analysis:\n\u001b[0;32m   1242\u001b[0m         \u001b[38;5;28;01mawait\u001b[39;00m analysis\u001b[38;5;241m.\u001b[39mwait()\n",
      "File \u001b[1;32md:\\Krzysiaczek\\Documents\\studia\\engeneering\\PikeBot\\venv\\Lib\\site-packages\\chess\\engine.py:1852\u001b[0m, in \u001b[0;36mUciProtocol.analysis\u001b[1;34m(self, board, limit, multipv, game, info, root_moves, options)\u001b[0m\n\u001b[0;32m   1849\u001b[0m         LOGGER\u001b[38;5;241m.\u001b[39mdebug(\u001b[38;5;124m\"\u001b[39m\u001b[38;5;132;01m%s\u001b[39;00m\u001b[38;5;124m: Closing analysis because engine has been terminated (error: \u001b[39m\u001b[38;5;132;01m%s\u001b[39;00m\u001b[38;5;124m)\u001b[39m\u001b[38;5;124m\"\u001b[39m, engine, exc)\n\u001b[0;32m   1850\u001b[0m         \u001b[38;5;28mself\u001b[39m\u001b[38;5;241m.\u001b[39manalysis\u001b[38;5;241m.\u001b[39mset_exception(exc)\n\u001b[1;32m-> 1852\u001b[0m \u001b[38;5;28;01mreturn\u001b[39;00m \u001b[38;5;28;01mawait\u001b[39;00m \u001b[38;5;28mself\u001b[39m\u001b[38;5;241m.\u001b[39mcommunicate(UciAnalysisCommand)\n",
      "File \u001b[1;32md:\\Krzysiaczek\\Documents\\studia\\engeneering\\PikeBot\\venv\\Lib\\site-packages\\chess\\engine.py:1133\u001b[0m, in \u001b[0;36mProtocol.communicate\u001b[1;34m(self, command_factory)\u001b[0m\n\u001b[0;32m   1130\u001b[0m \u001b[38;5;28;01melif\u001b[39;00m \u001b[38;5;129;01mnot\u001b[39;00m \u001b[38;5;28mself\u001b[39m\u001b[38;5;241m.\u001b[39mcommand\u001b[38;5;241m.\u001b[39mresult\u001b[38;5;241m.\u001b[39mcancelled():\n\u001b[0;32m   1131\u001b[0m     \u001b[38;5;28mself\u001b[39m\u001b[38;5;241m.\u001b[39mcommand\u001b[38;5;241m.\u001b[39m_cancel(\u001b[38;5;28mself\u001b[39m)\n\u001b[1;32m-> 1133\u001b[0m \u001b[38;5;28;01mreturn\u001b[39;00m \u001b[38;5;28;01mawait\u001b[39;00m command\u001b[38;5;241m.\u001b[39mresult\n",
      "File \u001b[1;32md:\\Krzysiaczek\\Documents\\studia\\engeneering\\PikeBot\\venv\\Lib\\site-packages\\chess\\engine.py:1379\u001b[0m, in \u001b[0;36mBaseCommand._start\u001b[1;34m(self, engine)\u001b[0m\n\u001b[0;32m   1377\u001b[0m \u001b[38;5;28;01mtry\u001b[39;00m:\n\u001b[0;32m   1378\u001b[0m     \u001b[38;5;28mself\u001b[39m\u001b[38;5;241m.\u001b[39mcheck_initialized(engine)\n\u001b[1;32m-> 1379\u001b[0m     \u001b[38;5;28;43mself\u001b[39;49m\u001b[38;5;241;43m.\u001b[39;49m\u001b[43mstart\u001b[49m\u001b[43m(\u001b[49m\u001b[43mengine\u001b[49m\u001b[43m)\u001b[49m\n\u001b[0;32m   1380\u001b[0m \u001b[38;5;28;01mexcept\u001b[39;00m EngineError \u001b[38;5;28;01mas\u001b[39;00m err:\n\u001b[0;32m   1381\u001b[0m     \u001b[38;5;28mself\u001b[39m\u001b[38;5;241m.\u001b[39m_handle_exception(engine, err)\n",
      "File \u001b[1;32md:\\Krzysiaczek\\Documents\\studia\\engeneering\\PikeBot\\venv\\Lib\\site-packages\\chess\\engine.py:1802\u001b[0m, in \u001b[0;36mUciProtocol.analysis.<locals>.UciAnalysisCommand.start\u001b[1;34m(self, engine)\u001b[0m\n\u001b[0;32m   1800\u001b[0m     engine\u001b[38;5;241m.\u001b[39m_setoption(\u001b[38;5;124m\"\u001b[39m\u001b[38;5;124mUCI_AnalyseMode\u001b[39m\u001b[38;5;124m\"\u001b[39m, \u001b[38;5;28;01mTrue\u001b[39;00m)\n\u001b[0;32m   1801\u001b[0m \u001b[38;5;28;01mif\u001b[39;00m \u001b[38;5;124m\"\u001b[39m\u001b[38;5;124mMultiPV\u001b[39m\u001b[38;5;124m\"\u001b[39m \u001b[38;5;129;01min\u001b[39;00m engine\u001b[38;5;241m.\u001b[39moptions \u001b[38;5;129;01mor\u001b[39;00m (multipv \u001b[38;5;129;01mand\u001b[39;00m multipv \u001b[38;5;241m>\u001b[39m \u001b[38;5;241m1\u001b[39m):\n\u001b[1;32m-> 1802\u001b[0m     \u001b[43mengine\u001b[49m\u001b[38;5;241;43m.\u001b[39;49m\u001b[43m_setoption\u001b[49m\u001b[43m(\u001b[49m\u001b[38;5;124;43m\"\u001b[39;49m\u001b[38;5;124;43mMultiPV\u001b[39;49m\u001b[38;5;124;43m\"\u001b[39;49m\u001b[43m,\u001b[49m\u001b[43m \u001b[49m\u001b[38;5;241;43m1\u001b[39;49m\u001b[43m \u001b[49m\u001b[38;5;28;43;01mif\u001b[39;49;00m\u001b[43m \u001b[49m\u001b[43mmultipv\u001b[49m\u001b[43m \u001b[49m\u001b[38;5;129;43;01mis\u001b[39;49;00m\u001b[43m \u001b[49m\u001b[38;5;28;43;01mNone\u001b[39;49;00m\u001b[43m \u001b[49m\u001b[38;5;28;43;01melse\u001b[39;49;00m\u001b[43m \u001b[49m\u001b[43mmultipv\u001b[49m\u001b[43m)\u001b[49m\n\u001b[0;32m   1804\u001b[0m engine\u001b[38;5;241m.\u001b[39m_configure(options)\n\u001b[0;32m   1806\u001b[0m \u001b[38;5;28;01mif\u001b[39;00m engine\u001b[38;5;241m.\u001b[39mfirst_game \u001b[38;5;129;01mor\u001b[39;00m engine\u001b[38;5;241m.\u001b[39mgame \u001b[38;5;241m!=\u001b[39m game:\n",
      "File \u001b[1;32md:\\Krzysiaczek\\Documents\\studia\\engeneering\\PikeBot\\venv\\Lib\\site-packages\\chess\\engine.py:1555\u001b[0m, in \u001b[0;36mUciProtocol._setoption\u001b[1;34m(self, name, value)\u001b[0m\n\u001b[0;32m   1553\u001b[0m \u001b[38;5;28;01mdef\u001b[39;00m \u001b[38;5;21m_setoption\u001b[39m(\u001b[38;5;28mself\u001b[39m, name: \u001b[38;5;28mstr\u001b[39m, value: ConfigValue) \u001b[38;5;241m-\u001b[39m\u001b[38;5;241m>\u001b[39m \u001b[38;5;28;01mNone\u001b[39;00m:\n\u001b[0;32m   1554\u001b[0m     \u001b[38;5;28;01mtry\u001b[39;00m:\n\u001b[1;32m-> 1555\u001b[0m         value \u001b[38;5;241m=\u001b[39m \u001b[38;5;28;43mself\u001b[39;49m\u001b[38;5;241;43m.\u001b[39;49m\u001b[43moptions\u001b[49m\u001b[43m[\u001b[49m\u001b[43mname\u001b[49m\u001b[43m]\u001b[49m\u001b[38;5;241;43m.\u001b[39;49m\u001b[43mparse\u001b[49m\u001b[43m(\u001b[49m\u001b[43mvalue\u001b[49m\u001b[43m)\u001b[49m\n\u001b[0;32m   1556\u001b[0m     \u001b[38;5;28;01mexcept\u001b[39;00m \u001b[38;5;167;01mKeyError\u001b[39;00m:\n\u001b[0;32m   1557\u001b[0m         \u001b[38;5;28;01mraise\u001b[39;00m EngineError(\u001b[38;5;124m\"\u001b[39m\u001b[38;5;124mengine does not support option \u001b[39m\u001b[38;5;132;01m{}\u001b[39;00m\u001b[38;5;124m (available options: \u001b[39m\u001b[38;5;132;01m{}\u001b[39;00m\u001b[38;5;124m)\u001b[39m\u001b[38;5;124m\"\u001b[39m\u001b[38;5;241m.\u001b[39mformat(name, \u001b[38;5;124m\"\u001b[39m\u001b[38;5;124m, \u001b[39m\u001b[38;5;124m\"\u001b[39m\u001b[38;5;241m.\u001b[39mjoin(\u001b[38;5;28mself\u001b[39m\u001b[38;5;241m.\u001b[39moptions)))\n",
      "File \u001b[1;32md:\\Krzysiaczek\\Documents\\studia\\engeneering\\PikeBot\\venv\\Lib\\site-packages\\chess\\engine.py:274\u001b[0m, in \u001b[0;36mOption.parse\u001b[1;34m(self, value)\u001b[0m\n\u001b[0;32m    272\u001b[0m     \u001b[38;5;28;01mraise\u001b[39;00m EngineError(\u001b[38;5;124mf\u001b[39m\u001b[38;5;124m\"\u001b[39m\u001b[38;5;124mexpected integer for spin option \u001b[39m\u001b[38;5;132;01m{\u001b[39;00m\u001b[38;5;28mself\u001b[39m\u001b[38;5;241m.\u001b[39mname\u001b[38;5;132;01m!r}\u001b[39;00m\u001b[38;5;124m, got: \u001b[39m\u001b[38;5;132;01m{\u001b[39;00mvalue\u001b[38;5;132;01m!r}\u001b[39;00m\u001b[38;5;124m\"\u001b[39m)\n\u001b[0;32m    273\u001b[0m \u001b[38;5;28;01mif\u001b[39;00m \u001b[38;5;28mself\u001b[39m\u001b[38;5;241m.\u001b[39mmin \u001b[38;5;129;01mis\u001b[39;00m \u001b[38;5;129;01mnot\u001b[39;00m \u001b[38;5;28;01mNone\u001b[39;00m \u001b[38;5;129;01mand\u001b[39;00m value \u001b[38;5;241m<\u001b[39m \u001b[38;5;28mself\u001b[39m\u001b[38;5;241m.\u001b[39mmin:\n\u001b[1;32m--> 274\u001b[0m     \u001b[38;5;28;01mraise\u001b[39;00m EngineError(\u001b[38;5;124mf\u001b[39m\u001b[38;5;124m\"\u001b[39m\u001b[38;5;124mexpected value for option \u001b[39m\u001b[38;5;132;01m{\u001b[39;00m\u001b[38;5;28mself\u001b[39m\u001b[38;5;241m.\u001b[39mname\u001b[38;5;132;01m!r}\u001b[39;00m\u001b[38;5;124m to be at least \u001b[39m\u001b[38;5;132;01m{\u001b[39;00m\u001b[38;5;28mself\u001b[39m\u001b[38;5;241m.\u001b[39mmin\u001b[38;5;132;01m}\u001b[39;00m\u001b[38;5;124m, got: \u001b[39m\u001b[38;5;132;01m{\u001b[39;00mvalue\u001b[38;5;132;01m}\u001b[39;00m\u001b[38;5;124m\"\u001b[39m)\n\u001b[0;32m    275\u001b[0m \u001b[38;5;28;01mif\u001b[39;00m \u001b[38;5;28mself\u001b[39m\u001b[38;5;241m.\u001b[39mmax \u001b[38;5;129;01mis\u001b[39;00m \u001b[38;5;129;01mnot\u001b[39;00m \u001b[38;5;28;01mNone\u001b[39;00m \u001b[38;5;129;01mand\u001b[39;00m \u001b[38;5;28mself\u001b[39m\u001b[38;5;241m.\u001b[39mmax \u001b[38;5;241m<\u001b[39m value:\n\u001b[0;32m    276\u001b[0m     \u001b[38;5;28;01mraise\u001b[39;00m EngineError(\u001b[38;5;124mf\u001b[39m\u001b[38;5;124m\"\u001b[39m\u001b[38;5;124mexpected value for option \u001b[39m\u001b[38;5;132;01m{\u001b[39;00m\u001b[38;5;28mself\u001b[39m\u001b[38;5;241m.\u001b[39mname\u001b[38;5;132;01m!r}\u001b[39;00m\u001b[38;5;124m to be at most \u001b[39m\u001b[38;5;132;01m{\u001b[39;00m\u001b[38;5;28mself\u001b[39m\u001b[38;5;241m.\u001b[39mmax\u001b[38;5;132;01m}\u001b[39;00m\u001b[38;5;124m, got: \u001b[39m\u001b[38;5;132;01m{\u001b[39;00mvalue\u001b[38;5;132;01m}\u001b[39;00m\u001b[38;5;124m\"\u001b[39m)\n",
      "\u001b[1;31mEngineError\u001b[0m: expected value for option 'MultiPV' to be at least 1, got: 0"
     ]
    }
   ],
   "source": [
    "# evaluate_engines(engine1, engine3, boards_datasets, maia_elo, 800)"
   ]
  }
 ],
 "metadata": {
  "kernelspec": {
   "display_name": "venv",
   "language": "python",
   "name": "python3"
  },
  "language_info": {
   "codemirror_mode": {
    "name": "ipython",
    "version": 3
   },
   "file_extension": ".py",
   "mimetype": "text/x-python",
   "name": "python",
   "nbconvert_exporter": "python",
   "pygments_lexer": "ipython3",
   "version": "3.11.6"
  }
 },
 "nbformat": 4,
 "nbformat_minor": 2
}
