{
 "cells": [
  {
   "cell_type": "code",
   "execution_count": 1,
   "metadata": {},
   "outputs": [],
   "source": [
    "import chess\n",
    "import chess.engine\n",
    "import os\n",
    "import sys\n",
    "import subprocess\n",
    "import matplotlib.pyplot as plt\n",
    "import numpy as np\n",
    "import chess.pgn\n",
    "\n",
    "current_dir = os.getcwd()\n",
    "parent_dir = os.path.abspath(os.path.join(current_dir, '..'))\n",
    "sys.path.append(parent_dir)\n",
    "\n",
    "import utils.chess_utils as chess_utils\n",
    "from utils.pikeBot_chess_utils import Pikebot, PikeBotModelWrapper"
   ]
  },
  {
   "cell_type": "code",
   "execution_count": 3,
   "metadata": {},
   "outputs": [],
   "source": [
    "def get_maia_path(maia_elo):\n",
    "    if maia_elo == 1100:\n",
    "        return \"D:/Program Files/MaiaChess/Maia1/lc0.exe\"\n",
    "    if maia_elo == 1500:\n",
    "        return \"D:/Program Files/MaiaChess/Maia5/lc0.exe\"\n",
    "    if maia_elo == 1900:\n",
    "        return \"D:/Program Files/MaiaChess/Maia9/lc0.exe\"\n",
    "    raise ValueError(\"Maia elo must be from (1100, 1500, 1900)\")\n"
   ]
  },
  {
   "cell_type": "code",
   "execution_count": 4,
   "metadata": {},
   "outputs": [],
   "source": [
    "maia_elo = 1100\n",
    "maia_path = get_maia_path(maia_elo)\n",
    "stockfish_path = \"D:/Program Files/Stockfish/stockfish/stockfish-windows-x86-64-avx2.exe\"\n",
    "model_path = \"../Models/PikeBot_Models/PikeBot.pth\"\n",
    "preprocessing_parameters_path = \"../model_loading_data/preprocessing_parameters.json\"\n",
    "time_limit = 0.01"
   ]
  },
  {
   "cell_type": "code",
   "execution_count": 5,
   "metadata": {},
   "outputs": [],
   "source": [
    "class MaiaChess(chess_utils.Player):\n",
    "    def __init__(self, maia_path: str) -> None:\n",
    "        super().__init__()\n",
    "        #redirect error stderr not to display messages from the engine\n",
    "        self.engine = chess.engine.SimpleEngine.popen_uci(maia_path, stderr=subprocess.DEVNULL)\n",
    "\n",
    "    def get_best_move(self, board):\n",
    "        result = self.engine.play(board, chess.engine.Limit(nodes=1))\n",
    "        move = result.move\n",
    "        return move"
   ]
  },
  {
   "cell_type": "code",
   "execution_count": 98,
   "metadata": {},
   "outputs": [],
   "source": [
    "maiaChess = MaiaChess(maia_path)"
   ]
  },
  {
   "cell_type": "code",
   "execution_count": 7,
   "metadata": {},
   "outputs": [],
   "source": [
    "model = PikeBotModelWrapper(model_path, preprocessing_parameters_path)\n",
    "pikeBot = Pikebot( model=model, \n",
    "                        aggregate=chess_utils.mean_aggr,\n",
    "                        stockfish_path=stockfish_path,\n",
    "                        color=chess.WHITE,\n",
    "                        opponents_elo = maia_elo\n",
    "                        )\n",
    "            "
   ]
  },
  {
   "cell_type": "code",
   "execution_count": 91,
   "metadata": {},
   "outputs": [],
   "source": [
    "pgn = open(\"silversuite.pgn\")\n",
    "boards = list()\n",
    "\n",
    "while True:\n",
    "    board = chess.Board()\n",
    "    game = chess.pgn.read_game(pgn)\n",
    "    if game is None:\n",
    "        break\n",
    "    for move in game.mainline_moves():\n",
    "        board.push(move)\n",
    "    boards.append(board)\n"
   ]
  },
  {
   "cell_type": "code",
   "execution_count": 97,
   "metadata": {},
   "outputs": [],
   "source": [
    "def compare_engines(engine1:chess_utils.Player, engine2:chess_utils.Player, boards:list):\n",
    "    engine1.color = chess.WHITE\n",
    "    engine2.color = chess.BLACK\n",
    "    results = []\n",
    "\n",
    "    for board in boards:\n",
    "        result = chess_utils.play_chess(engine1, engine2, mute=True, board=board.copy())\n",
    "        results.append(result)\n",
    "    return results"
   ]
  },
  {
   "cell_type": "code",
   "execution_count": 102,
   "metadata": {},
   "outputs": [],
   "source": [
    "def plot_results(results:list, name1:str, name2:str):\n",
    "        fig, ax = plt.subplots()\n",
    "        ax.bar(['white', 'draw', 'black'], \n",
    "                np.histogram(results, bins=3)[0][::-1],\n",
    "                color=['white', 'gray', 'black'])\n",
    "        ax.set_facecolor('lightblue') \n",
    "        ax.set_title(f'{name1} vs {name2}')\n",
    "        plt.show()"
   ]
  },
  {
   "cell_type": "code",
   "execution_count": 108,
   "metadata": {},
   "outputs": [
    {
     "data": {
      "image/png": "[encoded data removed]",
      "text/plain": [
       "<Figure size 640x480 with 1 Axes>"
      ]
     },
     "metadata": {},
     "output_type": "display_data"
    }
   ],
   "source": [
    "results = compare_engines(maiaChess, pikeBot, boards)\n",
    "plot_results(results, 'MaiaChess', 'PikeBot')"
   ]
  },
  {
   "cell_type": "code",
   "execution_count": 109,
   "metadata": {},
   "outputs": [
    {
     "data": {
      "image/png": "[encoded data removed]",
      "text/plain": [
       "<Figure size 640x480 with 1 Axes>"
      ]
     },
     "metadata": {},
     "output_type": "display_data"
    }
   ],
   "source": [
    "results = compare_engines(pikeBot, maiaChess, boards)\n",
    "plot_results(results, 'PikeBot', 'MaiaChess')"
   ]
  }
 ],
 "metadata": {
  "kernelspec": {
   "display_name": "venv",
   "language": "python",
   "name": "python3"
  },
  "language_info": {
   "codemirror_mode": {
    "name": "ipython",
    "version": 3
   },
   "file_extension": ".py",
   "mimetype": "text/x-python",
   "name": "python",
   "nbconvert_exporter": "python",
   "pygments_lexer": "ipython3",
   "version": "3.11.6"
  }
 },
 "nbformat": 4,
 "nbformat_minor": 2
}
