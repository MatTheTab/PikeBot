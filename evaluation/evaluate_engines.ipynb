{
 "cells": [
  {
   "cell_type": "code",
   "execution_count": 1,
   "metadata": {},
   "outputs": [],
   "source": [
    "import chess\n",
    "import chess.engine\n",
    "import os\n",
    "import sys\n",
    "import chess.pgn\n",
    "import subprocess\n",
    "\n",
    "current_dir = os.getcwd()\n",
    "parent_dir = os.path.abspath(os.path.join(current_dir, '..'))\n",
    "sys.path.append(parent_dir)\n",
    "\n",
    "import utils.chess_utils as chess_utils\n",
    "from utils.pikeBot_chess_utils import *\n",
    "\n",
    "from evaluation_utils import *"
   ]
  },
  {
   "cell_type": "code",
   "execution_count": 2,
   "metadata": {},
   "outputs": [],
   "source": [
    "def get_maia_path(maia_elo):\n",
    "    if maia_elo == 1100:\n",
    "        return \"D:/Program Files/MaiaChess/Maia1/lc0.exe\"\n",
    "    if maia_elo == 1500:\n",
    "        return \"D:/Program Files/MaiaChess/Maia5/lc0.exe\"\n",
    "    if maia_elo == 1900:\n",
    "        return \"D:/Program Files/MaiaChess/Maia9/lc0.exe\"\n",
    "    raise ValueError(\"Maia elo must be from (1100, 1500, 1900)\")\n"
   ]
  },
  {
   "cell_type": "code",
   "execution_count": 3,
   "metadata": {},
   "outputs": [],
   "source": [
    "class MaiaChess(chess_utils.Player):\n",
    "    def __init__(self, maia_path: str) -> None:\n",
    "        super().__init__()\n",
    "        #redirect error stderr not to display messages from the engine\n",
    "        self.engine = chess.engine.SimpleEngine.popen_uci(maia_path, stderr=subprocess.DEVNULL)\n",
    "\n",
    "    def get_best_move(self, board):\n",
    "        result = self.engine.play(board, chess.engine.Limit(nodes=1))\n",
    "        move = result.move\n",
    "        return move"
   ]
  },
  {
   "cell_type": "markdown",
   "metadata": {},
   "source": [
    "### Parameters setup\n",
    "set path parameters to your local resources and evaluation parameters depending on your evaluation setup"
   ]
  },
  {
   "cell_type": "code",
   "execution_count": null,
   "metadata": {},
   "outputs": [],
   "source": [
    "#path parameters\n",
    "stockfish_path = \"D:/Program Files/Stockfish/stockfish/stockfish-windows-x86-64-avx2.exe\"\n",
    "model_path = \"../Models/PikeBot_Models/500k/PikeBot500k.pth\"\n",
    "preprocessing_parameters_path = \"../model_loading_data/preprocessing_parameters.json\"\n",
    "\n",
    "#evaluation parameters\n",
    "time_limit = 0.01\n",
    "evaluation_dataset_paths = [\n",
    "    'silversuite.pgn',\n",
    "    ]"
   ]
  },
  {
   "cell_type": "markdown",
   "metadata": {},
   "source": [
    "### Engine definition\n",
    "By default engine1 is a maia chess engine simulating human behavior but you can modify it if you want other engine comparison. Both engines must be of a child class of chess_utils.Player."
   ]
  },
  {
   "cell_type": "code",
   "execution_count": 5,
   "metadata": {},
   "outputs": [],
   "source": [
    "maia_elo = 1100\n",
    "maia_path = get_maia_path(maia_elo)\n",
    "engine1 = MaiaChess(maia_path)"
   ]
  },
  {
   "cell_type": "code",
   "execution_count": null,
   "metadata": {},
   "outputs": [],
   "source": [
    "from Pikebot.pikeBot500k import PikeBotModelWrapper500k, PikeBot500k\n",
    "\n",
    "model = PikeBotModelWrapper500k(model_path, preprocessing_parameters_path)\n",
    "engine2 = PikeBot500k( model=model, \n",
    "                        aggregate=chess_utils.mean_aggr,\n",
    "                        stockfish_path=stockfish_path,\n",
    "                        color=chess.WHITE,\n",
    "                        opponents_elo = maia_elo\n",
    "                        )\n",
    "            "
   ]
  },
  {
   "cell_type": "markdown",
   "metadata": {},
   "source": [
    "### Dataset loading"
   ]
  },
  {
   "cell_type": "code",
   "execution_count": 12,
   "metadata": {},
   "outputs": [],
   "source": [
    "boards_datasets = dict()\n",
    "for path in evaluation_dataset_paths:\n",
    "    pgn = open(path)\n",
    "    boards_dataset = list()\n",
    "\n",
    "    while True:\n",
    "        board = chess.Board()\n",
    "        move_history = list()\n",
    "        game = chess.pgn.read_game(pgn)\n",
    "        if game is None:\n",
    "            break\n",
    "        for move in game.mainline_moves():\n",
    "            move_history.append(board.copy())\n",
    "            board.push(move)\n",
    "        boards_dataset.append((board, move_history))\n",
    "\n",
    "    boards_datasets[path] = boards_dataset\n"
   ]
  },
  {
   "cell_type": "markdown",
   "metadata": {},
   "source": [
    "### Evaluation code"
   ]
  },
  {
   "cell_type": "code",
   "execution_count": null,
   "metadata": {},
   "outputs": [],
   "source": [
    "for path, boards_dataset in boards_datasets.items():\n",
    "    result1, boards1 = compare_engines(engine1, engine2, boards_dataset)\n",
    "    result2, boards2 = compare_engines(engine2, engine1, boards_dataset)\n",
    "\n",
    "    name1, name2 = type(engine1).__name__, type(engine2).__name__\n",
    "    \n",
    "    #define saving directory\n",
    "    path_to_save = path.replace('games/', '')\n",
    "    path_to_save = path_to_save.replace('.pgn', '')\n",
    "    timestamp = time.asctime().replace(' ', '_')\n",
    "    timestamp = timestamp.replace(':', '-')\n",
    "\n",
    "    dir_path = f'{name1}_{name2}_{path_to_save}_{timestamp}'\n",
    "    os.makedirs(f'results/{dir_path}', exist_ok=True) \n",
    "    os.makedirs(f'results/{dir_path}/games', exist_ok=True) \n",
    "    os.makedirs(f'results/{dir_path}/statistics', exist_ok=True) \n",
    "    os.makedirs(f'results/{dir_path}/plots', exist_ok=True) \n",
    "\n",
    "    #get move evaluation and save games\n",
    "    evaluation1 = process_games(boards1, name1, name2, dir_path)\n",
    "    evaluation2 = process_games(boards2, name2, name1, dir_path)\n",
    "\n",
    "    #plot results and save plots\n",
    "    process_results(result1, name1, name2, dir_path)\n",
    "    process_results(result2, name2, name1, dir_path)\n",
    "\n",
    "    process_evaluation(evaluation1, name1, name2, dir_path)\n",
    "    process_evaluation(evaluation2, name2, name1, dir_path)\n",
    "\n",
    "    process_length(boards1, name1, name2, dir_path) \n",
    "    process_length(boards2, name2, name1, dir_path) "
   ]
  }
 ],
 "metadata": {
  "kernelspec": {
   "display_name": "venv",
   "language": "python",
   "name": "python3"
  },
  "language_info": {
   "codemirror_mode": {
    "name": "ipython",
    "version": 3
   },
   "file_extension": ".py",
   "mimetype": "text/x-python",
   "name": "python",
   "nbconvert_exporter": "python",
   "pygments_lexer": "ipython3",
   "version": "3.11.6"
  }
 },
 "nbformat": 4,
 "nbformat_minor": 2
}
