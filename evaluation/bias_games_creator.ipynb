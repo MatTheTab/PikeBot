{
 "cells": [
  {
   "cell_type": "code",
   "execution_count": 42,
   "metadata": {},
   "outputs": [],
   "source": [
    "import chess\n",
    "import chess.engine\n",
    "import chess.pgn"
   ]
  },
  {
   "cell_type": "code",
   "execution_count": 43,
   "metadata": {},
   "outputs": [],
   "source": [
    "stockfish_path = \"D:/Program Files/Stockfish/stockfish/stockfish-windows-x86-64-avx2.exe\""
   ]
  },
  {
   "cell_type": "code",
   "execution_count": 44,
   "metadata": {},
   "outputs": [],
   "source": [
    "engine = chess.engine.SimpleEngine.popen_uci(stockfish_path)\n",
    "\n",
    "def get_score(board: chess.Board):\n",
    "    result = engine.analyse(board,  chess.engine.Limit(depth=8))\n",
    "    value = result['score'].pov(color=chess.WHITE).score(mate_score=900) / 100\n",
    "    return value"
   ]
  },
  {
   "cell_type": "code",
   "execution_count": 45,
   "metadata": {},
   "outputs": [],
   "source": [
    "def get_top_n(n: int, board: chess.Board, reverse=False, offset=None):\n",
    "    move_evaluations = []  \n",
    "    for move in board.legal_moves:\n",
    "        board.push(move)\n",
    "        score = get_score(board)\n",
    "        move_evaluations.append((move, score))\n",
    "        board.pop()\n",
    "    if offset:\n",
    "        move_evaluations = [(e[0], abs(e[1]-offset)) for e in move_evaluations]\n",
    "    move_evaluations.sort(key=lambda x: x[1])\n",
    "    if reverse:\n",
    "        return [e[0] for e in move_evaluations[:n]]\n",
    "    return [e[0] for e in move_evaluations[-n:]]"
   ]
  },
  {
   "cell_type": "code",
   "execution_count": 46,
   "metadata": {},
   "outputs": [],
   "source": [
    "def create_games(n, board: chess.Board, depth, games: set, moves: list, reversed=False):\n",
    "    if depth == 0:\n",
    "        if len(games) >= 50:\n",
    "            return\n",
    "        if board.fen() not in games:\n",
    "            games[board.fen()] = moves\n",
    "        return\n",
    "    top_moves = get_top_n(n, board, reversed)\n",
    "    for move in top_moves:\n",
    "        board_copy = board.copy()\n",
    "        board_copy.push(move)\n",
    "        moves_copy = moves.copy()\n",
    "        moves_copy.append(move)\n",
    "        create_games(n, board_copy, depth-1, games, moves_copy, not reversed)\n"
   ]
  },
  {
   "cell_type": "code",
   "execution_count": 39,
   "metadata": {},
   "outputs": [],
   "source": [
    "def save_offset_games(\n",
    "    games: list,\n",
    "    offset = -2,\n",
    "    additional_moves = 4,\n",
    "    additional_biased = 2,\n",
    "):\n",
    "\n",
    "    with open(f'games/bias-openings_{offset}.pgn', 'w') as pgn_file:\n",
    "            for game_moves in games:\n",
    "                board = chess.Board()\n",
    "                game = chess.pgn.Game()\n",
    "                node = game\n",
    "                \n",
    "                for move in game_moves:\n",
    "                    board.push(move)\n",
    "                    node = node.add_variation(move)\n",
    "\n",
    "                reverse = False\n",
    "                for _ in range(additional_moves):\n",
    "                    move = get_top_n(1, board, reverse=reverse)[0]\n",
    "                    board.push(move)\n",
    "                    node = node.add_variation(move)\n",
    "                    reverse = not reverse\n",
    "\n",
    "                for _ in range(additional_biased):\n",
    "                    move = get_top_n(1, board, reverse=True, offset=offset)[0]\n",
    "                    board.push(move)\n",
    "                    node = node.add_variation(move)\n",
    "\n",
    "                game.headers[\"Event\"] = \"Example Event\"\n",
    "                game.headers[\"White\"] = \"Player 1\"\n",
    "                game.headers[\"Black\"] = \"Player 2\"\n",
    "                game.headers[\"Result\"] = board.result()\n",
    "\n",
    "                pgn_file.write(str(game) + \"\\n\\n\")"
   ]
  },
  {
   "cell_type": "code",
   "execution_count": 36,
   "metadata": {},
   "outputs": [],
   "source": [
    "board = chess.Board()\n",
    "game = chess.pgn.Game()\n",
    "moves = list()\n",
    "\n",
    "games = dict()\n",
    "create_games(3, board, 4, games, moves)\n"
   ]
  },
  {
   "cell_type": "code",
   "execution_count": 41,
   "metadata": {},
   "outputs": [
    {
     "name": "stdout",
     "output_type": "stream",
     "text": [
      "created offset -2\n",
      "created offset -3\n",
      "created offset -2\n",
      "created offset -3\n",
      "created offset -4\n",
      "created offset -4\n"
     ]
    }
   ],
   "source": [
    "save_offset_games(games.values(), offset=-2)\n",
    "print('created offset -2')\n",
    "save_offset_games(games.values(), offset=-3)\n",
    "print('created offset -3')\n",
    "save_offset_games(games.values(), offset=2)\n",
    "print('created offset -2')\n",
    "save_offset_games(games.values(), offset=3)\n",
    "print('created offset -3')\n",
    "save_offset_games(games.values(), offset=-4)\n",
    "print('created offset -4')\n",
    "save_offset_games(games.values(), offset=4)\n",
    "print('created offset -4')"
   ]
  }
 ],
 "metadata": {
  "kernelspec": {
   "display_name": "venv",
   "language": "python",
   "name": "python3"
  },
  "language_info": {
   "codemirror_mode": {
    "name": "ipython",
    "version": 3
   },
   "file_extension": ".py",
   "mimetype": "text/x-python",
   "name": "python",
   "nbconvert_exporter": "python",
   "pygments_lexer": "ipython3",
   "version": "3.11.6"
  }
 },
 "nbformat": 4,
 "nbformat_minor": 2
}
