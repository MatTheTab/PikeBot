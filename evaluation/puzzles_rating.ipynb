{
 "cells": [
  {
   "cell_type": "code",
   "execution_count": 91,
   "metadata": {},
   "outputs": [],
   "source": [
    "import os\n",
    "import sys\n",
    "current_dir = os.getcwd()\n",
    "parent_dir = os.path.abspath(os.path.join(current_dir, '..'))\n",
    "sys.path.append(parent_dir)\n",
    "import chess\n",
    "import pandas as pd\n",
    "import utils.chess_utils as chess_utils\n",
    "import numpy as np\n",
    "import matplotlib.pyplot as plt\n",
    "from utils.pikeBot_chess_utils import Pikebot, PikeBotModelWrapper\n",
    "from evaluation_utils import set_engine_history"
   ]
  },
  {
   "cell_type": "code",
   "execution_count": 2,
   "metadata": {},
   "outputs": [],
   "source": [
    "import zstandard as zstd\n",
    "\n",
    "input_file = 'data/lichess_db_puzzle.csv.zst'\n",
    "output_file = 'data/lichess_db_puzzle.csv'"
   ]
  },
  {
   "cell_type": "code",
   "execution_count": null,
   "metadata": {},
   "outputs": [],
   "source": [
    "with open(input_file, 'rb') as compressed_file:\n",
    "    with open(output_file, 'wb') as decompressed_file:\n",
    "        dctx = zstd.ZstdDecompressor()\n",
    "        dctx.copy_stream(compressed_file, decompressed_file)\n",
    "\n",
    "print(\"File decompressed successfully!\")"
   ]
  },
  {
   "cell_type": "code",
   "execution_count": 86,
   "metadata": {},
   "outputs": [
    {
     "data": {
      "text/html": [
       "<div>\n",
       "<style scoped>\n",
       "    .dataframe tbody tr th:only-of-type {\n",
       "        vertical-align: middle;\n",
       "    }\n",
       "\n",
       "    .dataframe tbody tr th {\n",
       "        vertical-align: top;\n",
       "    }\n",
       "\n",
       "    .dataframe thead th {\n",
       "        text-align: right;\n",
       "    }\n",
       "</style>\n",
       "<table border=\"1\" class=\"dataframe\">\n",
       "  <thead>\n",
       "    <tr style=\"text-align: right;\">\n",
       "      <th></th>\n",
       "      <th>PuzzleId</th>\n",
       "      <th>FEN</th>\n",
       "      <th>Moves</th>\n",
       "      <th>Rating</th>\n",
       "      <th>RatingDeviation</th>\n",
       "      <th>Popularity</th>\n",
       "      <th>NbPlays</th>\n",
       "      <th>Themes</th>\n",
       "      <th>GameUrl</th>\n",
       "      <th>OpeningTags</th>\n",
       "    </tr>\n",
       "  </thead>\n",
       "  <tbody>\n",
       "    <tr>\n",
       "      <th>0</th>\n",
       "      <td>00008</td>\n",
       "      <td>r6k/pp2r2p/4Rp1Q/3p4/8/1N1P2R1/PqP2bPP/7K b - ...</td>\n",
       "      <td>f2g3 e6e7 b2b1 b3c1 b1c1 h6c1</td>\n",
       "      <td>1996</td>\n",
       "      <td>75</td>\n",
       "      <td>95</td>\n",
       "      <td>6860</td>\n",
       "      <td>crushing hangingPiece long middlegame</td>\n",
       "      <td>https://lichess.org/787zsVup/black#48</td>\n",
       "      <td>NaN</td>\n",
       "    </tr>\n",
       "    <tr>\n",
       "      <th>1</th>\n",
       "      <td>0000D</td>\n",
       "      <td>5rk1/1p3ppp/pq3b2/8/8/1P1Q1N2/P4PPP/3R2K1 w - ...</td>\n",
       "      <td>d3d6 f8d8 d6d8 f6d8</td>\n",
       "      <td>1574</td>\n",
       "      <td>73</td>\n",
       "      <td>96</td>\n",
       "      <td>28960</td>\n",
       "      <td>advantage endgame short</td>\n",
       "      <td>https://lichess.org/F8M8OS71#53</td>\n",
       "      <td>NaN</td>\n",
       "    </tr>\n",
       "  </tbody>\n",
       "</table>\n",
       "</div>"
      ],
      "text/plain": [
       "  PuzzleId                                                FEN  \\\n",
       "0    00008  r6k/pp2r2p/4Rp1Q/3p4/8/1N1P2R1/PqP2bPP/7K b - ...   \n",
       "1    0000D  5rk1/1p3ppp/pq3b2/8/8/1P1Q1N2/P4PPP/3R2K1 w - ...   \n",
       "\n",
       "                           Moves  Rating  RatingDeviation  Popularity  \\\n",
       "0  f2g3 e6e7 b2b1 b3c1 b1c1 h6c1    1996               75          95   \n",
       "1            d3d6 f8d8 d6d8 f6d8    1574               73          96   \n",
       "\n",
       "   NbPlays                                 Themes  \\\n",
       "0     6860  crushing hangingPiece long middlegame   \n",
       "1    28960                advantage endgame short   \n",
       "\n",
       "                                 GameUrl OpeningTags  \n",
       "0  https://lichess.org/787zsVup/black#48         NaN  \n",
       "1        https://lichess.org/F8M8OS71#53         NaN  "
      ]
     },
     "execution_count": 86,
     "metadata": {},
     "output_type": "execute_result"
    }
   ],
   "source": [
    "df = pd.read_csv(output_file)\n",
    "df = df[:1000]\n",
    "df.head(2)"
   ]
  },
  {
   "cell_type": "code",
   "execution_count": 87,
   "metadata": {},
   "outputs": [
    {
     "data": {
      "text/html": [
       "<div>\n",
       "<style scoped>\n",
       "    .dataframe tbody tr th:only-of-type {\n",
       "        vertical-align: middle;\n",
       "    }\n",
       "\n",
       "    .dataframe tbody tr th {\n",
       "        vertical-align: top;\n",
       "    }\n",
       "\n",
       "    .dataframe thead th {\n",
       "        text-align: right;\n",
       "    }\n",
       "</style>\n",
       "<table border=\"1\" class=\"dataframe\">\n",
       "  <thead>\n",
       "    <tr style=\"text-align: right;\">\n",
       "      <th></th>\n",
       "      <th>PuzzleId</th>\n",
       "      <th>FEN</th>\n",
       "      <th>Moves</th>\n",
       "      <th>Rating</th>\n",
       "      <th>RatingDeviation</th>\n",
       "      <th>Popularity</th>\n",
       "      <th>NbPlays</th>\n",
       "      <th>Themes</th>\n",
       "      <th>GameUrl</th>\n",
       "      <th>OpeningTags</th>\n",
       "      <th>Board</th>\n",
       "    </tr>\n",
       "  </thead>\n",
       "  <tbody>\n",
       "    <tr>\n",
       "      <th>0</th>\n",
       "      <td>00008</td>\n",
       "      <td>r6k/pp2r2p/4Rp1Q/3p4/8/1N1P2R1/PqP2bPP/7K b - ...</td>\n",
       "      <td>f2g3 e6e7 b2b1 b3c1 b1c1 h6c1</td>\n",
       "      <td>1996</td>\n",
       "      <td>75</td>\n",
       "      <td>95</td>\n",
       "      <td>6860</td>\n",
       "      <td>crushing hangingPiece long middlegame</td>\n",
       "      <td>https://lichess.org/787zsVup/black#48</td>\n",
       "      <td>NaN</td>\n",
       "      <td>r . . . . . . k\\np p . . r . . p\\n. . . . R p ...</td>\n",
       "    </tr>\n",
       "    <tr>\n",
       "      <th>1</th>\n",
       "      <td>0000D</td>\n",
       "      <td>5rk1/1p3ppp/pq3b2/8/8/1P1Q1N2/P4PPP/3R2K1 w - ...</td>\n",
       "      <td>d3d6 f8d8 d6d8 f6d8</td>\n",
       "      <td>1574</td>\n",
       "      <td>73</td>\n",
       "      <td>96</td>\n",
       "      <td>28960</td>\n",
       "      <td>advantage endgame short</td>\n",
       "      <td>https://lichess.org/F8M8OS71#53</td>\n",
       "      <td>NaN</td>\n",
       "      <td>. . . . . r k .\\n. p . . . p p p\\np q . . . b ...</td>\n",
       "    </tr>\n",
       "  </tbody>\n",
       "</table>\n",
       "</div>"
      ],
      "text/plain": [
       "  PuzzleId                                                FEN  \\\n",
       "0    00008  r6k/pp2r2p/4Rp1Q/3p4/8/1N1P2R1/PqP2bPP/7K b - ...   \n",
       "1    0000D  5rk1/1p3ppp/pq3b2/8/8/1P1Q1N2/P4PPP/3R2K1 w - ...   \n",
       "\n",
       "                           Moves  Rating  RatingDeviation  Popularity  \\\n",
       "0  f2g3 e6e7 b2b1 b3c1 b1c1 h6c1    1996               75          95   \n",
       "1            d3d6 f8d8 d6d8 f6d8    1574               73          96   \n",
       "\n",
       "   NbPlays                                 Themes  \\\n",
       "0     6860  crushing hangingPiece long middlegame   \n",
       "1    28960                advantage endgame short   \n",
       "\n",
       "                                 GameUrl OpeningTags  \\\n",
       "0  https://lichess.org/787zsVup/black#48         NaN   \n",
       "1        https://lichess.org/F8M8OS71#53         NaN   \n",
       "\n",
       "                                               Board  \n",
       "0  r . . . . . . k\\np p . . r . . p\\n. . . . R p ...  \n",
       "1  . . . . . r k .\\n. p . . . p p p\\np q . . . b ...  "
      ]
     },
     "execution_count": 87,
     "metadata": {},
     "output_type": "execute_result"
    }
   ],
   "source": [
    "df[\"Board\"] = df[\"FEN\"].apply(chess.Board)\n",
    "df.head(2)"
   ]
  },
  {
   "cell_type": "code",
   "execution_count": 6,
   "metadata": {},
   "outputs": [],
   "source": [
    "stockfish_path = \"D:/Program Files/Stockfish/stockfish/stockfish-windows-x86-64-avx2.exe\"\n",
    "model_path = \"../Models/PikeBot_Models/small_500k/PikeBotSmall500k.pth\"\n",
    "preprocessing_parameters_path = \"../model_loading_data/preprocessing_parameters.json\"\n",
    "\n",
    "\n",
    "model = PikeBotModelWrapper(model_path, preprocessing_parameters_path)\n",
    "engine = Pikebot( model=model, \n",
    "                        aggregate=chess_utils.mean_aggr,\n",
    "                        stockfish_path=stockfish_path,\n",
    "                        color=chess.WHITE,\n",
    "                        opponents_elo = 800\n",
    "                        )"
   ]
  },
  {
   "cell_type": "code",
   "execution_count": 88,
   "metadata": {},
   "outputs": [],
   "source": [
    "\n",
    "def test_games(index, color):    \n",
    "    games = df[index]\n",
    "    engine.color = color\n",
    "    for elo in [800, 1100, 1400, 1700, 2000, 2300, 2600]:\n",
    "        engine.opponents_elo = elo\n",
    "        predictions = list()\n",
    "        for game in games.itertuples():\n",
    "            game_predictions = list()\n",
    "            board: chess.Board = game.Board.copy()\n",
    "            board_history = [board]\n",
    "            set_engine_history(engine, board_history)  \n",
    "            for i, move in enumerate(game.Moves.split()):\n",
    "                if i % 2 == 1:\n",
    "                    encoded_states = list()\n",
    "                    legal_moves = list(board.legal_moves)\n",
    "                    for next_move in legal_moves:\n",
    "                        board.push(next_move)\n",
    "                        score = engine.get_board_score(board)\n",
    "                        engine.move_history.append(board.copy())\n",
    "                        engine.evaluation_history.append(score)\n",
    "\n",
    "                        encoded_state = model.encode(engine.move_history, engine.evaluation_history, engine.get_additional_attributes())\n",
    "                        encoded_states.append(encoded_state)\n",
    "\n",
    "                        engine.evaluation_history.pop()\n",
    "                        engine.move_history.pop()\n",
    "                        board.pop()\n",
    "                    choice_probs = engine.model.predict_batch(encoded_states).reshape(-1)\n",
    "                    legal_moves_uci = [move.uci() for move in legal_moves]\n",
    "                    move_index = legal_moves_uci.index(move)\n",
    "                    probability_order = np.argsort(choice_probs)\n",
    "                    move_position = np.where(probability_order==move_index)\n",
    "\n",
    "                    game_predictions.append(move_position)\n",
    "\n",
    "                board.push_uci(move)\n",
    "                score = engine.get_board_score(board)\n",
    "                engine.move_history.append(board.copy())\n",
    "                engine.evaluation_history.append(score)\n",
    "            predictions.append(np.median(game_predictions))\n",
    "        if str(elo) not in df.columns:\n",
    "            df[str(elo)] = None\n",
    "        df.loc[index, str(elo)] = predictions\n",
    "\n",
    "white_index = df.Board.apply(lambda x: x.turn) \n",
    "black_index = df.Board.apply(lambda x: not x.turn) \n",
    "\n",
    "test_games(white_index, chess.BLACK)\n",
    "test_games(black_index, chess.WHITE)\n",
    "\n"
   ]
  },
  {
   "cell_type": "code",
   "execution_count": 90,
   "metadata": {},
   "outputs": [],
   "source": [
    "df[[\"PuzzleId\", \"Rating\", \"800\", \"1100\", \"1400\", \"1700\", \"2000\", \"2300\"]].to_csv(\"results/puzzle_prediction.csv\", index=False)"
   ]
  },
  {
   "cell_type": "code",
   "execution_count": 107,
   "metadata": {},
   "outputs": [
    {
     "data": {
      "text/plain": [
       "[<matplotlib.lines.Line2D at 0x22e7c0c2b50>]"
      ]
     },
     "execution_count": 107,
     "metadata": {},
     "output_type": "execute_result"
    },
    {
     "data": {
      "image/png": "[encoded data removed]",
      "text/plain": [
       "<Figure size 640x480 with 1 Axes>"
      ]
     },
     "metadata": {},
     "output_type": "display_data"
    }
   ],
   "source": [
    "prediction_scores = df[[\"800\", \"1100\", \"1400\", \"1700\", \"2000\", \"2300\"]].to_numpy()\n",
    "plt.plot(np.average(prediction_scores, axis=0))"
   ]
  },
  {
   "cell_type": "code",
   "execution_count": 115,
   "metadata": {},
   "outputs": [
    {
     "data": {
      "image/png": "[encoded data removed]",
      "text/plain": [
       "<Figure size 640x480 with 1 Axes>"
      ]
     },
     "metadata": {},
     "output_type": "display_data"
    }
   ],
   "source": [
    "for i in range(5):\n",
    "    plt.plot(np.sum(prediction_scores <= i, axis=0))"
   ]
  },
  {
   "cell_type": "code",
   "execution_count": 130,
   "metadata": {},
   "outputs": [
    {
     "name": "stdout",
     "output_type": "stream",
     "text": [
      "Pearson correlation coefficient: -0.0098167264685705\n",
      "P-value: 0.44709903860966527\n"
     ]
    }
   ],
   "source": [
    "from scipy.stats import pearsonr\n",
    "\n",
    "flatten_scores = prediction_scores.reshape(-1).astype(np.int32)\n",
    "\n",
    "correlation, p_value = pearsonr(flatten_scores, [800, 1100, 1400, 1700, 2000, 2300]*1000)\n",
    "\n",
    "print(f\"Pearson correlation coefficient: {correlation}\")\n",
    "print(f\"P-value: {p_value}\")\n"
   ]
  },
  {
   "cell_type": "code",
   "execution_count": 148,
   "metadata": {},
   "outputs": [
    {
     "name": "stdout",
     "output_type": "stream",
     "text": [
      "Pearson correlation coefficient: -0.016784940592955065\n",
      "P-value: 0.5912504742800362\n",
      "\n",
      "Pearson correlation coefficient: -0.029573155280214435\n",
      "P-value: 0.2282094611464778\n",
      "\n",
      "Pearson correlation coefficient: -0.04583961816423092\n",
      "P-value: 0.037031813837658877\n",
      "\n",
      "Pearson correlation coefficient: -0.02523683795479702\n",
      "P-value: 0.2229314267752881\n",
      "\n",
      "Pearson correlation coefficient: -0.028658332175571226\n",
      "P-value: 0.14513045456881205\n",
      "\n",
      "Pearson correlation coefficient: -0.03265573101853256\n",
      "P-value: 0.08197103823450141\n",
      "\n",
      "Pearson correlation coefficient: -0.034417428053187746\n",
      "P-value: 0.058184962751153015\n",
      "\n",
      "Pearson correlation coefficient: -0.0380929516986977\n",
      "P-value: 0.030602522656067808\n",
      "\n",
      "Pearson correlation coefficient: -0.028928724726121145\n",
      "P-value: 0.09017474339224368\n",
      "\n",
      "Pearson correlation coefficient: -0.026597588876110984\n",
      "P-value: 0.10969397846124312\n",
      "\n"
     ]
    }
   ],
   "source": [
    "for i in range(10):\n",
    "    low_rated_index = np.any(prediction_scores <= i, axis=1)\n",
    "    flatten_low_scores = prediction_scores[low_rated_index].astype(np.int32)\n",
    "\n",
    "    correlation, p_value = pearsonr(flatten_low_scores.reshape(-1), [800, 1100, 1400, 1700, 2000, 2300]*flatten_low_scores.shape[0])\n",
    "\n",
    "    print(f\"Pearson correlation coefficient: {correlation}\")\n",
    "    print(f\"P-value: {p_value}\")\n",
    "    print()\n"
   ]
  }
 ],
 "metadata": {
  "kernelspec": {
   "display_name": "venv",
   "language": "python",
   "name": "python3"
  },
  "language_info": {
   "codemirror_mode": {
    "name": "ipython",
    "version": 3
   },
   "file_extension": ".py",
   "mimetype": "text/x-python",
   "name": "python",
   "nbconvert_exporter": "python",
   "pygments_lexer": "ipython3",
   "version": "3.11.6"
  }
 },
 "nbformat": 4,
 "nbformat_minor": 2
}
