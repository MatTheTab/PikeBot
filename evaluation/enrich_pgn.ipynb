{
 "cells": [
  {
   "cell_type": "code",
   "execution_count": 1,
   "metadata": {},
   "outputs": [],
   "source": [
    "import sys\n",
    "import os\n",
    "current_dir = os.getcwd()\n",
    "parent_dir = os.path.abspath(os.path.join(current_dir, '..'))\n",
    "sys.path.append(parent_dir)\n",
    "import pandas as pd\n",
    "from utils.utils import get_paths\n",
    "from utils.pikeBot_chess_utils import PikeBotModelWrapper, Pikebot\n",
    "from evaluation_utils import load_pgn, set_engine_history, get_move_evaluation_pairs\n",
    "from enrich_pgn import add_move_evaluation"
   ]
  },
  {
   "cell_type": "code",
   "execution_count": 2,
   "metadata": {},
   "outputs": [],
   "source": [
    "config=get_paths()\n",
    "\n",
    "model = PikeBotModelWrapper(\n",
    "    config['pikebot'],\n",
    "    config['preprocessing_params_path']\n",
    ")\n",
    "engine = Pikebot(\n",
    "    model,\n",
    "    None,\n",
    "    config[\"stockfish_path\"],\n",
    ")\n"
   ]
  },
  {
   "cell_type": "code",
   "execution_count": 3,
   "metadata": {},
   "outputs": [],
   "source": [
    "used_dir = 'results\\MaiaChess_Pikebot_bias-openings_-2_Wed_Nov_13_22-04-25_2024'\n",
    "game_dir = os.path.join(used_dir, 'games')\n",
    "if not os.path.isdir(game_dir):\n",
    "    print(\"not game directory!\")\n",
    "else:\n",
    "    os.makedirs(os.path.join(used_dir, 'enriched_games'), exist_ok=True)\n",
    "    os.makedirs(os.path.join(used_dir, 'move_predictions'), exist_ok=True)"
   ]
  },
  {
   "cell_type": "code",
   "execution_count": 5,
   "metadata": {},
   "outputs": [],
   "source": [
    "for file_name in os.listdir(game_dir):\n",
    "    if file_name.endswith('pgn'):\n",
    "        path = os.path.join(game_dir, file_name)\n",
    "        games = load_pgn(path)\n",
    "        all_evaluations = list()\n",
    "        with open(os.path.join(used_dir, 'enriched_games', file_name), 'w') as output_file:\n",
    "            for game in games:\n",
    "                enriched_game, move_predictions = add_move_evaluation(game, engine, model)\n",
    "            output_file.write(enriched_game)\n",
    "            output_file.write('\\n\\n')\n",
    "            all_evaluations.extend(move_predictions)\n",
    "            \n",
    "        all_evaluations_df = pd.DataFrame(all_evaluations)\n",
    "        all_evaluations_df.to_csv(os.path.join(used_dir, \"move_predictions\", f\"{file_name[:-4]}.csv\"), index=False)"
   ]
  }
 ],
 "metadata": {
  "kernelspec": {
   "display_name": "venv",
   "language": "python",
   "name": "python3"
  },
  "language_info": {
   "codemirror_mode": {
    "name": "ipython",
    "version": 3
   },
   "file_extension": ".py",
   "mimetype": "text/x-python",
   "name": "python",
   "nbconvert_exporter": "python",
   "pygments_lexer": "ipython3",
   "version": "3.11.6"
  }
 },
 "nbformat": 4,
 "nbformat_minor": 2
}
