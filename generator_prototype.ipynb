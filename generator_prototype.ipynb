{
 "cells": [
  {
   "cell_type": "code",
   "execution_count": 2,
   "metadata": {},
   "outputs": [],
   "source": [
    "import os\n",
    "\n",
    "import pandas as pd\n",
    "import tensorflow as tf\n",
    "from utils.data_utils import * \n",
    "class NPYSequence(tf.keras.utils.Sequence):\n",
    "    def __init__(self, folder_path, column_names_file, batch_size=32):\n",
    "        self.folder_path = folder_path\n",
    "        self.column_names_file = column_names_file\n",
    "        self.batch_size = batch_size\n",
    "        self.file_names = os.listdir(folder_path)\n",
    "        self.file_names = [f for f in self.file_names if f.endswith('.npy.gz')]\n",
    "        self.total_samples = self.calculate_total_samples()\n",
    "        self.current_data = None\n",
    "        self.current_index=0\n",
    "        self.load_next_file()\n",
    "        \n",
    "    def calculate_total_samples(self):\n",
    "        total_samples = 0\n",
    "        for file_name in self.file_names:\n",
    "            file_path = os.path.join(self.folder_path, file_name)\n",
    "            data = read(file_path, self.column_names_file)\n",
    "            total_samples += len(data)\n",
    "        return total_samples\n",
    "    \n",
    "    def __len__(self):\n",
    "        return self.total_samples // self.batch_size\n",
    "    \n",
    "    \n",
    "    def __getitem__(self, index):\n",
    "        start_index = index * self.batch_size - self.current_index\n",
    "        end_index = start_index + self.batch_size \n",
    "        batch_data = self.current_data.iloc[start_index:end_index]\n",
    " \n",
    "        if len(batch_data) < self.batch_size:\n",
    "            \n",
    "            self.load_next_file()\n",
    "            start_index = 0\n",
    "            end_index = self.batch_size-len(batch_data)\n",
    "            \n",
    "            batch_data = pd.concat([batch_data, self.current_data.iloc[start_index:end_index]], axis=0)\n",
    "            self.current_index = index * self.batch_size + len(batch_data)\n",
    "        return batch_data\n",
    "    \n",
    "    def load_next_file(self):\n",
    "        if not self.file_names:\n",
    "            return\n",
    "        file_name = self.file_names.pop(0)\n",
    "      \n",
    "        file_path = os.path.join(self.folder_path, file_name)\n",
    "\n",
    "        self.current_index=0\n",
    "        self.current_data = read(file_path, self.column_names_file)\n",
    "    \n",
    "    \n",
    "\n",
    "data_folder = './Small_Preprocessed_Data/Train'\n",
    "column_names_file = './Small_Preprocessed_Data/Train/column_names.txt'\n",
    "batch_size = 64\n",
    "\n",
    "data_generator = NPYSequence(data_folder, column_names_file, batch_size=batch_size)\n",
    "\n"
   ]
  },
  {
   "cell_type": "code",
   "execution_count": 3,
   "metadata": {},
   "outputs": [
    {
     "data": {
      "text/plain": [
       "34"
      ]
     },
     "execution_count": 3,
     "metadata": {},
     "output_type": "execute_result"
    }
   ],
   "source": [
    "data_generator.__len__()"
   ]
  },
  {
   "cell_type": "code",
   "execution_count": 8,
   "metadata": {},
   "outputs": [
    {
     "name": "stdout",
     "output_type": "stream",
     "text": [
      "0\n",
      "1\n",
      "2\n",
      "3\n",
      "4\n",
      "5\n",
      "6\n",
      "7\n",
      "8\n",
      "9\n",
      "10\n",
      "11\n",
      "12\n",
      "13\n",
      "14\n",
      "15\n",
      "16\n",
      "17\n",
      "18\n",
      "19\n",
      "20\n",
      "21\n",
      "22\n",
      "23\n",
      "24\n",
      "25\n",
      "26\n",
      "27\n",
      "28\n",
      "29\n",
      "30\n",
      "31\n",
      "32\n",
      "33\n"
     ]
    }
   ],
   "source": [
    "i=0\n",
    "for b in data_generator:\n",
    "\n",
    "    print(i)\n",
    "    i+=1"
   ]
  }
 ],
 "metadata": {
  "kernelspec": {
   "display_name": "Python 3",
   "language": "python",
   "name": "python3"
  },
  "language_info": {
   "codemirror_mode": {
    "name": "ipython",
    "version": 3
   },
   "file_extension": ".py",
   "mimetype": "text/x-python",
   "name": "python",
   "nbconvert_exporter": "python",
   "pygments_lexer": "ipython3",
   "version": "3.10.0"
  }
 },
 "nbformat": 4,
 "nbformat_minor": 2
}
