{
 "cells": [
  {
   "cell_type": "code",
   "execution_count": 1,
   "metadata": {},
   "outputs": [],
   "source": [
    "import os\n",
    "import pandas as pd\n",
    "import tensorflow as tf\n",
    "import torch\n",
    "from torch.utils.data import Dataset, DataLoader\n",
    "from utils.data_utils import * \n",
    "import time\n",
    "import pickle"
   ]
  },
  {
   "cell_type": "code",
   "execution_count": 2,
   "metadata": {},
   "outputs": [],
   "source": [
    "def save_object(object, file_path):\n",
    "    with open(file_path, 'wb') as f:\n",
    "        pickle.dump(object, f)\n",
    "\n",
    "def load_object(file_path):\n",
    "    with open(file_path, 'rb') as f:\n",
    "        loaded_object = pickle.load(f)\n",
    "    return loaded_object"
   ]
  },
  {
   "cell_type": "code",
   "execution_count": 3,
   "metadata": {},
   "outputs": [],
   "source": [
    "class NPYSequence(tf.keras.utils.Sequence):\n",
    "    def __init__(self, folder_path, column_names_file, batch_size=32, target_column = \"human\"):\n",
    "        self.folder_path = folder_path\n",
    "        self.column_names_file = column_names_file\n",
    "        self.batch_size = batch_size\n",
    "        self.file_names = os.listdir(folder_path)\n",
    "        self.file_names = [f for f in self.file_names if f.endswith('.npy.gz')]\n",
    "        self.total_samples = self.calculate_total_samples()\n",
    "        self.current_data = None\n",
    "        self.target_column = target_column\n",
    "        self.load_next_file()\n",
    "        \n",
    "    def calculate_total_samples(self):\n",
    "        total_samples = 0\n",
    "        for file_name in self.file_names:\n",
    "            file_path = os.path.join(self.folder_path, file_name)\n",
    "            data = read(file_path, self.column_names_file)\n",
    "            total_samples += len(data)\n",
    "        return total_samples\n",
    "    \n",
    "    def __len__(self):\n",
    "        return self.total_samples // self.batch_size\n",
    "    \n",
    "    \n",
    "    def __getitem__(self, index):\n",
    "        start_index = index * self.batch_size - self.current_index\n",
    "        end_index = start_index + self.batch_size \n",
    "        if self.current_data is None:\n",
    "            return None, None\n",
    "        batch_data = self.current_data.iloc[start_index:end_index]\n",
    " \n",
    "        if len(batch_data) < self.batch_size:\n",
    "            \n",
    "            self.load_next_file()\n",
    "            start_index = 0\n",
    "            end_index = self.batch_size-len(batch_data)\n",
    "            \n",
    "            if self.current_data is not None:\n",
    "                batch_data = pd.concat([batch_data, self.current_data.iloc[start_index:end_index]], axis=0)\n",
    "                self.current_index = index * self.batch_size + len(batch_data)\n",
    "        X = batch_data.drop(columns = [self.target_column])\n",
    "        X = X.values\n",
    "        y = batch_data[self.target_column]\n",
    "        y = y.values\n",
    "        return X, y\n",
    "    \n",
    "    def load_next_file(self):\n",
    "        if not self.file_names:\n",
    "            self.current_data = None\n",
    "            return\n",
    "        file_name = self.file_names.pop(0)\n",
    "        file_path = os.path.join(self.folder_path, file_name)\n",
    "        self.current_index=0\n",
    "        self.current_data = read(file_path, self.column_names_file)\n",
    "    \n",
    "    \n",
    "\n",
    "data_folder = './Temp_Data/Train'\n",
    "column_names_file = './Temp_Data/Train/column_names.txt'\n",
    "batch_size = 64\n",
    "\n",
    "data_generator_tf = NPYSequence(data_folder, column_names_file, batch_size=batch_size)"
   ]
  },
  {
   "cell_type": "code",
   "execution_count": 12,
   "metadata": {},
   "outputs": [],
   "source": [
    "class ChessDataset(Dataset):\n",
    "    def __init__(self, folder_path, column_names_file, target_column = \"human\"):\n",
    "        self.folder_path = folder_path\n",
    "        self.column_names_file = column_names_file\n",
    "        self.file_names = os.listdir(folder_path)\n",
    "        self.file_names = [f for f in self.file_names if f.endswith('.npy.gz')]\n",
    "        self.total_samples = self.calculate_total_samples()\n",
    "        self.current_data = None\n",
    "        self.past_index = 0\n",
    "        self.target_column = target_column\n",
    "        self.load_next_file()\n",
    "\n",
    "    def calculate_total_samples(self):\n",
    "        total_samples = 0\n",
    "        for file_name in self.file_names:\n",
    "            file_path = os.path.join(self.folder_path, file_name)\n",
    "            data = read(file_path, self.column_names_file)\n",
    "            total_samples += len(data)\n",
    "        return total_samples\n",
    "\n",
    "    def __len__(self):\n",
    "        return self.total_samples\n",
    "    \n",
    "    def __getitem__(self, index):\n",
    "        if index - self.past_index >= len(self.current_data):\n",
    "            self.load_next_file()\n",
    "        new_idx = index - self.past_index\n",
    "        try:\n",
    "            row = self.current_data.iloc[new_idx]\n",
    "            X = row.drop(columns = [self.target_column])\n",
    "            X = X.values\n",
    "        except:\n",
    "            print(new_idx)\n",
    "            print(index)\n",
    "            print(len(self.current_data))\n",
    "            print(self.past_index)\n",
    "        y = row[self.target_column]\n",
    "        return X, y\n",
    "    \n",
    "    def load_next_file(self):\n",
    "        if self.current_data is not None:\n",
    "            self.past_index += len(self.current_data)\n",
    "        if not len(self.file_names):\n",
    "            return\n",
    "        file_name = self.file_names.pop(0)\n",
    "        file_path = os.path.join(self.folder_path, file_name)\n",
    "        self.current_data = read(file_path, self.column_names_file)\n",
    "\n",
    "data_folder = './Temp_Data/Train'\n",
    "column_names_file = './Temp_Data/Train/column_names.txt'\n",
    "batch_size = 64\n",
    "\n",
    "chess_dataset_pt = ChessDataset(data_folder, column_names_file)\n",
    "chess_loader_pt = DataLoader(chess_dataset_pt, batch_size=batch_size, shuffle=True)"
   ]
  },
  {
   "cell_type": "code",
   "execution_count": 5,
   "metadata": {},
   "outputs": [
    {
     "data": {
      "text/plain": [
       "4204"
      ]
     },
     "execution_count": 5,
     "metadata": {},
     "output_type": "execute_result"
    }
   ],
   "source": [
    "data_generator_tf.__len__()"
   ]
  },
  {
   "cell_type": "code",
   "execution_count": 6,
   "metadata": {},
   "outputs": [
    {
     "data": {
      "text/plain": [
       "269096"
      ]
     },
     "execution_count": 6,
     "metadata": {},
     "output_type": "execute_result"
    }
   ],
   "source": [
    "chess_dataset_pt.__len__()"
   ]
  },
  {
   "cell_type": "code",
   "execution_count": 7,
   "metadata": {},
   "outputs": [
    {
     "data": {
      "text/plain": [
       "4205"
      ]
     },
     "execution_count": 7,
     "metadata": {},
     "output_type": "execute_result"
    }
   ],
   "source": [
    "len(chess_loader_pt)"
   ]
  },
  {
   "cell_type": "code",
   "execution_count": 8,
   "metadata": {},
   "outputs": [
    {
     "name": "stdout",
     "output_type": "stream",
     "text": [
      "Broke here\n"
     ]
    }
   ],
   "source": [
    "i=0\n",
    "\n",
    "start_time = time.time()\n",
    "for x,y in data_generator_tf:\n",
    "    if x is None and y is None:\n",
    "        break\n",
    "    i+=1\n",
    "end_time = time.time()\n",
    "elapsed_time_tf = end_time - start_time"
   ]
  },
  {
   "cell_type": "code",
   "execution_count": 13,
   "metadata": {},
   "outputs": [
    {
     "ename": "TypeError",
     "evalue": "default_collate: batch must contain tensors, numpy arrays, numbers, dicts or lists; found object",
     "output_type": "error",
     "traceback": [
      "\u001b[1;31m---------------------------------------------------------------------------\u001b[0m",
      "\u001b[1;31mTypeError\u001b[0m                                 Traceback (most recent call last)",
      "Cell \u001b[1;32mIn[13], line 4\u001b[0m\n\u001b[0;32m      1\u001b[0m i\u001b[38;5;241m=\u001b[39m\u001b[38;5;241m0\u001b[39m\n\u001b[0;32m      3\u001b[0m start_time \u001b[38;5;241m=\u001b[39m time\u001b[38;5;241m.\u001b[39mtime()\n\u001b[1;32m----> 4\u001b[0m \u001b[38;5;28;01mfor\u001b[39;00m b \u001b[38;5;129;01min\u001b[39;00m chess_loader_pt:\n\u001b[0;32m      5\u001b[0m     i\u001b[38;5;241m+\u001b[39m\u001b[38;5;241m=\u001b[39m\u001b[38;5;241m1\u001b[39m\n\u001b[0;32m      6\u001b[0m end_time \u001b[38;5;241m=\u001b[39m time\u001b[38;5;241m.\u001b[39mtime()\n",
      "File \u001b[1;32md:\\PikeBot\\Current\\PikeBot\\PikeBot_Model_Env\\lib\\site-packages\\torch\\utils\\data\\dataloader.py:631\u001b[0m, in \u001b[0;36m_BaseDataLoaderIter.__next__\u001b[1;34m(self)\u001b[0m\n\u001b[0;32m    628\u001b[0m \u001b[38;5;28;01mif\u001b[39;00m \u001b[38;5;28mself\u001b[39m\u001b[38;5;241m.\u001b[39m_sampler_iter \u001b[38;5;129;01mis\u001b[39;00m \u001b[38;5;28;01mNone\u001b[39;00m:\n\u001b[0;32m    629\u001b[0m     \u001b[38;5;66;03m# TODO(https://github.com/pytorch/pytorch/issues/76750)\u001b[39;00m\n\u001b[0;32m    630\u001b[0m     \u001b[38;5;28mself\u001b[39m\u001b[38;5;241m.\u001b[39m_reset()  \u001b[38;5;66;03m# type: ignore[call-arg]\u001b[39;00m\n\u001b[1;32m--> 631\u001b[0m data \u001b[38;5;241m=\u001b[39m \u001b[38;5;28;43mself\u001b[39;49m\u001b[38;5;241;43m.\u001b[39;49m\u001b[43m_next_data\u001b[49m\u001b[43m(\u001b[49m\u001b[43m)\u001b[49m\n\u001b[0;32m    632\u001b[0m \u001b[38;5;28mself\u001b[39m\u001b[38;5;241m.\u001b[39m_num_yielded \u001b[38;5;241m+\u001b[39m\u001b[38;5;241m=\u001b[39m \u001b[38;5;241m1\u001b[39m\n\u001b[0;32m    633\u001b[0m \u001b[38;5;28;01mif\u001b[39;00m \u001b[38;5;28mself\u001b[39m\u001b[38;5;241m.\u001b[39m_dataset_kind \u001b[38;5;241m==\u001b[39m _DatasetKind\u001b[38;5;241m.\u001b[39mIterable \u001b[38;5;129;01mand\u001b[39;00m \\\n\u001b[0;32m    634\u001b[0m         \u001b[38;5;28mself\u001b[39m\u001b[38;5;241m.\u001b[39m_IterableDataset_len_called \u001b[38;5;129;01mis\u001b[39;00m \u001b[38;5;129;01mnot\u001b[39;00m \u001b[38;5;28;01mNone\u001b[39;00m \u001b[38;5;129;01mand\u001b[39;00m \\\n\u001b[0;32m    635\u001b[0m         \u001b[38;5;28mself\u001b[39m\u001b[38;5;241m.\u001b[39m_num_yielded \u001b[38;5;241m>\u001b[39m \u001b[38;5;28mself\u001b[39m\u001b[38;5;241m.\u001b[39m_IterableDataset_len_called:\n",
      "File \u001b[1;32md:\\PikeBot\\Current\\PikeBot\\PikeBot_Model_Env\\lib\\site-packages\\torch\\utils\\data\\dataloader.py:675\u001b[0m, in \u001b[0;36m_SingleProcessDataLoaderIter._next_data\u001b[1;34m(self)\u001b[0m\n\u001b[0;32m    673\u001b[0m \u001b[38;5;28;01mdef\u001b[39;00m \u001b[38;5;21m_next_data\u001b[39m(\u001b[38;5;28mself\u001b[39m):\n\u001b[0;32m    674\u001b[0m     index \u001b[38;5;241m=\u001b[39m \u001b[38;5;28mself\u001b[39m\u001b[38;5;241m.\u001b[39m_next_index()  \u001b[38;5;66;03m# may raise StopIteration\u001b[39;00m\n\u001b[1;32m--> 675\u001b[0m     data \u001b[38;5;241m=\u001b[39m \u001b[38;5;28;43mself\u001b[39;49m\u001b[38;5;241;43m.\u001b[39;49m\u001b[43m_dataset_fetcher\u001b[49m\u001b[38;5;241;43m.\u001b[39;49m\u001b[43mfetch\u001b[49m\u001b[43m(\u001b[49m\u001b[43mindex\u001b[49m\u001b[43m)\u001b[49m  \u001b[38;5;66;03m# may raise StopIteration\u001b[39;00m\n\u001b[0;32m    676\u001b[0m     \u001b[38;5;28;01mif\u001b[39;00m \u001b[38;5;28mself\u001b[39m\u001b[38;5;241m.\u001b[39m_pin_memory:\n\u001b[0;32m    677\u001b[0m         data \u001b[38;5;241m=\u001b[39m _utils\u001b[38;5;241m.\u001b[39mpin_memory\u001b[38;5;241m.\u001b[39mpin_memory(data, \u001b[38;5;28mself\u001b[39m\u001b[38;5;241m.\u001b[39m_pin_memory_device)\n",
      "File \u001b[1;32md:\\PikeBot\\Current\\PikeBot\\PikeBot_Model_Env\\lib\\site-packages\\torch\\utils\\data\\_utils\\fetch.py:54\u001b[0m, in \u001b[0;36m_MapDatasetFetcher.fetch\u001b[1;34m(self, possibly_batched_index)\u001b[0m\n\u001b[0;32m     52\u001b[0m \u001b[38;5;28;01melse\u001b[39;00m:\n\u001b[0;32m     53\u001b[0m     data \u001b[38;5;241m=\u001b[39m \u001b[38;5;28mself\u001b[39m\u001b[38;5;241m.\u001b[39mdataset[possibly_batched_index]\n\u001b[1;32m---> 54\u001b[0m \u001b[38;5;28;01mreturn\u001b[39;00m \u001b[38;5;28;43mself\u001b[39;49m\u001b[38;5;241;43m.\u001b[39;49m\u001b[43mcollate_fn\u001b[49m\u001b[43m(\u001b[49m\u001b[43mdata\u001b[49m\u001b[43m)\u001b[49m\n",
      "File \u001b[1;32md:\\PikeBot\\Current\\PikeBot\\PikeBot_Model_Env\\lib\\site-packages\\torch\\utils\\data\\_utils\\collate.py:316\u001b[0m, in \u001b[0;36mdefault_collate\u001b[1;34m(batch)\u001b[0m\n\u001b[0;32m    255\u001b[0m \u001b[38;5;28;01mdef\u001b[39;00m \u001b[38;5;21mdefault_collate\u001b[39m(batch):\n\u001b[0;32m    256\u001b[0m \u001b[38;5;250m    \u001b[39m\u001b[38;5;124mr\u001b[39m\u001b[38;5;124;03m\"\"\"\u001b[39;00m\n\u001b[0;32m    257\u001b[0m \u001b[38;5;124;03m    Take in a batch of data and put the elements within the batch into a tensor with an additional outer dimension - batch size.\u001b[39;00m\n\u001b[0;32m    258\u001b[0m \n\u001b[1;32m   (...)\u001b[0m\n\u001b[0;32m    314\u001b[0m \u001b[38;5;124;03m        >>> default_collate(batch)  # Handle `CustomType` automatically\u001b[39;00m\n\u001b[0;32m    315\u001b[0m \u001b[38;5;124;03m    \"\"\"\u001b[39;00m\n\u001b[1;32m--> 316\u001b[0m     \u001b[38;5;28;01mreturn\u001b[39;00m \u001b[43mcollate\u001b[49m\u001b[43m(\u001b[49m\u001b[43mbatch\u001b[49m\u001b[43m,\u001b[49m\u001b[43m \u001b[49m\u001b[43mcollate_fn_map\u001b[49m\u001b[38;5;241;43m=\u001b[39;49m\u001b[43mdefault_collate_fn_map\u001b[49m\u001b[43m)\u001b[49m\n",
      "File \u001b[1;32md:\\PikeBot\\Current\\PikeBot\\PikeBot_Model_Env\\lib\\site-packages\\torch\\utils\\data\\_utils\\collate.py:141\u001b[0m, in \u001b[0;36mcollate\u001b[1;34m(batch, collate_fn_map)\u001b[0m\n\u001b[0;32m    139\u001b[0m \u001b[38;5;28;01mif\u001b[39;00m collate_fn_map \u001b[38;5;129;01mis\u001b[39;00m \u001b[38;5;129;01mnot\u001b[39;00m \u001b[38;5;28;01mNone\u001b[39;00m:\n\u001b[0;32m    140\u001b[0m     \u001b[38;5;28;01mif\u001b[39;00m elem_type \u001b[38;5;129;01min\u001b[39;00m collate_fn_map:\n\u001b[1;32m--> 141\u001b[0m         \u001b[38;5;28;01mreturn\u001b[39;00m \u001b[43mcollate_fn_map\u001b[49m\u001b[43m[\u001b[49m\u001b[43melem_type\u001b[49m\u001b[43m]\u001b[49m\u001b[43m(\u001b[49m\u001b[43mbatch\u001b[49m\u001b[43m,\u001b[49m\u001b[43m \u001b[49m\u001b[43mcollate_fn_map\u001b[49m\u001b[38;5;241;43m=\u001b[39;49m\u001b[43mcollate_fn_map\u001b[49m\u001b[43m)\u001b[49m\n\u001b[0;32m    143\u001b[0m     \u001b[38;5;28;01mfor\u001b[39;00m collate_type \u001b[38;5;129;01min\u001b[39;00m collate_fn_map:\n\u001b[0;32m    144\u001b[0m         \u001b[38;5;28;01mif\u001b[39;00m \u001b[38;5;28misinstance\u001b[39m(elem, collate_type):\n",
      "File \u001b[1;32md:\\PikeBot\\Current\\PikeBot\\PikeBot_Model_Env\\lib\\site-packages\\torch\\utils\\data\\_utils\\collate.py:220\u001b[0m, in \u001b[0;36mcollate_numpy_array_fn\u001b[1;34m(batch, collate_fn_map)\u001b[0m\n\u001b[0;32m    218\u001b[0m \u001b[38;5;66;03m# array of string classes and object\u001b[39;00m\n\u001b[0;32m    219\u001b[0m \u001b[38;5;28;01mif\u001b[39;00m np_str_obj_array_pattern\u001b[38;5;241m.\u001b[39msearch(elem\u001b[38;5;241m.\u001b[39mdtype\u001b[38;5;241m.\u001b[39mstr) \u001b[38;5;129;01mis\u001b[39;00m \u001b[38;5;129;01mnot\u001b[39;00m \u001b[38;5;28;01mNone\u001b[39;00m:\n\u001b[1;32m--> 220\u001b[0m     \u001b[38;5;28;01mraise\u001b[39;00m \u001b[38;5;167;01mTypeError\u001b[39;00m(default_collate_err_msg_format\u001b[38;5;241m.\u001b[39mformat(elem\u001b[38;5;241m.\u001b[39mdtype))\n\u001b[0;32m    222\u001b[0m \u001b[38;5;28;01mreturn\u001b[39;00m collate([torch\u001b[38;5;241m.\u001b[39mas_tensor(b) \u001b[38;5;28;01mfor\u001b[39;00m b \u001b[38;5;129;01min\u001b[39;00m batch], collate_fn_map\u001b[38;5;241m=\u001b[39mcollate_fn_map)\n",
      "\u001b[1;31mTypeError\u001b[0m: default_collate: batch must contain tensors, numpy arrays, numbers, dicts or lists; found object"
     ]
    }
   ],
   "source": [
    "i=0\n",
    "\n",
    "start_time = time.time()\n",
    "for b in chess_loader_pt:\n",
    "    i+=1\n",
    "end_time = time.time()\n",
    "elapsed_time_torch = end_time - start_time"
   ]
  },
  {
   "cell_type": "code",
   "execution_count": null,
   "metadata": {},
   "outputs": [],
   "source": [
    "save_object(data_generator_tf, \"./Generators\\\\tf_generator.pkl\")\n",
    "data_generator_tf = load_object(\"./Generators\\\\tf_generator.pkl\")\n",
    "data_generator_tf.__len__()"
   ]
  },
  {
   "cell_type": "code",
   "execution_count": null,
   "metadata": {},
   "outputs": [],
   "source": [
    "save_object(chess_loader_pt, \"./Generators\\\\chess_loader.pkl\")\n",
    "chess_loader_pt = load_object(\"./Generators\\\\chess_loader.pkl\")\n",
    "len(chess_loader_pt)"
   ]
  },
  {
   "cell_type": "code",
   "execution_count": null,
   "metadata": {},
   "outputs": [],
   "source": [
    "print(f\"Tensoflow all data reading time: {elapsed_time_tf}\")\n",
    "print(f\"Pytorch all data reading time: {elapsed_time_torch}\")"
   ]
  }
 ],
 "metadata": {
  "kernelspec": {
   "display_name": "Python 3",
   "language": "python",
   "name": "python3"
  },
  "language_info": {
   "codemirror_mode": {
    "name": "ipython",
    "version": 3
   },
   "file_extension": ".py",
   "mimetype": "text/x-python",
   "name": "python",
   "nbconvert_exporter": "python",
   "pygments_lexer": "ipython3",
   "version": "3.10.6"
  }
 },
 "nbformat": 4,
 "nbformat_minor": 2
}
