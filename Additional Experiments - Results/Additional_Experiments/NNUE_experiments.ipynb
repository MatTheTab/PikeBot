{
 "cells": [
  {
   "cell_type": "markdown",
   "metadata": {},
   "source": [
    "# Extra: NNUE Experiments"
   ]
  },
  {
   "cell_type": "markdown",
   "metadata": {},
   "source": [
    "## Imports"
   ]
  },
  {
   "cell_type": "code",
   "execution_count": 8,
   "metadata": {},
   "outputs": [],
   "source": [
    "from utils.NNUE_utils import *"
   ]
  },
  {
   "cell_type": "markdown",
   "metadata": {},
   "source": [
    "## Variables Definitions"
   ]
  },
  {
   "cell_type": "code",
   "execution_count": 9,
   "metadata": {},
   "outputs": [],
   "source": [
    "train_game_file_path = \"/home/user/Desktop/PikeBot/PikeBot/Data/Train/lichess_db_standard_rated_2024-01.pgn.zst\"\n",
    "val_game_file_path = \"/home/user/Desktop/PikeBot/PikeBot/Data/Val/lichess_db_standard_rated_2024-02.pgn.zst\"\n",
    "test_game_file_path = \"/home/user/Desktop/PikeBot/PikeBot/Data/Test/lichess_db_standard_rated_2024-03.pgn.zst\"\n",
    "train_max_num_games = 500000\n",
    "val_max_num_games = 50000\n",
    "test_max_num_games = 50000\n",
    "save_interval = 1000\n",
    "verbose_training = 1\n",
    "verbose_preprocessing = 0\n",
    "data_dir = \"/Data\"\n",
    "\n",
    "# Change the default path assignment (stockfish_default_path) depending on your operating system (windows or linux)\n",
    "stockfish_path_linux=\"./stockfish/stockfish_linux/stockfish-ubuntu-x86-64-avx2\"\n",
    "stockfish_path_windows = \"./stockfish/stockfish_windows/stockfish-windows-x86-64-avx2.exe\"\n",
    "stockfish_path = stockfish_path_linux\n",
    "\n",
    "stockfish_depth = 8\n",
    "time_limit = None\n",
    "mate_score = 900\n",
    "shuffle = True\n",
    "preprocessing_means_y_cols = [(None, \"Relative Stockfish Ratio\"), (None, \"Stockfish Score\"), (None, \"Moves Left\")]\n",
    "\n",
    "metadata_location = \"./Metadata\"\n",
    "x_col = \"NNUE representation\"\n",
    "log_dir = \"./Training_Logs\"\n",
    "output_activation_list = [\"linear\"]\n",
    "complete_train_dir = \"./Train\"\n",
    "complete_val_dir = \"./Val\"\n",
    "complete_test_dir = \"./Test\"\n",
    "loss_list = [nn.MSELoss()]\n",
    "epochs = 50\n",
    "early_callback = True\n",
    "early_callback_epochs = 10\n",
    "models_dir = \"./Models\"\n",
    "model_name = \"model_test\"\n",
    "results_save_path = \"./Results.csv.gz\"\n",
    "track_accuracy = False\n",
    "batch_size = 4096\n",
    "lr = 2e-5"
   ]
  },
  {
   "cell_type": "markdown",
   "metadata": {},
   "source": [
    "## Experiments"
   ]
  },
  {
   "cell_type": "code",
   "execution_count": 10,
   "metadata": {},
   "outputs": [
    {
     "name": "stdout",
     "output_type": "stream",
     "text": [
      "Device: cuda\n",
      "Training Model: None Relative Stockfish Ratio linear MSELoss()\n"
     ]
    }
   ],
   "source": [
    "device = \"cuda\" if torch.cuda.is_available else \"cpu\"\n",
    "print(f\"Device: {device}\")\n",
    "\n",
    "complete_experiments(train_game_file_path, val_game_file_path, test_game_file_path, train_max_num_games, val_max_num_games, test_max_num_games, save_interval, \n",
    "                verbose_training, verbose_preprocessing, stockfish_path, stockfish_depth, time_limit, mate_score, shuffle, metadata_location, x_col, preprocessing_means_y_cols,\n",
    "                log_dir, output_activation_list, complete_train_dir, complete_val_dir, complete_test_dir, loss_list, epochs, early_callback, early_callback_epochs, models_dir, lr, batch_size,\n",
    "                results_save_path, device)"
   ]
  },
  {
   "cell_type": "markdown",
   "metadata": {},
   "source": [
    "## Sanity Check"
   ]
  },
  {
   "cell_type": "code",
   "execution_count": null,
   "metadata": {},
   "outputs": [],
   "source": [
    "df = pd.read_csv(\"./Data/chess_games_batch_1.csv.gz\", index=False, compression=\"gzip\")\n",
    "df.head()"
   ]
  }
 ],
 "metadata": {
  "kernelspec": {
   "display_name": "PikeBot",
   "language": "python",
   "name": "python3"
  },
  "language_info": {
   "codemirror_mode": {
    "name": "ipython",
    "version": 3
   },
   "file_extension": ".py",
   "mimetype": "text/x-python",
   "name": "python",
   "nbconvert_exporter": "python",
   "pygments_lexer": "ipython3",
   "version": "3.10.6"
  }
 },
 "nbformat": 4,
 "nbformat_minor": 2
}
